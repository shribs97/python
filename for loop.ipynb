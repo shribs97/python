{
 "cells": [
  {
   "cell_type": "code",
   "execution_count": 1,
   "id": "93168db5",
   "metadata": {},
   "outputs": [
    {
     "name": "stdout",
     "output_type": "stream",
     "text": [
      "apple\n",
      "banana\n",
      "cherry\n"
     ]
    }
   ],
   "source": [
    "fruits=[\"apple\",\"banana\",\"cherry\"]\n",
    "for x in fruits :\n",
    "    print(x)"
   ]
  },
  {
   "cell_type": "code",
   "execution_count": 2,
   "id": "facfa4f0",
   "metadata": {},
   "outputs": [
    {
     "name": "stdout",
     "output_type": "stream",
     "text": [
      "S\n",
      "h\n",
      "r\n",
      "i\n",
      "d\n",
      "a\n",
      "t\n",
      "t\n",
      "a\n"
     ]
    }
   ],
   "source": [
    "for x in \"Shridatta\":\n",
    "    print(x)"
   ]
  },
  {
   "cell_type": "code",
   "execution_count": 4,
   "id": "dccc73ac",
   "metadata": {},
   "outputs": [
    {
     "name": "stdout",
     "output_type": "stream",
     "text": [
      "S\n",
      "h\n",
      "r\n",
      "i\n"
     ]
    }
   ],
   "source": [
    "y=\"Shri\"\n",
    "for x in y :\n",
    "    print(x)"
   ]
  },
  {
   "cell_type": "code",
   "execution_count": 5,
   "id": "f091eb5f",
   "metadata": {},
   "outputs": [
    {
     "name": "stdout",
     "output_type": "stream",
     "text": [
      "apple\n",
      "cherry\n"
     ]
    }
   ],
   "source": [
    "fruits=[\"apple\",\"banana\",\"cherry\"]\n",
    "for x in fruits :\n",
    "    if(x==\"banana\"):\n",
    "        continue\n",
    "    print(x)\n"
   ]
  },
  {
   "cell_type": "code",
   "execution_count": 8,
   "id": "c8d7787a",
   "metadata": {},
   "outputs": [
    {
     "name": "stdout",
     "output_type": "stream",
     "text": [
      "blue\n",
      "orange\n",
      "green\n",
      "yellow\n",
      "cyne\n"
     ]
    }
   ],
   "source": [
    "colour=[\"blue\",\"orange\",\"green\",\"red\",\"yellow\",\"cyne\"]\n",
    "for x in colour :\n",
    "    if(x==\"red\"):\n",
    "        pass\n",
    "    else:\n",
    "        print(x)"
   ]
  },
  {
   "cell_type": "code",
   "execution_count": 9,
   "id": "f4bd6e85",
   "metadata": {},
   "outputs": [
    {
     "name": "stdout",
     "output_type": "stream",
     "text": [
      "blue\n",
      "orange\n",
      "green\n"
     ]
    }
   ],
   "source": [
    "colour=[\"blue\",\"orange\",\"green\",\"red\",\"yellow\",\"cyne\"]\n",
    "for x in colour :\n",
    "    if(x==\"red\"):\n",
    "        break\n",
    "    print(x)"
   ]
  },
  {
   "cell_type": "code",
   "execution_count": 10,
   "id": "e27aaa97",
   "metadata": {},
   "outputs": [
    {
     "name": "stdout",
     "output_type": "stream",
     "text": [
      "blue\n",
      "orange\n",
      "green\n",
      "red\n",
      "yellow\n",
      "cyne\n",
      "All colours in list are finished !!\n"
     ]
    }
   ],
   "source": [
    "colour=[\"blue\",\"orange\",\"green\",\"red\",\"yellow\",\"cyne\"]\n",
    "for x in colour :\n",
    "        print(x)\n",
    "else :\n",
    "    print(\"All colours in list are finished !!\")"
   ]
  },
  {
   "cell_type": "code",
   "execution_count": 11,
   "id": "4e33b448",
   "metadata": {},
   "outputs": [
    {
     "name": "stdout",
     "output_type": "stream",
     "text": [
      "0\n",
      "1\n",
      "2\n",
      "3\n",
      "4\n",
      "5\n",
      "6\n",
      "7\n",
      "8\n",
      "9\n"
     ]
    }
   ],
   "source": [
    "# range\n",
    "i=0\n",
    "for i in range(10):\n",
    "    print(i)"
   ]
  },
  {
   "cell_type": "code",
   "execution_count": 12,
   "id": "7fd0154d",
   "metadata": {},
   "outputs": [
    {
     "name": "stdout",
     "output_type": "stream",
     "text": [
      "2\n",
      "3\n",
      "4\n",
      "5\n",
      "6\n",
      "7\n",
      "8\n",
      "9\n",
      "10\n",
      "11\n",
      "12\n",
      "13\n",
      "14\n",
      "15\n",
      "16\n",
      "17\n",
      "18\n",
      "19\n"
     ]
    }
   ],
   "source": [
    "i=1\n",
    "for i in range(2,20):\n",
    "    print(i)"
   ]
  },
  {
   "cell_type": "code",
   "execution_count": 13,
   "id": "1fe53b62",
   "metadata": {},
   "outputs": [
    {
     "name": "stdout",
     "output_type": "stream",
     "text": [
      "2\n",
      "7\n",
      "12\n",
      "17\n",
      "22\n",
      "27\n",
      "32\n",
      "37\n",
      "42\n",
      "47\n",
      "52\n",
      "57\n",
      "62\n",
      "67\n",
      "72\n",
      "77\n",
      "82\n",
      "87\n",
      "92\n",
      "97\n"
     ]
    }
   ],
   "source": [
    "i=0\n",
    "for i in range(2,100,5):\n",
    "    print(i)"
   ]
  },
  {
   "cell_type": "code",
   "execution_count": null,
   "id": "051b4c79",
   "metadata": {},
   "outputs": [],
   "source": []
  }
 ],
 "metadata": {
  "kernelspec": {
   "display_name": "Python 3 (ipykernel)",
   "language": "python",
   "name": "python3"
  },
  "language_info": {
   "codemirror_mode": {
    "name": "ipython",
    "version": 3
   },
   "file_extension": ".py",
   "mimetype": "text/x-python",
   "name": "python",
   "nbconvert_exporter": "python",
   "pygments_lexer": "ipython3",
   "version": "3.9.7"
  }
 },
 "nbformat": 4,
 "nbformat_minor": 5
}
