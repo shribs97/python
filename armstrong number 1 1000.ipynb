{
 "cells": [
  {
   "cell_type": "code",
   "execution_count": 6,
   "id": "a2e8fb90",
   "metadata": {},
   "outputs": [
    {
     "name": "stdout",
     "output_type": "stream",
     "text": [
      "Armstrong 1\n"
     ]
    }
   ],
   "source": [
    "num=0\n",
    "sum=0\n",
    "rem=0\n",
    "cube=0\n",
    "i=153\n",
    "for i in range(1000):\n",
    "    num=i\n",
    "    while(i>0):\n",
    "        rem=i%10\n",
    "        cube=rem**3\n",
    "        sum+=cube\n",
    "        i//=10\n",
    "        cube=0\n",
    "    if(num==sum):\n",
    "        print(\"Armstrong\",sum)\n",
    "        \n",
    "\n",
    "    \n",
    "    "
   ]
  },
  {
   "cell_type": "code",
   "execution_count": null,
   "id": "787053b8",
   "metadata": {},
   "outputs": [],
   "source": []
  }
 ],
 "metadata": {
  "kernelspec": {
   "display_name": "Python 3 (ipykernel)",
   "language": "python",
   "name": "python3"
  },
  "language_info": {
   "codemirror_mode": {
    "name": "ipython",
    "version": 3
   },
   "file_extension": ".py",
   "mimetype": "text/x-python",
   "name": "python",
   "nbconvert_exporter": "python",
   "pygments_lexer": "ipython3",
   "version": "3.9.7"
  }
 },
 "nbformat": 4,
 "nbformat_minor": 5
}
