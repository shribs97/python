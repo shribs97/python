{
 "cells": [
  {
   "cell_type": "code",
   "execution_count": 8,
   "id": "aa2eea2a",
   "metadata": {},
   "outputs": [
    {
     "name": "stdout",
     "output_type": "stream",
     "text": [
      "Enter a number156\n",
      "651\n",
      "Number is not Pallindrome\n"
     ]
    }
   ],
   "source": [
    "a=int(input(\"Enter a number\"))\n",
    "b=a\n",
    "rem=0\n",
    "rev=0\n",
    "while(a>0):\n",
    "    rem=a%10\n",
    "    rev=(rev*10)+(rem)\n",
    "    a//=10\n",
    "print(str(rev))\n",
    "if(b==rev):\n",
    "    print(\"Number is Pallindrome\")\n",
    "else:\n",
    "    print(\"Number is not Pallindrome\")"
   ]
  },
  {
   "cell_type": "code",
   "execution_count": null,
   "id": "5769efa1",
   "metadata": {},
   "outputs": [],
   "source": []
  },
  {
   "cell_type": "code",
   "execution_count": null,
   "id": "0887f1d2",
   "metadata": {},
   "outputs": [],
   "source": []
  }
 ],
 "metadata": {
  "kernelspec": {
   "display_name": "Python 3 (ipykernel)",
   "language": "python",
   "name": "python3"
  },
  "language_info": {
   "codemirror_mode": {
    "name": "ipython",
    "version": 3
   },
   "file_extension": ".py",
   "mimetype": "text/x-python",
   "name": "python",
   "nbconvert_exporter": "python",
   "pygments_lexer": "ipython3",
   "version": "3.9.7"
  }
 },
 "nbformat": 4,
 "nbformat_minor": 5
}
