{
 "cells": [
  {
   "cell_type": "code",
   "execution_count": 1,
   "id": "f3427222",
   "metadata": {},
   "outputs": [
    {
     "name": "stdout",
     "output_type": "stream",
     "text": [
      "Enter a number153\n",
      "Number is armstrong\n"
     ]
    }
   ],
   "source": [
    "a=int(input(\"Enter a number\"))\n",
    "b=a\n",
    "sum=0\n",
    "rem=0\n",
    "cube=0\n",
    "while(a>0):\n",
    "    rem=a%10\n",
    "    cube=rem**3\n",
    "    sum+=cube\n",
    "    a//=10\n",
    "    cube=0\n",
    "#print(sum)\n",
    "if(b==sum):\n",
    "    print(\"Number is armstrong\")\n",
    "else:\n",
    "    print(\"Num is not armstrong\")"
   ]
  },
  {
   "cell_type": "code",
   "execution_count": null,
   "id": "155d15c0",
   "metadata": {},
   "outputs": [],
   "source": []
  }
 ],
 "metadata": {
  "kernelspec": {
   "display_name": "Python 3 (ipykernel)",
   "language": "python",
   "name": "python3"
  },
  "language_info": {
   "codemirror_mode": {
    "name": "ipython",
    "version": 3
   },
   "file_extension": ".py",
   "mimetype": "text/x-python",
   "name": "python",
   "nbconvert_exporter": "python",
   "pygments_lexer": "ipython3",
   "version": "3.9.7"
  }
 },
 "nbformat": 4,
 "nbformat_minor": 5
}
