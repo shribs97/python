{
 "cells": [
  {
   "cell_type": "code",
   "execution_count": 1,
   "id": "a7196054",
   "metadata": {},
   "outputs": [
    {
     "name": "stdout",
     "output_type": "stream",
     "text": [
      "['apple', 'banana', 'mango']\n"
     ]
    }
   ],
   "source": [
    "#without comprehension program\n",
    "fruits=[\"apple\",\"banana\",\"cherry\",\"mango\"]\n",
    "nlist=[]\n",
    "for x in fruits:\n",
    "    if 'a' in x:\n",
    "        nlist.append(x)\n",
    "print(nlist)\n",
    "    \n"
   ]
  },
  {
   "cell_type": "code",
   "execution_count": 1,
   "id": "bcd8d6f8",
   "metadata": {},
   "outputs": [
    {
     "name": "stdout",
     "output_type": "stream",
     "text": [
      "['apple', 'banana', 'cherry', 'mango', 'kevi']\n"
     ]
    }
   ],
   "source": [
    "#with comprehension\n",
    "fruits=[\"apple\",\"banana\",\"cherry\",\"mango\",\"kevi\"]\n",
    "nlist=[]\n",
    "nlist=[x for x in fruits ]\n",
    "print(nlist)"
   ]
  },
  {
   "cell_type": "code",
   "execution_count": 4,
   "id": "0f57cfc6",
   "metadata": {},
   "outputs": [
    {
     "name": "stdout",
     "output_type": "stream",
     "text": [
      "['cherry', 'kevi']\n"
     ]
    }
   ],
   "source": [
    "\"\"\"condition in comprehension\"\"\"\n",
    "fruits=[\"apple\",\"banana\",\"cherry\",\"mango\",\"kevi\"]\n",
    "nlist=[]\n",
    "nlist=[x for x in fruits if 'a' not in x]\n",
    "print(nlist)"
   ]
  },
  {
   "cell_type": "code",
   "execution_count": 6,
   "id": "c76370ba",
   "metadata": {},
   "outputs": [
    {
     "name": "stdout",
     "output_type": "stream",
     "text": [
      "['apple', 'banana', 'cherry', 'mango', 'kevi']\n"
     ]
    }
   ],
   "source": [
    "\"\"\"with no if statement\"\"\"\n",
    "fruits=[\"apple\",\"banana\",\"cherry\",\"mango\",\"kevi\"]\n",
    "nlist=[]\n",
    "nlist=[x for x in fruits ]\n",
    "print(nlist)"
   ]
  },
  {
   "cell_type": "code",
   "execution_count": 7,
   "id": "4ea8b240",
   "metadata": {},
   "outputs": [
    {
     "name": "stdout",
     "output_type": "stream",
     "text": [
      "[0, 1, 2, 3, 4]\n"
     ]
    }
   ],
   "source": [
    "\"\"\"itrable in list for add item\"\"\"\n",
    "nlist=[]\n",
    "nlist=[x for x in range(10) if x<5]\n",
    "print(nlist)"
   ]
  },
  {
   "cell_type": "code",
   "execution_count": 10,
   "id": "6e68c161",
   "metadata": {},
   "outputs": [
    {
     "name": "stdout",
     "output_type": "stream",
     "text": [
      "['APPLE', 'BANANA', 'CHERRY', 'MANGO', 'KEVI']\n",
      "['hello', 'hello', 'hello', 'hello', 'hello']\n"
     ]
    }
   ],
   "source": [
    "fruits=[\"apple\",\"banana\",\"cherry\",\"mango\",\"kevi\"]\n",
    "nlist=[]\n",
    "nlist=[x.upper() for x in fruits ]\n",
    "print(nlist)\n",
    "newlist=['hello' for x in fruits]\n",
    "print(newlist)"
   ]
  },
  {
   "cell_type": "code",
   "execution_count": 13,
   "id": "2e94c1c2",
   "metadata": {},
   "outputs": [
    {
     "name": "stdout",
     "output_type": "stream",
     "text": [
      "['apple', 'orange', 'cherry', 'mango', 'kevi']\n"
     ]
    }
   ],
   "source": [
    "fruits=[\"apple\",\"banana\",\"cherry\",\"mango\",\"kevi\"]\n",
    "nlist=[x if x!=\"banana\" else \"orange\" for x in fruits]\n",
    "print(nlist)"
   ]
  },
  {
   "cell_type": "code",
   "execution_count": 3,
   "id": "00f0979d",
   "metadata": {},
   "outputs": [
    {
     "name": "stdout",
     "output_type": "stream",
     "text": [
      "['apple', 'banana', 'cherry', 'mango', 'kevi']\n"
     ]
    }
   ],
   "source": [
    "m=[x for x in fruits]\n",
    "print(m)\n",
    "m=[x for x in fruits ]"
   ]
  }
 ],
 "metadata": {
  "kernelspec": {
   "display_name": "Python 3 (ipykernel)",
   "language": "python",
   "name": "python3"
  },
  "language_info": {
   "codemirror_mode": {
    "name": "ipython",
    "version": 3
   },
   "file_extension": ".py",
   "mimetype": "text/x-python",
   "name": "python",
   "nbconvert_exporter": "python",
   "pygments_lexer": "ipython3",
   "version": "3.9.7"
  }
 },
 "nbformat": 4,
 "nbformat_minor": 5
}
