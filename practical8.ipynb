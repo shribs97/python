{
 "cells": [
  {
   "cell_type": "code",
   "execution_count": null,
   "id": "ae22fb0e",
   "metadata": {},
   "outputs": [],
   "source": [
    "Write a Program to encrypt message and decryption messages using key."
   ]
  },
  {
   "cell_type": "code",
   "execution_count": 2,
   "id": "cff93c52",
   "metadata": {},
   "outputs": [
    {
     "name": "stdout",
     "output_type": "stream",
     "text": [
      "Enter your password: jspm\n",
      "Enter the message to encrypt: rscoe\n",
      "Encrypted message: b'ca15d66a8d620314c756dbfa9ee59e7d83dff63f2e'\n",
      "Decrypted message: rscoe\n"
     ]
    }
   ],
   "source": [
    "import binascii\n",
    "from cryptography.hazmat.primitives.kdf.pbkdf2 import PBKDF2HMAC\n",
    "from cryptography.hazmat.backends import default_backend\n",
    "from cryptography.hazmat.primitives.ciphers import Cipher, algorithms, modes\n",
    "from cryptography.hazmat.backends import default_backend\n",
    "from cryptography.hazmat.primitives import hashes\n",
    "from os import urandom\n",
    "\n",
    "def key_derivation(password, salt):\n",
    "    kdf = PBKDF2HMAC(\n",
    "        algorithm=hashes.SHA256(),\n",
    "        length=32,\n",
    "        salt=salt,\n",
    "        iterations=100000,\n",
    "        backend=default_backend()\n",
    "    )\n",
    "    key = kdf.derive(password.encode())\n",
    "    return key\n",
    "\n",
    "def encrypt_message(message, key):\n",
    "    iv = urandom(16)  # Initialization Vector\n",
    "    cipher = Cipher(algorithms.AES(key), modes.CFB(iv), backend=default_backend())\n",
    "    encryptor = cipher.encryptor()\n",
    "    ciphertext = encryptor.update(message.encode()) + encryptor.finalize()\n",
    "    return iv + ciphertext\n",
    "\n",
    "def decrypt_message(encrypted_message, key):\n",
    "    iv = encrypted_message[:16]\n",
    "    ciphertext = encrypted_message[16:]\n",
    "    cipher = Cipher(algorithms.AES(key), modes.CFB(iv), backend=default_backend())\n",
    "    decryptor = cipher.decryptor()\n",
    "    decrypted_message = decryptor.update(ciphertext) + decryptor.finalize()\n",
    "    return decrypted_message.decode()\n",
    "\n",
    "if __name__ == \"__main__\":\n",
    "    password = input(\"Enter your password: \")\n",
    "    salt = urandom(16)  # Salt should be unique and random for each user\n",
    "\n",
    "    key = key_derivation(password, salt)\n",
    "\n",
    "    message_to_encrypt = input(\"Enter the message to encrypt: \")\n",
    "    encrypted_message = encrypt_message(message_to_encrypt, key)\n",
    "    print(f\"Encrypted message: {binascii.hexlify(encrypted_message)}\")\n",
    "\n",
    "    decrypted_message = decrypt_message(encrypted_message, key)\n",
    "    print(f\"Decrypted message: {decrypted_message}\")\n"
   ]
  },
  {
   "cell_type": "code",
   "execution_count": null,
   "id": "a058d577",
   "metadata": {},
   "outputs": [],
   "source": []
  },
  {
   "cell_type": "code",
   "execution_count": null,
   "id": "7c7423d7",
   "metadata": {},
   "outputs": [],
   "source": []
  }
 ],
 "metadata": {
  "kernelspec": {
   "display_name": "Python 3 (ipykernel)",
   "language": "python",
   "name": "python3"
  },
  "language_info": {
   "codemirror_mode": {
    "name": "ipython",
    "version": 3
   },
   "file_extension": ".py",
   "mimetype": "text/x-python",
   "name": "python",
   "nbconvert_exporter": "python",
   "pygments_lexer": "ipython3",
   "version": "3.9.7"
  }
 },
 "nbformat": 4,
 "nbformat_minor": 5
}
