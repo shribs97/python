{
 "cells": [
  {
   "cell_type": "code",
   "execution_count": 5,
   "id": "a61b715e",
   "metadata": {},
   "outputs": [
    {
     "name": "stdout",
     "output_type": "stream",
     "text": [
      "Enter a messagehii\n",
      "Enter a number to send sms7796790693\n",
      "{\"status_code\":999,\"message\":\"You need to complete one transaction of 100 INR or more before using v3 route.\"}\n"
     ]
    }
   ],
   "source": [
    "import requests as x\n",
    "\n",
    "url='https://www.fast2sms.com/dev/bulkV2'\n",
    "\n",
    "message=input(\"Enter a message\")\n",
    "\n",
    "y=input(\"Enter a number to send sms\")\n",
    "if(len(y)==10):\n",
    "    numbers=y\n",
    "payload=f'sender_id=FastSM&message={message}&route=v3&language=english&numbers={numbers}'\n",
    "\n",
    "header={\n",
    "    'Content-Type' : 'application/x-www-form-urlencoded'\n",
    ",\"authorization\":\"MP2liDrRSgKwn7LDVxZScFb1TkITXbySuLxGI72ugWLnlOC1T0xjTwkNUPSW\"\n",
    "}\n",
    "response=x.post(url=url,data=payload,headers=header)\n",
    "print(response.text)"
   ]
  },
  {
   "cell_type": "code",
   "execution_count": 1,
   "id": "9ef83e45",
   "metadata": {},
   "outputs": [],
   "source": [
    "\n"
   ]
  },
  {
   "cell_type": "code",
   "execution_count": 5,
   "id": "e8c4b409",
   "metadata": {},
   "outputs": [],
   "source": [
    "from tkinter import *\n",
    "import requests as x\n",
    "top=Tk()\n",
    "top.geometry(\"700x500\")\n",
    "top.title(\"Send SMS Using Python\")\n",
    "top.configure(bg=\"#C52233\")\n",
    "l1=Label(top,text=\"Send SMS in python\",fg=\"white\",bg=\"#C52233\",font=30)\n",
    "l1.place(x=50,y=60)\n",
    "l1.config(font=('Helvetica bold',40))\n",
    "Label(top,text=\"Enter sender message\",fg=\"white\",bg=\"#C52233\",font=20).place(x=50,y=170)\n",
    "\n",
    "#Entry\n",
    "title=Entry(top,width=20,font=\"arial 15\")\n",
    "title.place(x=50,y=200)\n",
    "\n",
    "#label\n",
    "Label(top,text=\"Enter Sender NO\",fg=\"white\",bg=\"#C52233\",font=20).place(x=50,y=240)\n",
    "\n",
    "#Entry\n",
    "content=Entry(top,width=\"10\",text=\"Content\",font=\"arial 15\")\n",
    "content.place(x=50,y=270)\n",
    "\n",
    "#Button\n",
    "Button(top, text = \" Send \" ,width=20,height=2,fg=\"white\",bg=\"black\" ,command=call).place(x=50,y=340)\n",
    "\n",
    "def call():\n",
    "    pass\n",
    "    \n",
    "\n",
    "top.mainloop()"
   ]
  },
  {
   "cell_type": "code",
   "execution_count": null,
   "id": "37331027",
   "metadata": {},
   "outputs": [],
   "source": []
  },
  {
   "cell_type": "code",
   "execution_count": null,
   "id": "3dd077d1",
   "metadata": {},
   "outputs": [],
   "source": []
  }
 ],
 "metadata": {
  "kernelspec": {
   "display_name": "Python 3 (ipykernel)",
   "language": "python",
   "name": "python3"
  },
  "language_info": {
   "codemirror_mode": {
    "name": "ipython",
    "version": 3
   },
   "file_extension": ".py",
   "mimetype": "text/x-python",
   "name": "python",
   "nbconvert_exporter": "python",
   "pygments_lexer": "ipython3",
   "version": "3.9.7"
  }
 },
 "nbformat": 4,
 "nbformat_minor": 5
}
