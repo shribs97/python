{
 "cells": [
  {
   "cell_type": "code",
   "execution_count": 12,
   "id": "09d5f95f",
   "metadata": {},
   "outputs": [
    {
     "name": "stdout",
     "output_type": "stream",
     "text": [
      "sub class\n",
      "Super class\n"
     ]
    }
   ],
   "source": [
    "class a:\n",
    "    def x(self):\n",
    "        print(\"Super class\")\n",
    "class b(a):\n",
    "    def x(self):\n",
    "        print(\"sub class\")\n",
    "    def y(self):\n",
    "        super().x()\n",
    "        \n",
    "x1=b()\n",
    "x1.x()\n",
    "x1.y()"
   ]
  }
 ],
 "metadata": {
  "kernelspec": {
   "display_name": "Python 3 (ipykernel)",
   "language": "python",
   "name": "python3"
  },
  "language_info": {
   "codemirror_mode": {
    "name": "ipython",
    "version": 3
   },
   "file_extension": ".py",
   "mimetype": "text/x-python",
   "name": "python",
   "nbconvert_exporter": "python",
   "pygments_lexer": "ipython3",
   "version": "3.9.7"
  }
 },
 "nbformat": 4,
 "nbformat_minor": 5
}
