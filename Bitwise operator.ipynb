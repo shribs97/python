{
 "cells": [
  {
   "cell_type": "code",
   "execution_count": 4,
   "id": "980e6e7a",
   "metadata": {},
   "outputs": [
    {
     "name": "stdout",
     "output_type": "stream",
     "text": [
      "2\n",
      "3\n",
      "1\n",
      "-4\n",
      "-3\n",
      "12\n",
      "0\n",
      "15\n",
      "71680\n"
     ]
    }
   ],
   "source": [
    "a=3\n",
    "b=2\n",
    "print(a&b)\n",
    "print(a|b)\n",
    "print(a^b)\n",
    "print(~a)\n",
    "print(~b)\n",
    "print(a << 2)\n",
    "print(a >> 2)\n",
    "b=60\n",
    "print(b >>2)\n",
    "x=70\n",
    "print(x<<10)\n",
    "print(~3)"
   ]
  },
  {
   "cell_type": "code",
   "execution_count": 5,
   "id": "e3b519b2",
   "metadata": {},
   "outputs": [
    {
     "name": "stdout",
     "output_type": "stream",
     "text": [
      "-4\n"
     ]
    }
   ],
   "source": [
    "print(~3)"
   ]
  },
  {
   "cell_type": "code",
   "execution_count": 10,
   "id": "72e20638",
   "metadata": {
    "scrolled": true
   },
   "outputs": [
    {
     "name": "stdout",
     "output_type": "stream",
     "text": [
      "16\n",
      "0\n"
     ]
    }
   ],
   "source": [
    "print(4<<2)\n",
    "print(5>>3)"
   ]
  },
  {
   "cell_type": "code",
   "execution_count": 15,
   "id": "592cb3f3",
   "metadata": {},
   "outputs": [
    {
     "name": "stdout",
     "output_type": "stream",
     "text": [
      "2\n",
      "2\n",
      "0\n",
      "-3\n",
      "8\n",
      "4\n"
     ]
    }
   ],
   "source": [
    "print(2&2)\n",
    "print(2|2)\n",
    "print(2^2)\n",
    "print(~2)\n",
    "print(2<<2)\n",
    "print(64>>4)"
   ]
  },
  {
   "cell_type": "code",
   "execution_count": 19,
   "id": "b13d7c4f",
   "metadata": {},
   "outputs": [
    {
     "name": "stdout",
     "output_type": "stream",
     "text": [
      "160\n"
     ]
    }
   ],
   "source": [
    "print(10<<4)"
   ]
  }
 ],
 "metadata": {
  "kernelspec": {
   "display_name": "Python 3 (ipykernel)",
   "language": "python",
   "name": "python3"
  },
  "language_info": {
   "codemirror_mode": {
    "name": "ipython",
    "version": 3
   },
   "file_extension": ".py",
   "mimetype": "text/x-python",
   "name": "python",
   "nbconvert_exporter": "python",
   "pygments_lexer": "ipython3",
   "version": "3.9.7"
  }
 },
 "nbformat": 4,
 "nbformat_minor": 5
}
