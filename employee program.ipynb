{
 "cells": [
  {
   "cell_type": "code",
   "execution_count": 7,
   "id": "1ceed0bb",
   "metadata": {},
   "outputs": [
    {
     "ename": "SyntaxError",
     "evalue": "invalid syntax (Temp/ipykernel_5556/2995596482.py, line 4)",
     "output_type": "error",
     "traceback": [
      "\u001b[1;36m  File \u001b[1;32m\"C:\\Users\\shridatta\\AppData\\Local\\Temp/ipykernel_5556/2995596482.py\"\u001b[1;36m, line \u001b[1;32m4\u001b[0m\n\u001b[1;33m    def__init__(self):\u001b[0m\n\u001b[1;37m                      ^\u001b[0m\n\u001b[1;31mSyntaxError\u001b[0m\u001b[1;31m:\u001b[0m invalid syntax\n"
     ]
    }
   ],
   "source": [
    "class student:\n",
    "    age=0\n",
    "    nm=\" \"\n",
    "    def__init__(self):\n",
    "        student.age=18\n",
    "        student.nm=\"adarsh\"\n",
    "    def display(self):\n",
    "        print(\"age=\",self.age)\n",
    "        print(\"name=\",self.nm)\n",
    "    s1=student()\n",
    "    s1.student()"
   ]
  },
  {
   "cell_type": "code",
   "execution_count": 1,
   "id": "edbbfe47",
   "metadata": {},
   "outputs": [
    {
     "name": "stdout",
     "output_type": "stream",
     "text": [
      "emplyee name  om\n",
      "dipartment  co\n",
      "Salary  50000\n"
     ]
    }
   ],
   "source": [
    "class employee:\n",
    "    \n",
    "    def get(self,name,department,salary):\n",
    "        self.name=name\n",
    "        self.department=department\n",
    "        self.salary=salary\n",
    "    def put(self):\n",
    "        print(\"emplyee name \",self.name)\n",
    "        print(\"dipartment \",self.department)\n",
    "        print(\"Salary \",self.salary)\n",
    "a=employee()\n",
    "a.get(\"om\",\"co\",50000)\n",
    "a.put()"
   ]
  },
  {
   "cell_type": "code",
   "execution_count": null,
   "id": "1ee9ab0a",
   "metadata": {},
   "outputs": [],
   "source": []
  }
 ],
 "metadata": {
  "kernelspec": {
   "display_name": "Python 3 (ipykernel)",
   "language": "python",
   "name": "python3"
  },
  "language_info": {
   "codemirror_mode": {
    "name": "ipython",
    "version": 3
   },
   "file_extension": ".py",
   "mimetype": "text/x-python",
   "name": "python",
   "nbconvert_exporter": "python",
   "pygments_lexer": "ipython3",
   "version": "3.9.7"
  }
 },
 "nbformat": 4,
 "nbformat_minor": 5
}
