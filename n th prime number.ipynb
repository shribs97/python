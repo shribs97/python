{
 "cells": [
  {
   "cell_type": "code",
   "execution_count": 2,
   "id": "093f98eb",
   "metadata": {},
   "outputs": [
    {
     "name": "stdout",
     "output_type": "stream",
     "text": [
      "enter a n number50\n",
      "Number is prime 2\n",
      "Number is prime 3\n",
      "Number is prime 5\n",
      "Number is prime 7\n",
      "Number is prime 11\n",
      "Number is prime 13\n",
      "Number is prime 17\n",
      "Number is prime 19\n",
      "Number is prime 23\n",
      "Number is prime 29\n",
      "Number is prime 31\n",
      "Number is prime 37\n",
      "Number is prime 41\n",
      "Number is prime 43\n",
      "Number is prime 47\n"
     ]
    }
   ],
   "source": [
    "a=int(input(\"enter a n number\"))\n",
    "i=1\n",
    "for j in range(1,a):\n",
    "    n=j\n",
    "    for i in range(2,n):\n",
    "        if(n%i==0):\n",
    "            break\n",
    "    if(i==n-1):\n",
    "        print(\"Number is prime\",n)"
   ]
  },
  {
   "cell_type": "code",
   "execution_count": 3,
   "id": "f536c381",
   "metadata": {},
   "outputs": [
    {
     "name": "stdout",
     "output_type": "stream",
     "text": [
      "enter a number9\n",
      "enter another no5\n",
      "composite no\n"
     ]
    }
   ],
   "source": [
    "a=int(input(\"enter a number\"))\n",
    "b=int(input(\"enter another no\"))\n",
    "c=a-b\n",
    "n=2\n",
    "while(n<c):\n",
    "    \n",
    "    if(c==2 or c==1 ):\n",
    "        print(\"prime number\")\n",
    "        break\n",
    "    if(c%n==0):\n",
    "        print(\"composite no\")\n",
    "        break\n",
    "    n+=1\n",
    "if(n==c):\n",
    "    print(\"prime\")"
   ]
  },
  {
   "cell_type": "code",
   "execution_count": null,
   "id": "880f1173",
   "metadata": {},
   "outputs": [],
   "source": []
  },
  {
   "cell_type": "code",
   "execution_count": null,
   "id": "0abf6ea1",
   "metadata": {},
   "outputs": [],
   "source": []
  }
 ],
 "metadata": {
  "kernelspec": {
   "display_name": "Python 3 (ipykernel)",
   "language": "python",
   "name": "python3"
  },
  "language_info": {
   "codemirror_mode": {
    "name": "ipython",
    "version": 3
   },
   "file_extension": ".py",
   "mimetype": "text/x-python",
   "name": "python",
   "nbconvert_exporter": "python",
   "pygments_lexer": "ipython3",
   "version": "3.9.7"
  }
 },
 "nbformat": 4,
 "nbformat_minor": 5
}
