{
 "cells": [
  {
   "cell_type": "code",
   "execution_count": 4,
   "id": "5fb34a2e",
   "metadata": {},
   "outputs": [
    {
     "name": "stdout",
     "output_type": "stream",
     "text": [
      "0\n",
      "1\n",
      "2\n",
      "3\n",
      "4\n",
      "5\n",
      "6\n",
      "7\n",
      "8\n",
      "9\n"
     ]
    }
   ],
   "source": [
    "# while loop\n",
    "i=0\n",
    "while i <10 :\n",
    "    print(i)\n",
    "    i+=1"
   ]
  },
  {
   "cell_type": "code",
   "execution_count": 10,
   "id": "999c4afd",
   "metadata": {},
   "outputs": [
    {
     "name": "stdout",
     "output_type": "stream",
     "text": [
      "1 |even number | 2\n",
      "2 |even number | 4\n",
      "3 |even number | 6\n",
      "4 |even number | 8\n",
      "5 |even number | 10\n",
      "6 |even number | 12\n",
      "7 |even number | 14\n",
      "8 |even number | 16\n",
      "9 |even number | 18\n",
      "10 |even number | 20\n",
      "11 |even number | 22\n",
      "12 |even number | 24\n",
      "13 |even number | 26\n",
      "14 |even number | 28\n",
      "15 |even number | 30\n",
      "16 |even number | 32\n",
      "17 |even number | 34\n",
      "18 |even number | 36\n",
      "19 |even number | 38\n",
      "20 |even number | 40\n",
      "21 |even number | 42\n",
      "22 |even number | 44\n",
      "23 |even number | 46\n",
      "24 |even number | 48\n",
      "25 |even number | 50\n",
      "26 |even number | 52\n",
      "27 |even number | 54\n",
      "28 |even number | 56\n",
      "29 |even number | 58\n",
      "30 |even number | 60\n",
      "31 |even number | 62\n",
      "32 |even number | 64\n",
      "33 |even number | 66\n",
      "34 |even number | 68\n",
      "35 |even number | 70\n",
      "36 |even number | 72\n",
      "37 |even number | 74\n",
      "38 |even number | 76\n",
      "39 |even number | 78\n",
      "40 |even number | 80\n",
      "41 |even number | 82\n",
      "42 |even number | 84\n",
      "43 |even number | 86\n",
      "44 |even number | 88\n",
      "45 |even number | 90\n",
      "46 |even number | 92\n",
      "47 |even number | 94\n",
      "48 |even number | 96\n",
      "49 |even number | 98\n",
      "50 |even number | 100\n",
      "Even number sum of 1  to 100 :- 2550\n"
     ]
    }
   ],
   "source": [
    "# while loop\n",
    "# even numbers and sum of even number:\n",
    "i=0\n",
    "k=0\n",
    "l=0\n",
    "while i<100 and k<=100:\n",
    "    i+=2\n",
    "    k+=1\n",
    "    print(k,\"|even number |\",i)\n",
    "    l+=i\n",
    "print(\"Even number sum of 1  to 100 :-\",l)\n",
    "    "
   ]
  },
  {
   "cell_type": "code",
   "execution_count": 2,
   "id": "adf0ceab",
   "metadata": {},
   "outputs": [
    {
     "name": "stdout",
     "output_type": "stream",
     "text": [
      "1\n",
      "2\n",
      "3\n",
      "4\n",
      "6\n",
      "7\n",
      "8\n",
      "9\n",
      "10\n"
     ]
    }
   ],
   "source": [
    "# while loop continue\n",
    "i=0\n",
    "while i<10 :\n",
    "    i+=1\n",
    "    if(i==5):\n",
    "        continue\n",
    "    print(i)\n",
    "    "
   ]
  },
  {
   "cell_type": "code",
   "execution_count": 4,
   "id": "95032153",
   "metadata": {},
   "outputs": [
    {
     "name": "stdout",
     "output_type": "stream",
     "text": [
      "1\n",
      "2\n",
      "3\n",
      "4\n",
      "5\n",
      "6\n"
     ]
    }
   ],
   "source": [
    "# while loop break statement\n",
    "i=0\n",
    "while i<20 :\n",
    "    i+=1\n",
    "    if(i==7):\n",
    "        break\n",
    "    print(i)"
   ]
  },
  {
   "cell_type": "code",
   "execution_count": 6,
   "id": "6c71b138",
   "metadata": {},
   "outputs": [
    {
     "name": "stdout",
     "output_type": "stream",
     "text": [
      "2\n",
      "4\n",
      "6\n",
      "8\n",
      "12\n",
      "14\n",
      "16\n",
      "18\n"
     ]
    }
   ],
   "source": [
    "#while loop pass statement\n",
    "i=0\n",
    "while i<17 :\n",
    "    i+=2\n",
    "    if(i==10):\n",
    "        pass\n",
    "    else:\n",
    "        print(i)"
   ]
  },
  {
   "cell_type": "code",
   "execution_count": 8,
   "id": "7134950b",
   "metadata": {},
   "outputs": [
    {
     "name": "stdout",
     "output_type": "stream",
     "text": [
      "0\n",
      "1\n",
      "2\n",
      "3\n",
      "4\n",
      "5\n",
      "6\n",
      "7\n",
      "8\n",
      "9\n",
      "10\n",
      "I is no longer less than equal to 10\n"
     ]
    }
   ],
   "source": [
    "#while loop else statement\n",
    "i=0\n",
    "while i<=10:\n",
    "    print(i)\n",
    "    i+=1\n",
    "else:\n",
    "    print(\"I is no longer less than equal to 10\")"
   ]
  },
  {
   "cell_type": "code",
   "execution_count": null,
   "id": "ad8c8e85",
   "metadata": {},
   "outputs": [],
   "source": []
  }
 ],
 "metadata": {
  "kernelspec": {
   "display_name": "Python 3 (ipykernel)",
   "language": "python",
   "name": "python3"
  },
  "language_info": {
   "codemirror_mode": {
    "name": "ipython",
    "version": 3
   },
   "file_extension": ".py",
   "mimetype": "text/x-python",
   "name": "python",
   "nbconvert_exporter": "python",
   "pygments_lexer": "ipython3",
   "version": "3.9.7"
  }
 },
 "nbformat": 4,
 "nbformat_minor": 5
}
