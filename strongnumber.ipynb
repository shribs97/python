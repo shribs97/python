{
 "cells": [
  {
   "cell_type": "code",
   "execution_count": 11,
   "id": "27922dbc",
   "metadata": {},
   "outputs": [
    {
     "name": "stdout",
     "output_type": "stream",
     "text": [
      "Enter a number45\n",
      "Not prime Number\n"
     ]
    }
   ],
   "source": [
    "a=int(input(\"Enter a number\"))\n",
    "temp=a\n",
    "sum=0\n",
    "while(a>0):\n",
    "    n=a%10\n",
    "    temp1=n\n",
    "    fact=1\n",
    "    while(temp1>0):\n",
    "        fact=fact*(temp1)\n",
    "        temp1-=1\n",
    "    a//=10\n",
    "    sum+=fact\n",
    "if(sum==temp):\n",
    "    print(\"Strong Number\")\n",
    "else:\n",
    "    print(\"Not prime Number\")\n",
    "    "
   ]
  },
  {
   "cell_type": "code",
   "execution_count": null,
   "id": "17108662",
   "metadata": {},
   "outputs": [],
   "source": []
  }
 ],
 "metadata": {
  "kernelspec": {
   "display_name": "Python 3 (ipykernel)",
   "language": "python",
   "name": "python3"
  },
  "language_info": {
   "codemirror_mode": {
    "name": "ipython",
    "version": 3
   },
   "file_extension": ".py",
   "mimetype": "text/x-python",
   "name": "python",
   "nbconvert_exporter": "python",
   "pygments_lexer": "ipython3",
   "version": "3.9.7"
  }
 },
 "nbformat": 4,
 "nbformat_minor": 5
}
