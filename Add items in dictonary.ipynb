{
 "cells": [
  {
   "cell_type": "code",
   "execution_count": 1,
   "id": "51c97ea4",
   "metadata": {},
   "outputs": [
    {
     "name": "stdout",
     "output_type": "stream",
     "text": [
      "{'Name': 'Shridatta', 'rollno': 19305, 'marks': 98.6, 'branch': 'CO'}\n",
      "{'Name': 'Shridatta', 'rollno': 19305, 'marks': 98.6, 'branch': 'CO', 'Year': 'TY'}\n"
     ]
    }
   ],
   "source": [
    "s={\n",
    "    \"Name\":\"Shridatta\",\n",
    "    \"rollno\":19305,\n",
    "    \"marks\":98.6,\n",
    "    \"branch\":\"CO\"\n",
    "}\n",
    "print(s)\n",
    "s[\"Year\"]=\"TY\"\n",
    "print(s)"
   ]
  },
  {
   "cell_type": "code",
   "execution_count": 2,
   "id": "bbd7f543",
   "metadata": {},
   "outputs": [
    {
     "name": "stdout",
     "output_type": "stream",
     "text": [
      "{'Name': 'Shridatta', 'rollno': 19305, 'marks': 98.6, 'branch': 'CO'}\n",
      "{'Name': 'Shridatta', 'rollno': 19305, 'marks': 98.6, 'branch': 'CO', 'Year': 'TY'}\n"
     ]
    }
   ],
   "source": [
    "s={\n",
    "    \"Name\":\"Shridatta\",\n",
    "    \"rollno\":19305,\n",
    "    \"marks\":98.6,\n",
    "    \"branch\":\"CO\"\n",
    "}\n",
    "print(s)\n",
    "s.update({\"Year\":\"TY\"})\n",
    "print(s)"
   ]
  },
  {
   "cell_type": "code",
   "execution_count": 3,
   "id": "2b044973",
   "metadata": {},
   "outputs": [
    {
     "name": "stdout",
     "output_type": "stream",
     "text": [
      "{'name': 'satara', 'state': 'Maharashtra', 'tal names': ['khatav', 'man', 'koregaon', 'wai', 'jawli']}\n"
     ]
    }
   ],
   "source": [
    "d={\n",
    "    \"name\":\"satara\",\n",
    "    \"state\":\"Maharashtra\",\n",
    "    \"tal names\":[\"khatav\",\"man\",\"koregaon\",\"wai\",\"jawli\"]\n",
    "}\n",
    "print(d)"
   ]
  },
  {
   "cell_type": "code",
   "execution_count": null,
   "id": "20cd45b5",
   "metadata": {},
   "outputs": [],
   "source": []
  }
 ],
 "metadata": {
  "kernelspec": {
   "display_name": "Python 3 (ipykernel)",
   "language": "python",
   "name": "python3"
  },
  "language_info": {
   "codemirror_mode": {
    "name": "ipython",
    "version": 3
   },
   "file_extension": ".py",
   "mimetype": "text/x-python",
   "name": "python",
   "nbconvert_exporter": "python",
   "pygments_lexer": "ipython3",
   "version": "3.9.7"
  }
 },
 "nbformat": 4,
 "nbformat_minor": 5
}
