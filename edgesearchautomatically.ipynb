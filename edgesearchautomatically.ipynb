{
 "cells": [
  {
   "cell_type": "code",
   "execution_count": null,
   "id": "feaf908c",
   "metadata": {},
   "outputs": [],
   "source": [
    "import pandas as pd\n",
    "from selenium import webdriver\n",
    "from selenium.webdriver.common.keys import Keys\n",
    "from selenium.webdriver.common.action_chains import ActionChains\n",
    "import time\n",
    "\n",
    "# Replace 'your_csv_file.csv' with the actual path to your CSV file\n",
    "csv_file = 'your_csv_file.csv'\n",
    "\n",
    "# Load CSV data into a DataFrame\n",
    "data = pd.read_csv(csv_file)\n",
    "\n",
    "# Initialize the Microsoft Edge WebDriver\n",
    "edge_driver_path = 'C:\\Users\\shridatta\\Downloads\\edgedriver_win64'\n",
    "driver = webdriver.Edge(executable_path=edge_driver_path)\n",
    "\n",
    "# Function to search and close tabs\n",
    "def search_and_close_tab(query):\n",
    "    driver.get('https://www.bing.com')\n",
    "    search_box = driver.find_element_by_name('q')\n",
    "    search_box.send_keys(query)\n",
    "    search_box.send_keys(Keys.RETURN)\n",
    "    time.sleep(20)  # Wait for the search results to load\n",
    "    # Perform actions here, e.g., scrape data or perform other operations\n",
    "    # Close the current tab\n",
    "    driver.find_element_by_tag_name('body').send_keys(Keys.CONTROL + 'w')\n",
    "    time.sleep(10)  # Wait briefly for the tab to close\n",
    "\n",
    "# Loop through each row in the DataFrame\n",
    "for index, row in data.iterrows():\n",
    "    search_query = row['search_query_column']  # Replace with your column name\n",
    "    search_and_close_tab(search_query)\n",
    "\n",
    "# Close the WebDriver when done\n",
    "driver.quit()\n"
   ]
  }
 ],
 "metadata": {
  "kernelspec": {
   "display_name": "Python 3 (ipykernel)",
   "language": "python",
   "name": "python3"
  },
  "language_info": {
   "codemirror_mode": {
    "name": "ipython",
    "version": 3
   },
   "file_extension": ".py",
   "mimetype": "text/x-python",
   "name": "python",
   "nbconvert_exporter": "python",
   "pygments_lexer": "ipython3",
   "version": "3.9.7"
  }
 },
 "nbformat": 4,
 "nbformat_minor": 5
}
