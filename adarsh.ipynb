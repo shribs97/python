{
 "cells": [
  {
   "cell_type": "markdown",
   "id": "28855e90",
   "metadata": {},
   "source": [
    "## class employee:\n",
    "    nm=\" \"\n",
    "    sal=0\n",
    "    def getdata(self):\n",
    "        employee.nm=input(\"Enter name=\")\n",
    "        employee.sal=int(input(\"Enter salary=\"))\n",
    "    def putdata(self):\n",
    "        print(\"name=\",self.nm)\n",
    "        print(\"salary=\",self.sal)\n",
    "e1=employee()\n",
    "e1.getdata()\n",
    "e1.putdata()"
   ]
  },
  {
   "cell_type": "code",
   "execution_count": null,
   "id": "c26d70fe",
   "metadata": {},
   "outputs": [],
   "source": []
  },
  {
   "cell_type": "code",
   "execution_count": null,
   "id": "52397fd8",
   "metadata": {},
   "outputs": [],
   "source": []
  },
  {
   "cell_type": "code",
   "execution_count": null,
   "id": "91e43580",
   "metadata": {},
   "outputs": [],
   "source": []
  },
  {
   "cell_type": "code",
   "execution_count": null,
   "id": "c4c3b282",
   "metadata": {},
   "outputs": [],
   "source": []
  },
  {
   "cell_type": "code",
   "execution_count": null,
   "id": "1676cb9e",
   "metadata": {},
   "outputs": [],
   "source": []
  }
 ],
 "metadata": {
  "kernelspec": {
   "display_name": "Python 3 (ipykernel)",
   "language": "python",
   "name": "python3"
  },
  "language_info": {
   "codemirror_mode": {
    "name": "ipython",
    "version": 3
   },
   "file_extension": ".py",
   "mimetype": "text/x-python",
   "name": "python",
   "nbconvert_exporter": "python",
   "pygments_lexer": "ipython3",
   "version": "3.9.7"
  }
 },
 "nbformat": 4,
 "nbformat_minor": 5
}
