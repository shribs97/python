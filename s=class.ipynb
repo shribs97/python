{
 "cells": [
  {
   "cell_type": "code",
   "execution_count": 9,
   "id": "8ceeae74",
   "metadata": {},
   "outputs": [
    {
     "name": "stdout",
     "output_type": "stream",
     "text": [
      "Enter roll=455\n",
      "enter name=bbh\n",
      "roll= 455\n",
      "nm= bbh\n"
     ]
    }
   ],
   "source": [
    "class student:\n",
    "    roll=0\n",
    "    nm=\"aa\"\n",
    "    def getdata(self):\n",
    "        student.roll=int(input(\"Enter roll=\"))\n",
    "        student.nm=input(\"enter name=\")\n",
    "       \n",
    "    def putdata(self):\n",
    "        print(\"roll=\",self.roll)\n",
    "        print(\"nm=\",self.nm)\n",
    "s1=student()\n",
    "s1.getdata()\n",
    "s1.putdata()"
   ]
  },
  {
   "cell_type": "code",
   "execution_count": null,
   "id": "2672e159",
   "metadata": {},
   "outputs": [],
   "source": []
  },
  {
   "cell_type": "code",
   "execution_count": null,
   "id": "92e4bbea",
   "metadata": {},
   "outputs": [],
   "source": []
  },
  {
   "cell_type": "code",
   "execution_count": null,
   "id": "60ec4f21",
   "metadata": {},
   "outputs": [],
   "source": []
  },
  {
   "cell_type": "code",
   "execution_count": null,
   "id": "60c7e77d",
   "metadata": {},
   "outputs": [],
   "source": []
  },
  {
   "cell_type": "code",
   "execution_count": null,
   "id": "d073e972",
   "metadata": {},
   "outputs": [],
   "source": []
  },
  {
   "cell_type": "code",
   "execution_count": null,
   "id": "bb06f228",
   "metadata": {},
   "outputs": [],
   "source": []
  },
  {
   "cell_type": "code",
   "execution_count": null,
   "id": "5f00ee32",
   "metadata": {},
   "outputs": [],
   "source": []
  },
  {
   "cell_type": "code",
   "execution_count": null,
   "id": "d34e87a2",
   "metadata": {},
   "outputs": [],
   "source": []
  },
  {
   "cell_type": "code",
   "execution_count": null,
   "id": "2556d6c1",
   "metadata": {},
   "outputs": [],
   "source": []
  }
 ],
 "metadata": {
  "kernelspec": {
   "display_name": "Python 3 (ipykernel)",
   "language": "python",
   "name": "python3"
  },
  "language_info": {
   "codemirror_mode": {
    "name": "ipython",
    "version": 3
   },
   "file_extension": ".py",
   "mimetype": "text/x-python",
   "name": "python",
   "nbconvert_exporter": "python",
   "pygments_lexer": "ipython3",
   "version": "3.9.7"
  }
 },
 "nbformat": 4,
 "nbformat_minor": 5
}
