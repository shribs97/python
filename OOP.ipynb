{
 "cells": [
  {
   "cell_type": "code",
   "execution_count": 1,
   "id": "5983df03",
   "metadata": {},
   "outputs": [
    {
     "name": "stdout",
     "output_type": "stream",
     "text": [
      "5\n"
     ]
    }
   ],
   "source": [
    "class Myclass:\n",
    "    x=5\n",
    "p1=Myclass()\n",
    "print(p1.x)"
   ]
  },
  {
   "cell_type": "code",
   "execution_count": 15,
   "id": "ac2aea6a",
   "metadata": {},
   "outputs": [
    {
     "name": "stdout",
     "output_type": "stream",
     "text": [
      "625\n"
     ]
    }
   ],
   "source": [
    "class shri:\n",
    "    \n",
    "    def shridatta(self,x):\n",
    "        print(x**2)\n",
    "sj=shri()\n",
    "sj.shridatta(25)"
   ]
  },
  {
   "cell_type": "code",
   "execution_count": 16,
   "id": "b1ebd4eb",
   "metadata": {},
   "outputs": [
    {
     "name": "stdout",
     "output_type": "stream",
     "text": [
      "SHRIDATTA\n"
     ]
    }
   ],
   "source": [
    "class x:\n",
    "    def __init__(self):\n",
    "        print(\"SHRIDATTA\")\n",
    "a=x()"
   ]
  },
  {
   "cell_type": "code",
   "execution_count": 18,
   "id": "5f5e20d9",
   "metadata": {},
   "outputs": [
    {
     "name": "stdout",
     "output_type": "stream",
     "text": [
      "19\n"
     ]
    }
   ],
   "source": [
    "#modify object properties\n",
    "class x:\n",
    "    age=24\n",
    "a=x()\n",
    "a.age=19\n",
    "print(a.age)\n",
    "del a.age"
   ]
  },
  {
   "cell_type": "code",
   "execution_count": 19,
   "id": "3be525cb",
   "metadata": {},
   "outputs": [
    {
     "name": "stdout",
     "output_type": "stream",
     "text": [
      "24\n"
     ]
    }
   ],
   "source": [
    "print(a.age)"
   ]
  },
  {
   "cell_type": "code",
   "execution_count": 20,
   "id": "48a54c25",
   "metadata": {},
   "outputs": [],
   "source": [
    "#delete object properties\n",
    "del a"
   ]
  },
  {
   "cell_type": "code",
   "execution_count": 21,
   "id": "b5394250",
   "metadata": {},
   "outputs": [
    {
     "ename": "NameError",
     "evalue": "name 'a' is not defined",
     "output_type": "error",
     "traceback": [
      "\u001b[1;31m---------------------------------------------------------------------------\u001b[0m",
      "\u001b[1;31mNameError\u001b[0m                                 Traceback (most recent call last)",
      "\u001b[1;32m~\\AppData\\Local\\Temp/ipykernel_9872/748316530.py\u001b[0m in \u001b[0;36m<module>\u001b[1;34m\u001b[0m\n\u001b[1;32m----> 1\u001b[1;33m \u001b[0mprint\u001b[0m\u001b[1;33m(\u001b[0m\u001b[0ma\u001b[0m\u001b[1;33m.\u001b[0m\u001b[0mage\u001b[0m\u001b[1;33m)\u001b[0m\u001b[1;33m\u001b[0m\u001b[1;33m\u001b[0m\u001b[0m\n\u001b[0m",
      "\u001b[1;31mNameError\u001b[0m: name 'a' is not defined"
     ]
    }
   ],
   "source": [
    "print(a.age)"
   ]
  },
  {
   "cell_type": "code",
   "execution_count": null,
   "id": "68118a39",
   "metadata": {},
   "outputs": [],
   "source": []
  }
 ],
 "metadata": {
  "kernelspec": {
   "display_name": "Python 3 (ipykernel)",
   "language": "python",
   "name": "python3"
  },
  "language_info": {
   "codemirror_mode": {
    "name": "ipython",
    "version": 3
   },
   "file_extension": ".py",
   "mimetype": "text/x-python",
   "name": "python",
   "nbconvert_exporter": "python",
   "pygments_lexer": "ipython3",
   "version": "3.9.7"
  }
 },
 "nbformat": 4,
 "nbformat_minor": 5
}
