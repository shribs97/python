{
 "cells": [
  {
   "cell_type": "code",
   "execution_count": 1,
   "id": "14a18054",
   "metadata": {},
   "outputs": [
    {
     "name": "stdout",
     "output_type": "stream",
     "text": [
      "{'name': 'Shridatta', 'rollno': 19305, 'branch': 'co', 'year': 'TY'}\n",
      "{'name': 'Shridatta', 'rollno': 19305, 'branch': 'co', 'year': 'LY'}\n"
     ]
    }
   ],
   "source": [
    "#useing keys name\n",
    "stud={\n",
    "    \"name\":\"Shridatta\",\n",
    "    \"rollno\":19305,\n",
    "    \"branch\":\"co\",\n",
    "    \"year\":\"TY\"\n",
    "}\n",
    "print(stud)\n",
    "stud[\"year\"]=\"LY\"\n",
    "print(stud)"
   ]
  },
  {
   "cell_type": "code",
   "execution_count": 4,
   "id": "f3e6b5b0",
   "metadata": {},
   "outputs": [
    {
     "name": "stdout",
     "output_type": "stream",
     "text": [
      "{'name': 'Shridatta', 'rollno': 19305, 'branch': 'co', 'year': 'TY'}\n",
      "{'name': 'Shri', 'rollno': 19305, 'branch': 'co', 'year': 'TY'}\n"
     ]
    }
   ],
   "source": [
    "#useing update()\n",
    "stud={\n",
    "    \"name\":\"Shridatta\",\n",
    "    \"rollno\":19305,\n",
    "    \"branch\":\"co\",\n",
    "    \"year\":\"TY\"\n",
    "}\n",
    "print(stud)\n",
    "stud.update({\"name\":\"Shri\"})\n",
    "print(stud)"
   ]
  },
  {
   "cell_type": "code",
   "execution_count": null,
   "id": "6bac2838",
   "metadata": {},
   "outputs": [],
   "source": []
  }
 ],
 "metadata": {
  "kernelspec": {
   "display_name": "Python 3 (ipykernel)",
   "language": "python",
   "name": "python3"
  },
  "language_info": {
   "codemirror_mode": {
    "name": "ipython",
    "version": 3
   },
   "file_extension": ".py",
   "mimetype": "text/x-python",
   "name": "python",
   "nbconvert_exporter": "python",
   "pygments_lexer": "ipython3",
   "version": "3.9.7"
  }
 },
 "nbformat": 4,
 "nbformat_minor": 5
}
