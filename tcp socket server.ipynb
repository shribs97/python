{
 "cells": [
  {
   "cell_type": "code",
   "execution_count": null,
   "id": "4734fd15",
   "metadata": {},
   "outputs": [],
   "source": [
    "import socket\n",
    "\n",
    "# create a socket object\n",
    "serversocket = socket.socket(socket.AF_INET, socket.SOCK_STREAM)\n",
    "\n",
    "# get local machine name\n",
    "host = socket.gethostname()\n",
    "\n",
    "port = 9999\n",
    "\n",
    "# bind to the port\n",
    "serversocket.bind((host, port))\n",
    "\n",
    "# queue up to 5 requests\n",
    "serversocket.listen(5)\n",
    "\n",
    "while True:\n",
    "    # establish a connection\n",
    "    clientsocket,addr = serversocket.accept()\n",
    "\n",
    "    print(\"Got a connection from %s\" % str(addr))\n",
    "    msg = 'Thank you for connecting' + \"\\r\\n\"\n",
    "    clientsocket.send(msg.encode('ascii'))\n",
    "    clientsocket.close()\n"
   ]
  },
  {
   "cell_type": "code",
   "execution_count": null,
   "id": "3d2efcb3",
   "metadata": {},
   "outputs": [],
   "source": []
  },
  {
   "cell_type": "code",
   "execution_count": null,
   "id": "135d7514",
   "metadata": {},
   "outputs": [],
   "source": []
  }
 ],
 "metadata": {
  "kernelspec": {
   "display_name": "Python 3 (ipykernel)",
   "language": "python",
   "name": "python3"
  },
  "language_info": {
   "codemirror_mode": {
    "name": "ipython",
    "version": 3
   },
   "file_extension": ".py",
   "mimetype": "text/x-python",
   "name": "python",
   "nbconvert_exporter": "python",
   "pygments_lexer": "ipython3",
   "version": "3.9.7"
  }
 },
 "nbformat": 4,
 "nbformat_minor": 5
}
