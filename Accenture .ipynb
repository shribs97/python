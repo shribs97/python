{
 "cells": [
  {
   "cell_type": "markdown",
   "id": "734ddfc2",
   "metadata": {},
   "source": [
    "The function accepts two positive integers ‘r’ and ‘unit’ and a positive integer array ‘arr’ of size ‘n’ as its argument ‘r’ represents the number of rats present in an area, ‘unit’ is the amount of food each rat consumes and each ith element of array ‘arr’ represents the amount of food present in ‘i+1’ house number, where 0 <= i"
   ]
  },
  {
   "cell_type": "code",
   "execution_count": 4,
   "id": "9d545ba2",
   "metadata": {},
   "outputs": [
    {
     "name": "stdout",
     "output_type": "stream",
     "text": [
      "Enter the number of rat7\n",
      "Enter the unit2\n",
      "2 8 3 7 5 7 4 1 2\n",
      "8\n",
      "4\n"
     ]
    }
   ],
   "source": [
    "def cal(r,unit,arr,n):\n",
    "    if(len(arr)==0):\n",
    "        return -1\n",
    "    \n",
    "    TFR=r*unit\n",
    "    fnow=0\n",
    "    house=0\n",
    "    \n",
    "    for house in range(n):\n",
    "        fnow+=arr[house]\n",
    "        if(TFR<=fnow):\n",
    "            break\n",
    "    if(TFR>fnow):\n",
    "        return 1\n",
    "    \n",
    "    return house+1\n",
    "            \n",
    "        \n",
    "    \n",
    "r=int(input(\"Enter the number of rat\"))\n",
    "unit=int(input(\"Enter the unit\"))\n",
    "arr=list(map(int,input().split()))\n",
    "n=int(input())\n",
    "x=cal(r,unit,arr,n)\n",
    "print(x)"
   ]
  },
  {
   "cell_type": "markdown",
   "id": "804b693a",
   "metadata": {},
   "source": [
    "he Binary number system only uses two digits, 0 and 1 and number system can be called binary string. You are required to implement the following function:\n",
    "    The function accepts a string str as its argument. The string str consists of binary digits eparated with an alphabet as follows:\n",
    "\n",
    "– A denotes AND operation\n",
    "– B denotes OR operation\n",
    "– C denotes XOR Operation\n",
    "You are required to calculate the result of the string str, scanning the string to right taking one opearation at a time, and return the same.\n",
    "\n",
    "Note:\n",
    "\n",
    "No order of priorities of operations is required\n",
    "Length of str is odd\n",
    "If str is NULL or None (in case of Python), return -1\n",
    "Input:\n",
    "str: 1C0C1C1A0B1\n",
    "\n",
    "Output:\n",
    "1"
   ]
  },
  {
   "cell_type": "code",
   "execution_count": 11,
   "id": "aea20973",
   "metadata": {},
   "outputs": [
    {
     "ename": "IndentationError",
     "evalue": "expected an indented block (Temp/ipykernel_18272/2323508264.py, line 7)",
     "output_type": "error",
     "traceback": [
      "\u001b[1;36m  File \u001b[1;32m\"C:\\Users\\shridatta\\AppData\\Local\\Temp/ipykernel_18272/2323508264.py\"\u001b[1;36m, line \u001b[1;32m7\u001b[0m\n\u001b[1;33m    pass\u001b[0m\n\u001b[1;37m    ^\u001b[0m\n\u001b[1;31mIndentationError\u001b[0m\u001b[1;31m:\u001b[0m expected an indented block\n"
     ]
    }
   ],
   "source": [
    "def fun(strx):\n",
    "    \n",
    "    if(len(strx)<1):\n",
    "        return -1\n",
    "    p,r=0\n",
    "    for i in range(0,len(strx)):\n",
    "        \n",
    "        if(i==0):\n",
    "            m=int(strx[i])\n",
    "            n=int(strx[i+2])\n",
    "            if(strx[i+1]==\"A\"):\n",
    "                o=\n",
    "            \n",
    "        \n",
    "            \n",
    "        \n",
    "    \n",
    "x=fun(input())\n",
    "print(x)"
   ]
  },
  {
   "cell_type": "code",
   "execution_count": null,
   "id": "8f175776",
   "metadata": {},
   "outputs": [],
   "source": []
  },
  {
   "cell_type": "code",
   "execution_count": 7,
   "id": "e3f7e777",
   "metadata": {},
   "outputs": [
    {
     "data": {
      "text/plain": [
       "['s', 'h', 'r', 'i', 's']"
      ]
     },
     "execution_count": 7,
     "metadata": {},
     "output_type": "execute_result"
    }
   ],
   "source": [
    "a=list(\"shris\")\n",
    "a"
   ]
  },
  {
   "cell_type": "code",
   "execution_count": 8,
   "id": "7cedaa33",
   "metadata": {},
   "outputs": [
    {
     "name": "stdout",
     "output_type": "stream",
     "text": [
      "['h', 'r', 'i', 's']\n"
     ]
    }
   ],
   "source": [
    "a.remove(\"s\")\n",
    "print(a)"
   ]
  },
  {
   "cell_type": "code",
   "execution_count": 9,
   "id": "a92beac5",
   "metadata": {},
   "outputs": [
    {
     "data": {
      "text/plain": [
       "4"
      ]
     },
     "execution_count": 9,
     "metadata": {},
     "output_type": "execute_result"
    }
   ],
   "source": [
    "len(\"shri\")\n"
   ]
  },
  {
   "cell_type": "markdown",
   "id": "6f1abbf1",
   "metadata": {},
   "source": [
    "# reverse a number\n"
   ]
  },
  {
   "cell_type": "code",
   "execution_count": 5,
   "id": "dc3e6d92",
   "metadata": {},
   "outputs": [
    {
     "name": "stdout",
     "output_type": "stream",
     "text": [
      "125\n",
      "125\n",
      "521\n"
     ]
    }
   ],
   "source": [
    "a=int(input())\n",
    "print(a)\n",
    "b=a\n",
    "rev=0\n",
    "while(b>0):\n",
    "    rem=b%10\n",
    "    rev=rev*10+rem\n",
    "    b//=10\n",
    "print(rev)"
   ]
  },
  {
   "cell_type": "code",
   "execution_count": 10,
   "id": "f4c763f3",
   "metadata": {},
   "outputs": [
    {
     "name": "stdout",
     "output_type": "stream",
     "text": [
      "5\n",
      "0\n",
      "1\n",
      "1\n",
      "2\n",
      "3\n"
     ]
    }
   ],
   "source": [
    "#fibonnaci to nth term\n",
    "n=int(input())\n",
    "a,b=0,1\n",
    "print(a)\n",
    "print(b)\n",
    "for _ in range(0,n-2):\n",
    "    c=a+b\n",
    "    print(c)\n",
    "    a,b=b,c\n"
   ]
  },
  {
   "cell_type": "code",
   "execution_count": 17,
   "id": "7f6759a1",
   "metadata": {},
   "outputs": [
    {
     "name": "stdout",
     "output_type": "stream",
     "text": [
      "15\n",
      "25\n",
      "The gcd of two numbers 5\n"
     ]
    },
    {
     "data": {
      "text/plain": [
       "0"
      ]
     },
     "execution_count": 17,
     "metadata": {},
     "output_type": "execute_result"
    }
   ],
   "source": [
    "#gcd of two numbers\n",
    "a=int(input())\n",
    "b=int(input())\n",
    "def gcd(a,b):\n",
    "    if(a>b):\n",
    "        small=b\n",
    "    else:\n",
    "        small=a\n",
    "        \n",
    "    for i in range(2,small+1):\n",
    "        if(a%i==0)and (b%i==0):\n",
    "            g=i\n",
    "            print(\"The gcd of two numbers {}\".format(g))\n",
    "            return 0\n",
    "gcd(a,b)"
   ]
  },
  {
   "cell_type": "code",
   "execution_count": 21,
   "id": "5a1b6710",
   "metadata": {},
   "outputs": [
    {
     "name": "stdout",
     "output_type": "stream",
     "text": [
      "28\n",
      "28 is perfect number\n"
     ]
    }
   ],
   "source": [
    "#percet number\n",
    "a=int(input())\n",
    "def isper(a):\n",
    "    if n<=1:\n",
    "        return false\n",
    "    divsum=sum(i for i in range(1,a) if a%i==0)\n",
    "    return divsum==a\n",
    "t=isper(a)\n",
    "if t:\n",
    "    print(f\"{a} is perfect number\")\n",
    "else:\n",
    "    print(f\"{a} is not perfect number\")\n",
    "    "
   ]
  },
  {
   "cell_type": "code",
   "execution_count": 23,
   "id": "0a09d822",
   "metadata": {},
   "outputs": [
    {
     "name": "stdout",
     "output_type": "stream",
     "text": [
      "aabc\n",
      "bcaa\n",
      "Anagram\n"
     ]
    }
   ],
   "source": [
    "#anagram string\n",
    "a=input()\n",
    "b=input()\n",
    "def ana(a,b):\n",
    "    sa=sorted(a)\n",
    "    sb=sorted(b)\n",
    "    return sa==sb\n",
    "x=ana(a,b)\n",
    "if x:\n",
    "    print(\"Anagram\")\n",
    "else:\n",
    "    print(\"Not anagram\")"
   ]
  },
  {
   "cell_type": "code",
   "execution_count": null,
   "id": "804f468a",
   "metadata": {},
   "outputs": [],
   "source": []
  }
 ],
 "metadata": {
  "kernelspec": {
   "display_name": "Python 3 (ipykernel)",
   "language": "python",
   "name": "python3"
  },
  "language_info": {
   "codemirror_mode": {
    "name": "ipython",
    "version": 3
   },
   "file_extension": ".py",
   "mimetype": "text/x-python",
   "name": "python",
   "nbconvert_exporter": "python",
   "pygments_lexer": "ipython3",
   "version": "3.9.7"
  }
 },
 "nbformat": 4,
 "nbformat_minor": 5
}
