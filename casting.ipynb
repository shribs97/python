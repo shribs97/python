{
 "cells": [
  {
   "cell_type": "code",
   "execution_count": 1,
   "id": "3c805272",
   "metadata": {},
   "outputs": [
    {
     "name": "stdout",
     "output_type": "stream",
     "text": [
      "5    <class 'int'> \n",
      "   2 <class 'int'> \n",
      "   7 <class 'int'>\n"
     ]
    }
   ],
   "source": [
    "#integer\n",
    "#int\n",
    "x=int(5)\n",
    "y=int(2.4)\n",
    "z=int(\"7\")\n",
    "print(x,\"  \",type(x),\"\\n  \",y,type(y),\"\\n  \",z,type(z))\n"
   ]
  },
  {
   "cell_type": "code",
   "execution_count": 9,
   "id": "54ec7cbc",
   "metadata": {},
   "outputs": [
    {
     "name": "stdout",
     "output_type": "stream",
     "text": [
      "7.62    <class 'float'> \n",
      "   7.0 <class 'float'> \n",
      "   9.83 <class 'float'>\n"
     ]
    }
   ],
   "source": [
    "#float\n",
    "x=float(7.62)\n",
    "y=float(7)\n",
    "z=float(\"9.83\")\n",
    "print(x,\"  \",type(x),\"\\n  \",y,type(y),\"\\n  \",z,type(z))"
   ]
  },
  {
   "cell_type": "code",
   "execution_count": 10,
   "id": "57e4a776",
   "metadata": {},
   "outputs": [
    {
     "name": "stdout",
     "output_type": "stream",
     "text": [
      "shri    <class 'str'> \n",
      "   3 <class 'str'> \n",
      "   5.6 <class 'str'>\n"
     ]
    }
   ],
   "source": [
    "#string\n",
    "#str\n",
    "x=str(\"shri\")\n",
    "y=str(3)\n",
    "z=str(5.60)\n",
    "print(x,\"  \",type(x),\"\\n  \",y,type(y),\"\\n  \",z,type(z))"
   ]
  },
  {
   "cell_type": "code",
   "execution_count": 4,
   "id": "346c59f6",
   "metadata": {},
   "outputs": [],
   "source": [
    "m=complex(10)"
   ]
  },
  {
   "cell_type": "code",
   "execution_count": 5,
   "id": "a28aee7f",
   "metadata": {},
   "outputs": [
    {
     "data": {
      "text/plain": [
       "(10+0j)"
      ]
     },
     "execution_count": 5,
     "metadata": {},
     "output_type": "execute_result"
    }
   ],
   "source": [
    "m"
   ]
  },
  {
   "cell_type": "code",
   "execution_count": null,
   "id": "78642b12",
   "metadata": {},
   "outputs": [],
   "source": []
  }
 ],
 "metadata": {
  "kernelspec": {
   "display_name": "Python 3 (ipykernel)",
   "language": "python",
   "name": "python3"
  },
  "language_info": {
   "codemirror_mode": {
    "name": "ipython",
    "version": 3
   },
   "file_extension": ".py",
   "mimetype": "text/x-python",
   "name": "python",
   "nbconvert_exporter": "python",
   "pygments_lexer": "ipython3",
   "version": "3.9.7"
  }
 },
 "nbformat": 4,
 "nbformat_minor": 5
}
