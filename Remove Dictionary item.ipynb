{
 "cells": [
  {
   "cell_type": "code",
   "execution_count": 2,
   "id": "b8144b95",
   "metadata": {},
   "outputs": [
    {
     "name": "stdout",
     "output_type": "stream",
     "text": [
      "{'name': 'Shridatta', 'rollno': 19305, 'marks': 96.5, 'city': 'Satara'}\n",
      "{'name': 'Shridatta', 'rollno': 19305, 'city': 'Satara'}\n"
     ]
    }
   ],
   "source": [
    "d={\n",
    "    \"name\":\"Shridatta\",\n",
    "    \"rollno\":19305,\n",
    "    \"marks\":96.5,\n",
    "    \"city\":\"Satara\"\n",
    "}\n",
    "print(d)\n",
    "d.pop(\"marks\")\n",
    "print(d)"
   ]
  },
  {
   "cell_type": "code",
   "execution_count": 4,
   "id": "7dca7296",
   "metadata": {},
   "outputs": [
    {
     "name": "stdout",
     "output_type": "stream",
     "text": [
      "{'name': 'Shridatta', 'rollno': 19305, 'marks': 96.5, 'city': 'Satara'}\n",
      "{'name': 'Shridatta', 'rollno': 19305, 'marks': 96.5}\n"
     ]
    }
   ],
   "source": [
    "d={\n",
    "    \"name\":\"Shridatta\",\n",
    "    \"rollno\":19305,\n",
    "    \"marks\":96.5,\n",
    "    \"city\":\"Satara\"\n",
    "}\n",
    "print(d)\n",
    "d.popitem()\n",
    "print(d)"
   ]
  },
  {
   "cell_type": "code",
   "execution_count": 5,
   "id": "2aa3ed7b",
   "metadata": {},
   "outputs": [
    {
     "name": "stdout",
     "output_type": "stream",
     "text": [
      "{'name': 'Shridatta', 'rollno': 19305, 'marks': 96.5, 'city': 'Satara'}\n",
      "{'name': 'Shridatta', 'rollno': 19305, 'city': 'Satara'}\n"
     ]
    }
   ],
   "source": [
    "d={\n",
    "    \"name\":\"Shridatta\",\n",
    "    \"rollno\":19305,\n",
    "    \"marks\":96.5,\n",
    "    \"city\":\"Satara\"\n",
    "}\n",
    "print(d)\n",
    "del d[\"marks\"]\n",
    "print(d)"
   ]
  },
  {
   "cell_type": "code",
   "execution_count": 6,
   "id": "abce3332",
   "metadata": {},
   "outputs": [
    {
     "name": "stdout",
     "output_type": "stream",
     "text": [
      "{'name': 'Shridatta', 'rollno': 19305, 'marks': 96.5, 'city': 'Satara'}\n"
     ]
    },
    {
     "ename": "NameError",
     "evalue": "name 'd' is not defined",
     "output_type": "error",
     "traceback": [
      "\u001b[1;31m----------------------------------------------------------\u001b[0m",
      "\u001b[1;31mNameError\u001b[0m                Traceback (most recent call last)",
      "\u001b[1;32m~\\AppData\\Local\\Temp/ipykernel_14564/1305335660.py\u001b[0m in \u001b[0;36m<module>\u001b[1;34m\u001b[0m\n\u001b[0;32m      7\u001b[0m \u001b[0mprint\u001b[0m\u001b[1;33m(\u001b[0m\u001b[0md\u001b[0m\u001b[1;33m)\u001b[0m\u001b[1;33m\u001b[0m\u001b[1;33m\u001b[0m\u001b[0m\n\u001b[0;32m      8\u001b[0m \u001b[1;32mdel\u001b[0m \u001b[0md\u001b[0m\u001b[1;33m\u001b[0m\u001b[1;33m\u001b[0m\u001b[0m\n\u001b[1;32m----> 9\u001b[1;33m \u001b[0mprint\u001b[0m\u001b[1;33m(\u001b[0m\u001b[0md\u001b[0m\u001b[1;33m)\u001b[0m\u001b[1;33m\u001b[0m\u001b[1;33m\u001b[0m\u001b[0m\n\u001b[0m",
      "\u001b[1;31mNameError\u001b[0m: name 'd' is not defined"
     ]
    }
   ],
   "source": [
    "d={\n",
    "    \"name\":\"Shridatta\",\n",
    "    \"rollno\":19305,\n",
    "    \"marks\":96.5,\n",
    "    \"city\":\"Satara\"\n",
    "}\n",
    "print(d)\n",
    "del d\n",
    "print(d)"
   ]
  },
  {
   "cell_type": "code",
   "execution_count": 8,
   "id": "26fd9b04",
   "metadata": {},
   "outputs": [
    {
     "name": "stdout",
     "output_type": "stream",
     "text": [
      "{'name': 'Shridatta', 'rollno': 19305, 'marks': 96.5, 'city': 'Satara'}\n",
      "{}\n"
     ]
    }
   ],
   "source": [
    "d={\n",
    "    \"name\":\"Shridatta\",\n",
    "    \"rollno\":19305,\n",
    "    \"marks\":96.5,\n",
    "    \"city\":\"Satara\"\n",
    "}\n",
    "print(d)\n",
    "d.clear()\n",
    "print(d)"
   ]
  },
  {
   "cell_type": "code",
   "execution_count": null,
   "id": "6a22daa4",
   "metadata": {},
   "outputs": [],
   "source": []
  }
 ],
 "metadata": {
  "kernelspec": {
   "display_name": "Python 3 (ipykernel)",
   "language": "python",
   "name": "python3"
  },
  "language_info": {
   "codemirror_mode": {
    "name": "ipython",
    "version": 3
   },
   "file_extension": ".py",
   "mimetype": "text/x-python",
   "name": "python",
   "nbconvert_exporter": "python",
   "pygments_lexer": "ipython3",
   "version": "3.9.7"
  }
 },
 "nbformat": 4,
 "nbformat_minor": 5
}
