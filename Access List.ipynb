{
 "cells": [
  {
   "cell_type": "code",
   "execution_count": 7,
   "id": "2f425942",
   "metadata": {},
   "outputs": [
    {
     "name": "stdout",
     "output_type": "stream",
     "text": [
      "cherry\n",
      "pineapple mango\n",
      "['cherry', 'draginfruit', 'orange']\n",
      "['apple', 'banana', 'cherry', 'draginfruit']\n",
      "['draginfruit', 'orange', 'mango', 'pineapple']\n",
      "['draginfruit', 'orange', 'mango']\n"
     ]
    }
   ],
   "source": [
    "list1=[\"apple\",\"banana\",\"cherry\",\"draginfruit\",\"orange\",\"mango\",\"pineapple\"]\n",
    "print(list1[2])\n",
    "#negative index in list\n",
    "print(list1[-1],list1[-2])\n",
    "#Range of Indexes\n",
    "print(list1[2:5])\n",
    "#leaveing out ranges start value\n",
    "print(list1[:4])\n",
    "#by leaving out range end value\n",
    "print(list1[3:])\n",
    "#Range of negative Indexes\n",
    "print(list1[-4:-1])"
   ]
  },
  {
   "cell_type": "code",
   "execution_count": 4,
   "id": "f17638a2",
   "metadata": {
    "scrolled": false
   },
   "outputs": [
    {
     "name": "stdout",
     "output_type": "stream",
     "text": [
      "2\n",
      "3\n",
      "5\n",
      "143\n",
      "886\n"
     ]
    }
   ],
   "source": [
    "l=[2,3,5,143,886]\n",
    "i=0\n",
    "while(i<len(l)):\n",
    "    print(l[i])\n",
    "    i+=1"
   ]
  },
  {
   "cell_type": "code",
   "execution_count": 16,
   "id": "dea4d428",
   "metadata": {},
   "outputs": [
    {
     "data": {
      "text/plain": [
       "True"
      ]
     },
     "execution_count": 16,
     "metadata": {},
     "output_type": "execute_result"
    }
   ],
   "source": [
    "s={\"a\":11,\"b\":25,\"c\":59,}\n",
    "ss={\"b\":25,\"c\":59,\"a\":11}\n",
    "s = ss\n",
    "s is ss\n",
    "\n"
   ]
  },
  {
   "cell_type": "code",
   "execution_count": null,
   "id": "2ef5a385",
   "metadata": {},
   "outputs": [],
   "source": []
  }
 ],
 "metadata": {
  "kernelspec": {
   "display_name": "Python 3 (ipykernel)",
   "language": "python",
   "name": "python3"
  },
  "language_info": {
   "codemirror_mode": {
    "name": "ipython",
    "version": 3
   },
   "file_extension": ".py",
   "mimetype": "text/x-python",
   "name": "python",
   "nbconvert_exporter": "python",
   "pygments_lexer": "ipython3",
   "version": "3.9.7"
  }
 },
 "nbformat": 4,
 "nbformat_minor": 5
}
