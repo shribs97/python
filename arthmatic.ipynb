{
 "cells": [
  {
   "cell_type": "code",
   "execution_count": 5,
   "id": "3ac51148",
   "metadata": {},
   "outputs": [
    {
     "name": "stdout",
     "output_type": "stream",
     "text": [
      "Enter a : 10\n",
      "Enter b : 5\n",
      "Addition is  15\n",
      "Subtraction is 5\n",
      "Multipication is  50\n",
      "Division is  2.0\n",
      "Expontional is  100000\n",
      "Floar Devision is  2\n",
      "Modulus is  0\n"
     ]
    }
   ],
   "source": [
    "#Arthmatics operation in pythone\n",
    "a=int(input(\"Enter a : \"))\n",
    "b=int(input(\"Enter b : \"))\n",
    "print(\"Addition is \",a+b)\n",
    "print(\"Subtraction is \"+str(a-b))\n",
    "print(\"Multipication is \",a*b)\n",
    "print(\"Division is \",a/b)\n",
    "print(\"Expontional is \",a**b)\n",
    "print(\"Floar Devision is \",a//b)\n",
    "print(\"Modulus is \",a%b)"
   ]
  },
  {
   "cell_type": "code",
   "execution_count": 9,
   "id": "26815428",
   "metadata": {},
   "outputs": [
    {
     "name": "stdout",
     "output_type": "stream",
     "text": [
      "Enter a number10\n",
      "Enter a number10\n",
      "Enter a number7\n",
      "All are Equals\n"
     ]
    }
   ],
   "source": [
    "\"\"\"\n",
    "Write Arthmatic program to check which number is greater\n",
    "if two numbers are equal\n",
    "and three number are equals all condion to be check\n",
    "\"\"\"\n",
    "a=int(input(\"Enter a number\"))\n",
    "b=int(input(\"Enter a number\"))\n",
    "c=int(input(\"Enter a number\"))\n",
    "if(a>b and a>c):\n",
    "    print(\"A is greater\")\n",
    "elif(b>a and b>c):\n",
    "    print(\"B is greater\")\n",
    "elif(c>a and c>b):\n",
    "     print(\"C is greater\")\n",
    "else:\n",
    "    print(\"All are Equals\")"
   ]
  },
  {
   "cell_type": "code",
   "execution_count": 2,
   "id": "a661a514",
   "metadata": {},
   "outputs": [
    {
     "name": "stdout",
     "output_type": "stream",
     "text": [
      "1000\n"
     ]
    }
   ],
   "source": [
    "a=10\n",
    "b=3\n",
    "print(a**b)"
   ]
  },
  {
   "cell_type": "code",
   "execution_count": null,
   "id": "13df1f72",
   "metadata": {},
   "outputs": [],
   "source": []
  }
 ],
 "metadata": {
  "kernelspec": {
   "display_name": "Python 3 (ipykernel)",
   "language": "python",
   "name": "python3"
  },
  "language_info": {
   "codemirror_mode": {
    "name": "ipython",
    "version": 3
   },
   "file_extension": ".py",
   "mimetype": "text/x-python",
   "name": "python",
   "nbconvert_exporter": "python",
   "pygments_lexer": "ipython3",
   "version": "3.9.7"
  }
 },
 "nbformat": 4,
 "nbformat_minor": 5
}
