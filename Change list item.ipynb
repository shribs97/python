{
 "cells": [
  {
   "cell_type": "code",
   "execution_count": 1,
   "id": "86be5bd9",
   "metadata": {},
   "outputs": [
    {
     "name": "stdout",
     "output_type": "stream",
     "text": [
      "['apple', 'bigboss', 'cherry']\n"
     ]
    }
   ],
   "source": [
    "list1=[\"apple\",\"banana\",\"cherry\"]\n",
    "list1[1]=\"bigboss\"\n",
    "print(list1)"
   ]
  },
  {
   "cell_type": "code",
   "execution_count": 4,
   "id": "558ef97c",
   "metadata": {},
   "outputs": [
    {
     "name": "stdout",
     "output_type": "stream",
     "text": [
      "['apple', 'blackcurrant', 'cherry', 'orange', 'kevi', 'watermelon', 'pineapple']\n"
     ]
    }
   ],
   "source": [
    "#change range of item value\n",
    "list1=[\"apple\",\"banana\",\"mango\",\"orange\",\"kevi\",\"watermelon\",\"pineapple\"]\n",
    "list1[1:3]=[\"blackcurrant\",\"cherry\"]\n",
    "print(list1)"
   ]
  },
  {
   "cell_type": "code",
   "execution_count": 6,
   "id": "23dee0f0",
   "metadata": {},
   "outputs": [
    {
     "name": "stdout",
     "output_type": "stream",
     "text": [
      "['apple', 'banana', 'mango', 'kevi', 'watermelon', 'pineapple']\n"
     ]
    }
   ],
   "source": [
    "#insert more item than you replace\n",
    "list1=[\"apple\",\"orange\",\"kevi\",\"watermelon\",\"pineapple\"]\n",
    "list1[1:2]=[\"banana\",\"mango\",]\n",
    "print(list1)"
   ]
  },
  {
   "cell_type": "code",
   "execution_count": 10,
   "id": "e12ae0a1",
   "metadata": {},
   "outputs": [
    {
     "name": "stdout",
     "output_type": "stream",
     "text": [
      "['apple', 'watermelon']\n"
     ]
    }
   ],
   "source": [
    "#insert less item than range\n",
    "list1=[\"apple\",\"banana\",\"cherry\"]\n",
    "list1[1:3]=[\"watermelon\"]\n",
    "print(list1)"
   ]
  },
  {
   "cell_type": "code",
   "execution_count": 11,
   "id": "57bbc864",
   "metadata": {},
   "outputs": [
    {
     "name": "stdout",
     "output_type": "stream",
     "text": [
      "['apple', 'banana', 'mango', 'cherry']\n"
     ]
    }
   ],
   "source": [
    "#insert item without replacing item\n",
    "list1=[\"apple\",\"banana\",\"cherry\"]\n",
    "list1.insert(2,\"mango\")\n",
    "print(list1)"
   ]
  },
  {
   "cell_type": "code",
   "execution_count": null,
   "id": "13979421",
   "metadata": {},
   "outputs": [],
   "source": []
  }
 ],
 "metadata": {
  "kernelspec": {
   "display_name": "Python 3 (ipykernel)",
   "language": "python",
   "name": "python3"
  },
  "language_info": {
   "codemirror_mode": {
    "name": "ipython",
    "version": 3
   },
   "file_extension": ".py",
   "mimetype": "text/x-python",
   "name": "python",
   "nbconvert_exporter": "python",
   "pygments_lexer": "ipython3",
   "version": "3.9.7"
  }
 },
 "nbformat": 4,
 "nbformat_minor": 5
}
