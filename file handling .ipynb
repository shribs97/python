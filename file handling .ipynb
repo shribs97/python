{
 "cells": [
  {
   "cell_type": "code",
   "execution_count": 55,
   "id": "6442bd09",
   "metadata": {},
   "outputs": [
    {
     "name": "stdout",
     "output_type": "stream",
     "text": [
      "I like to swiming\n"
     ]
    }
   ],
   "source": [
    "#open file to diifrent location\n",
    "f=open(\"C:\\\\Users\\\\shridatta\\\\Desktop\\\\gpm.txt\",\"r\")\n",
    "print(f.read())"
   ]
  },
  {
   "cell_type": "code",
   "execution_count": 60,
   "id": "e61879c7",
   "metadata": {},
   "outputs": [],
   "source": [
    "f=open(\"C:\\\\Users\\\\shridatta\\\\Desktop\\\\Schedule.jpeg\",'br')\n",
    "m=f.read()\n",
    "f1=open(\"shri.jpeg\",'bw')\n",
    "f1.write(m)\n",
    "f1.close()\n"
   ]
  },
  {
   "cell_type": "code",
   "execution_count": 9,
   "id": "518c9bf3",
   "metadata": {},
   "outputs": [
    {
     "name": "stdout",
     "output_type": "stream",
     "text": [
      " really ?  really ?  really ?  really ?  really ?  really ?  really ?  really ?  really ? \n"
     ]
    },
    {
     "data": {
      "text/plain": [
       "<function TextIOWrapper.close()>"
      ]
     },
     "execution_count": 9,
     "metadata": {},
     "output_type": "execute_result"
    }
   ],
   "source": [
    "f=open(\"abc.txt\",'r')\n",
    "print(f.read())\n",
    "f=open(\"abc.txt\",'a')\n",
    "f.write(\" really ? \")\n",
    "#print(f.read())\n",
    "f.close"
   ]
  },
  {
   "cell_type": "code",
   "execution_count": 11,
   "id": "cc13feef",
   "metadata": {},
   "outputs": [
    {
     "name": "stdout",
     "output_type": "stream",
     "text": [
      " really ? \n"
     ]
    }
   ],
   "source": [
    "f=open(\"abc.txt\",'w')\n",
    "f.write(\" really ? \")\n",
    "f.close\n",
    "f=open(\"abc.txt\",'r')\n",
    "print(f.read())\n"
   ]
  },
  {
   "cell_type": "code",
   "execution_count": 12,
   "id": "1a939c21",
   "metadata": {},
   "outputs": [
    {
     "ename": "FileNotFoundError",
     "evalue": "[WinError 2] The system cannot find the file specified: 'C:\\\\Users\\\\shridatta\\\\Desktop\\\\gpm.txt'",
     "output_type": "error",
     "traceback": [
      "\u001b[1;31m---------------------------------------------------------------------------\u001b[0m",
      "\u001b[1;31mFileNotFoundError\u001b[0m                         Traceback (most recent call last)",
      "\u001b[1;32m~\\AppData\\Local\\Temp/ipykernel_11616/1627214515.py\u001b[0m in \u001b[0;36m<module>\u001b[1;34m\u001b[0m\n\u001b[0;32m      1\u001b[0m \u001b[1;31m#delete file in file handling\u001b[0m\u001b[1;33m\u001b[0m\u001b[1;33m\u001b[0m\u001b[0m\n\u001b[0;32m      2\u001b[0m \u001b[1;32mimport\u001b[0m \u001b[0mos\u001b[0m\u001b[1;33m\u001b[0m\u001b[1;33m\u001b[0m\u001b[0m\n\u001b[1;32m----> 3\u001b[1;33m \u001b[0mos\u001b[0m\u001b[1;33m.\u001b[0m\u001b[0mremove\u001b[0m\u001b[1;33m(\u001b[0m\u001b[1;34m\"C:\\\\Users\\\\shridatta\\\\Desktop\\\\gpm.txt\"\u001b[0m\u001b[1;33m)\u001b[0m\u001b[1;33m\u001b[0m\u001b[1;33m\u001b[0m\u001b[0m\n\u001b[0m",
      "\u001b[1;31mFileNotFoundError\u001b[0m: [WinError 2] The system cannot find the file specified: 'C:\\\\Users\\\\shridatta\\\\Desktop\\\\gpm.txt'"
     ]
    }
   ],
   "source": [
    "#delete file in file handling\n",
    "import os\n",
    "os.remove(\"C:\\\\Users\\\\shridatta\\\\Desktop\\\\gpm.txt\")"
   ]
  },
  {
   "cell_type": "code",
   "execution_count": 2,
   "id": "66f8d72a",
   "metadata": {},
   "outputs": [
    {
     "name": "stdout",
     "output_type": "stream",
     "text": [
      "you are happy\n",
      "you are happy\n"
     ]
    }
   ],
   "source": [
    "f=open(\"first.txt\",\"w\")\n",
    "f.write(\"you are happy\")\n",
    "f.close\n",
    "f=open(\"first.txt\",\"r\")\n",
    "a=f.read()\n",
    "print(a)\n",
    "f1=open(\"second.txt\",\"w\")\n",
    "f1.write(a)\n",
    "f1.close()\n",
    "f1=open(\"second.txt\",\"r\")\n",
    "print(f1.read())"
   ]
  }
 ],
 "metadata": {
  "kernelspec": {
   "display_name": "Python 3 (ipykernel)",
   "language": "python",
   "name": "python3"
  },
  "language_info": {
   "codemirror_mode": {
    "name": "ipython",
    "version": 3
   },
   "file_extension": ".py",
   "mimetype": "text/x-python",
   "name": "python",
   "nbconvert_exporter": "python",
   "pygments_lexer": "ipython3",
   "version": "3.9.7"
  }
 },
 "nbformat": 4,
 "nbformat_minor": 5
}
