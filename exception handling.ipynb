{
 "cells": [
  {
   "cell_type": "code",
   "execution_count": 5,
   "id": "96ddaf64",
   "metadata": {},
   "outputs": [
    {
     "ename": "SyntaxError",
     "evalue": "invalid syntax (Temp/ipykernel_9648/3234453867.py, line 4)",
     "output_type": "error",
     "traceback": [
      "\u001b[1;36m  File \u001b[1;32m\"C:\\Users\\shridatta\\AppData\\Local\\Temp/ipykernel_9648/3234453867.py\"\u001b[1;36m, line \u001b[1;32m4\u001b[0m\n\u001b[1;33m    assert age>=18:\u001b[0m\n\u001b[1;37m                  ^\u001b[0m\n\u001b[1;31mSyntaxError\u001b[0m\u001b[1;31m:\u001b[0m invalid syntax\n"
     ]
    }
   ],
   "source": [
    "#assert error\n",
    "try:\n",
    "    age=int(input(\"Enter a age\"))\n",
    "    assert age>=18\n",
    "    print(\"valid votter\")\n",
    "except AssertionError:\n",
    "    print(\"Invalid age of voter\")\n",
    "    "
   ]
  },
  {
   "cell_type": "code",
   "execution_count": 3,
   "id": "55b039d5",
   "metadata": {},
   "outputs": [
    {
     "name": "stdout",
     "output_type": "stream",
     "text": [
      ".........\n",
      "  <class 'TypeError'>\n",
      "exception handled\n"
     ]
    }
   ],
   "source": [
    "#try block\n",
    "import sys\n",
    "try:\n",
    "    a=10/0\n",
    "    print(\"Not execute\")\n",
    "except ZeroDivisionError:\n",
    "    print(\".........\")\n",
    "    print(\" \",sys.exc_info()[0])\n",
    "    print(\"exception handled\")\n"
   ]
  },
  {
   "cell_type": "code",
   "execution_count": 1,
   "id": "dce29651",
   "metadata": {},
   "outputs": [],
   "source": [
    "class myexcp(Exception):\n",
    "    def __init__(self,msg):\n",
    "        self.msg=msg\n",
    "        pass\n",
    "    \n",
    "def check(bal):\n",
    "    if bal<2000 :\n",
    "            \n",
    "        raise myexcp(\"Insufficient balance\")\n",
    "        \n",
    "try:\n",
    "    check(10000)\n",
    "except myexcp as m:\n",
    "    print(m)"
   ]
  },
  {
   "cell_type": "code",
   "execution_count": 3,
   "id": "35e3d656",
   "metadata": {},
   "outputs": [
    {
     "name": "stdout",
     "output_type": "stream",
     "text": [
      "Hello Shridatta\n"
     ]
    }
   ],
   "source": [
    "class x(Exception):\n",
    "    def __init__(self,msg):\n",
    "        self.msg=msg\n",
    "try:\n",
    "    raise x(\"Hello Shridatta\")\n",
    "except x as m:\n",
    "    print(m)"
   ]
  },
  {
   "cell_type": "code",
   "execution_count": 6,
   "id": "20754f12",
   "metadata": {},
   "outputs": [],
   "source": [
    "a=10\n",
    "if(not(a==10)):\n",
    "    print(a)\n"
   ]
  },
  {
   "cell_type": "code",
   "execution_count": 9,
   "id": "76c5f5fc",
   "metadata": {},
   "outputs": [
    {
     "name": "stdout",
     "output_type": "stream",
     "text": [
      "True\n"
     ]
    }
   ],
   "source": [
    "a=\"shri\"\n",
    "print(\"x\" not in a)"
   ]
  },
  {
   "cell_type": "code",
   "execution_count": 13,
   "id": "01c5f24a",
   "metadata": {},
   "outputs": [
    {
     "name": "stdout",
     "output_type": "stream",
     "text": [
      "False\n",
      "True\n",
      "True\n"
     ]
    }
   ],
   "source": [
    "a=10\n",
    "b=20\n",
    "c=10\n",
    "print(a==b and a==c)\n",
    "print(a==b or a==c)\n",
    "print(not(a==b and a==c))"
   ]
  }
 ],
 "metadata": {
  "kernelspec": {
   "display_name": "Python 3 (ipykernel)",
   "language": "python",
   "name": "python3"
  },
  "language_info": {
   "codemirror_mode": {
    "name": "ipython",
    "version": 3
   },
   "file_extension": ".py",
   "mimetype": "text/x-python",
   "name": "python",
   "nbconvert_exporter": "python",
   "pygments_lexer": "ipython3",
   "version": "3.9.7"
  }
 },
 "nbformat": 4,
 "nbformat_minor": 5
}
