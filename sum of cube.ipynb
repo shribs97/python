{
 "cells": [
  {
   "cell_type": "code",
   "execution_count": 32,
   "id": "eea4fd84",
   "metadata": {},
   "outputs": [
    {
     "name": "stdout",
     "output_type": "stream",
     "text": [
      "Chose 0 or 1for n number cubes1\n",
      "Enter n number5\n",
      "100\n",
      "***********\n"
     ]
    }
   ],
   "source": [
    "a=int(input(\"Chose 0 or 1for n number cubes\"))\n",
    "n=int(input(\"Enter n number\"))\n",
    "c=1\n",
    "d=0\n",
    "#e=0\n",
    "\n",
    "def cube(n):\n",
    "    for c in range(n):\n",
    "        d=c*c*c\n",
    "        print(d)\n",
    "\n",
    "if a == 0:\n",
    "    cube(n)\n",
    "if a==1:\n",
    "    for c in range(n):\n",
    "        d=c*c*c\n",
    "        e=e+d\n",
    "    print(str(e))\n",
    "print(\"***********\")"
   ]
  },
  {
   "cell_type": "code",
   "execution_count": null,
   "id": "dc54fcc3",
   "metadata": {},
   "outputs": [],
   "source": []
  },
  {
   "cell_type": "code",
   "execution_count": null,
   "id": "39727e4e",
   "metadata": {},
   "outputs": [],
   "source": []
  }
 ],
 "metadata": {
  "kernelspec": {
   "display_name": "Python 3 (ipykernel)",
   "language": "python",
   "name": "python3"
  },
  "language_info": {
   "codemirror_mode": {
    "name": "ipython",
    "version": 3
   },
   "file_extension": ".py",
   "mimetype": "text/x-python",
   "name": "python",
   "nbconvert_exporter": "python",
   "pygments_lexer": "ipython3",
   "version": "3.9.7"
  }
 },
 "nbformat": 4,
 "nbformat_minor": 5
}
