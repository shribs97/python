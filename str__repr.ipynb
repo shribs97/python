{
 "cells": [
  {
   "cell_type": "code",
   "execution_count": 10,
   "id": "b143035d",
   "metadata": {},
   "outputs": [
    {
     "name": "stdout",
     "output_type": "stream",
     "text": [
      "this is class\n",
      "this my repr\n"
     ]
    }
   ],
   "source": [
    "#str method\n",
    "class a:\n",
    "    def __init__(self):\n",
    "        pass\n",
    "    def __str__(self):\n",
    "        a=\"this is class\"\n",
    "        return a\n",
    "    def __repr__(self):\n",
    "        a=\"this my repr\"\n",
    "        return a\n",
    "x=a()\n",
    "x.__str__()\n",
    "print(x.__str__())\n",
    "print(x.__repr__())"
   ]
  },
  {
   "cell_type": "code",
   "execution_count": null,
   "id": "5102b0a3",
   "metadata": {},
   "outputs": [],
   "source": []
  }
 ],
 "metadata": {
  "kernelspec": {
   "display_name": "Python 3 (ipykernel)",
   "language": "python",
   "name": "python3"
  },
  "language_info": {
   "codemirror_mode": {
    "name": "ipython",
    "version": 3
   },
   "file_extension": ".py",
   "mimetype": "text/x-python",
   "name": "python",
   "nbconvert_exporter": "python",
   "pygments_lexer": "ipython3",
   "version": "3.9.7"
  }
 },
 "nbformat": 4,
 "nbformat_minor": 5
}
