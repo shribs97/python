{
 "cells": [
  {
   "cell_type": "code",
   "execution_count": 2,
   "id": "e603fd17",
   "metadata": {},
   "outputs": [
    {
     "name": "stdout",
     "output_type": "stream",
     "text": [
      "Input the password to crack: abc\n",
      "Password cracked in 98337 attempts. The password is abc.\n"
     ]
    }
   ],
   "source": [
    "import itertools\n",
    "import string\n",
    "\n",
    "def bruteforce_attack(password):\n",
    "    chars = string.printable.strip()\n",
    "    attempts = 0\n",
    "    for length in range(1, len(password) + 1):\n",
    "        for guess in itertools.product(chars, repeat=length):\n",
    "            attempts += 1\n",
    "            guess = ''.join(guess)\n",
    "            if guess == password:\n",
    "                return (attempts, guess)\n",
    "    return (attempts, None)\n",
    "\n",
    "password = input(\"Input the password to crack: \")\n",
    "attempts, guess = bruteforce_attack(password)\n",
    "if guess:\n",
    "    print(f\"Password cracked in {attempts} attempts. The password is {guess}.\")\n",
    "else:\n",
    "    print(f\"Password not cracked after {attempts} attempts.\")\n"
   ]
  },
  {
   "cell_type": "code",
   "execution_count": 4,
   "id": "11f8d8fe",
   "metadata": {},
   "outputs": [
    {
     "name": "stdout",
     "output_type": "stream",
     "text": [
      "Password not found\n"
     ]
    }
   ],
   "source": [
    "import hashlib\n",
    "# List of commonly used passwords and their variations\n",
    "common_passwords = [\"password\", \"password123\", \"letmein\", \"qwerty\", \"123456\", \"abc123\", \"admin\", \"welcome\", \"monkey\", \"sunshine\"]\n",
    "password_variations = [\"\", \"123\", \"1234\", \"12345\", \"123456\", \"!\", \"@\", \"#\", \"$\", \"%\", \"^\", \"&\", \"*\", \"(\", \")\", \"-\", \"_\", \"+\", \"=\", \"/\", \"\\\\\", \"|\", \"[\", \"]\", \"{\", \"}\", \"<\", \">\"]\n",
    "# Hash of the password to be attacked\n",
    "hashed_password = hashlib.sha256(b\"mypass12#@\").hexdigest()\n",
    "# Try out all possible combinations of common passwords and their variations\n",
    "for password in common_passwords:\n",
    "    for variation in password_variations:\n",
    "        possible_password = password + variation\n",
    "        hashed_possible_password = hashlib.sha256(possible_password.encode()).hexdigest()\n",
    "        if hashed_possible_password == hashed_password:\n",
    "            print(f\"Password found: {possible_password}\")\n",
    "            break\n",
    "    else:\n",
    "        continue\n",
    "    break\n",
    "else:\n",
    "    print(\"Password not found\")\n"
   ]
  },
  {
   "cell_type": "code",
   "execution_count": 6,
   "id": "c8eee48c",
   "metadata": {},
   "outputs": [
    {
     "name": "stdout",
     "output_type": "stream",
     "text": [
      "SHA-256 Hashed Message: 35ddf88918cf42b57c73ef105c1e2343b95a0b4140ae2517cd9268802910394b\n",
      "Encrypted with AES-CBC: b'\\xfd\\x17\\x82\\x91\\xf8\\x88\\xa1\\xb3\\xac\\xeea/\\xf0\\x99G4\\xf5\\xec\\xf0.r7\\xf6v\\x0bg\\x17\\x84\\xe4\\xbew|n\\x0f\\xde\\x9fB\\xfdn\\xaf\\xff\\xbdo\\t\\xac\\\\7\\xd5\\x98\"\\x87\\xaanqx\\x15\\xfd\\x03\\x9a\\xb9\\x98\\xc96\\xd4'\n",
      "Decrypted Message: The secret messages are often hidden in plain sight.\n",
      "Frequency Analysis of the original message: {'t': 9.3, 'h': 6.98, 'e': 18.6, 's': 11.63, 'c': 2.33, 'r': 4.65, 'm': 2.33, 'a': 6.98, 'g': 4.65, 'o': 2.33, 'f': 2.33, 'n': 9.3, 'i': 9.3, 'd': 4.65, 'p': 2.33, 'l': 2.33}\n"
     ]
    }
   ],
   "source": [
    "import hashlib\n",
    "from Crypto.Cipher import AES\n",
    "from Crypto.Util.Padding import pad, unpad\n",
    "from secrets import token_bytes\n",
    "\n",
    "# Function to hash a message using SHA-256\n",
    "def hash_message(message):\n",
    "    return hashlib.sha256(message.encode()).hexdigest()\n",
    "\n",
    "# Function to generate a random AES key\n",
    "def generate_aes_key():\n",
    "    return token_bytes(16)\n",
    "\n",
    "# Function to encrypt a message using AES-CBC\n",
    "def aes_encrypt(key, message):\n",
    "    cipher = AES.new(key, AES.MODE_CBC)\n",
    "    ct_bytes = cipher.encrypt(pad(message.encode('utf-8'), AES.block_size))\n",
    "    iv = cipher.iv\n",
    "    return iv, ct_bytes\n",
    "\n",
    "# Function to decrypt a cipher text using AES-CBC\n",
    "def aes_decrypt(key, iv, cipher_text):\n",
    "    cipher = AES.new(key, AES.MODE_CBC, iv)\n",
    "    pt = unpad(cipher.decrypt(cipher_text), AES.block_size)\n",
    "    return pt.decode('utf-8')\n",
    "\n",
    "# Function to perform frequency analysis on a text\n",
    "def frequency_analysis(text):\n",
    "    frequency = {}\n",
    "    for char in text:\n",
    "        if char.isalpha():\n",
    "            char = char.lower()\n",
    "            frequency[char] = frequency.get(char, 0) + 1\n",
    "    total = sum(frequency.values())\n",
    "    for char in frequency:\n",
    "        frequency[char] = round(frequency[char] / total * 100, 2)\n",
    "    return frequency\n",
    "\n",
    "# Example usage:\n",
    "message = 'The secret messages are often hidden in plain sight.'\n",
    "hashed = hash_message(message)\n",
    "aes_key = generate_aes_key()\n",
    "iv, cipher_text = aes_encrypt(aes_key, message)\n",
    "decrypted_message = aes_decrypt(aes_key, iv, cipher_text)\n",
    "freq_analysis = frequency_analysis(message)\n",
    "\n",
    "print('SHA-256 Hashed Message:', hashed)\n",
    "print('Encrypted with AES-CBC:', cipher_text)\n",
    "print('Decrypted Message:', decrypted_message)\n",
    "print('Frequency Analysis of the original message:', freq_analysis)"
   ]
  },
  {
   "cell_type": "code",
   "execution_count": null,
   "id": "23cf252e",
   "metadata": {},
   "outputs": [],
   "source": []
  }
 ],
 "metadata": {
  "kernelspec": {
   "display_name": "Python 3 (ipykernel)",
   "language": "python",
   "name": "python3"
  },
  "language_info": {
   "codemirror_mode": {
    "name": "ipython",
    "version": 3
   },
   "file_extension": ".py",
   "mimetype": "text/x-python",
   "name": "python",
   "nbconvert_exporter": "python",
   "pygments_lexer": "ipython3",
   "version": "3.9.7"
  }
 },
 "nbformat": 4,
 "nbformat_minor": 5
}
