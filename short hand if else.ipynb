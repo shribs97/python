{
 "cells": [
  {
   "cell_type": "code",
   "execution_count": 15,
   "id": "59be8198",
   "metadata": {},
   "outputs": [
    {
     "name": "stdout",
     "output_type": "stream",
     "text": [
      "A is negative\n"
     ]
    }
   ],
   "source": [
    "a=-10\n",
    "print(\"a is positive\") if(a>0) else print(\"A is negative\")"
   ]
  },
  {
   "cell_type": "code",
   "execution_count": 14,
   "id": "04998dc2",
   "metadata": {},
   "outputs": [
    {
     "name": "stdout",
     "output_type": "stream",
     "text": [
      "A is smaller than b\n"
     ]
    }
   ],
   "source": [
    "a=10\n",
    "b=20\n",
    "print(\"a is greater than b\") if(a>b) else print(\"A is smaller than b\")"
   ]
  },
  {
   "cell_type": "code",
   "execution_count": null,
   "id": "cb23f014",
   "metadata": {},
   "outputs": [],
   "source": []
  },
  {
   "cell_type": "code",
   "execution_count": null,
   "id": "82ad9efb",
   "metadata": {},
   "outputs": [],
   "source": []
  }
 ],
 "metadata": {
  "kernelspec": {
   "display_name": "Python 3 (ipykernel)",
   "language": "python",
   "name": "python3"
  },
  "language_info": {
   "codemirror_mode": {
    "name": "ipython",
    "version": 3
   },
   "file_extension": ".py",
   "mimetype": "text/x-python",
   "name": "python",
   "nbconvert_exporter": "python",
   "pygments_lexer": "ipython3",
   "version": "3.9.7"
  }
 },
 "nbformat": 4,
 "nbformat_minor": 5
}
