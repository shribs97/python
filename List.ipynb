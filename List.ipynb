{
 "cells": [
  {
   "cell_type": "code",
   "execution_count": 1,
   "id": "aa192c69",
   "metadata": {},
   "outputs": [
    {
     "name": "stdout",
     "output_type": "stream",
     "text": [
      "['Apple', 'Banana', 'cherry']\n"
     ]
    }
   ],
   "source": [
    "mylist=[\"Apple\",\"Banana\",\"cherry\"]\n",
    "print(mylist)"
   ]
  },
  {
   "cell_type": "code",
   "execution_count": 7,
   "id": "5386e027",
   "metadata": {},
   "outputs": [
    {
     "name": "stdout",
     "output_type": "stream",
     "text": [
      "['Apple', 'Banana', 'Cherry', 'Apple', 'Banana', 'Cherry']\n",
      "\n",
      "length of list is :- 6\n"
     ]
    }
   ],
   "source": [
    "#Duplicet members in list\n",
    "thislist=[\"Apple\",\"Banana\",\"Cherry\",\"Apple\",\"Banana\",\"Cherry\"]\n",
    "print(thislist)\n",
    "#Length Of list\n",
    "print(\"\\nlength of list is :-\",len(thislist))\n"
   ]
  },
  {
   "cell_type": "code",
   "execution_count": 15,
   "id": "75bf129e",
   "metadata": {},
   "outputs": [
    {
     "name": "stdout",
     "output_type": "stream",
     "text": [
      " List 1 : ['Shri', 'Sam', 'Ak'] \n",
      " List 2 : [1, 2, 3] \n",
      " List 3 : [True, False, False]\n",
      "['Shridatta', 3, 3.4, True, 5j]\n",
      "List data type is  <class 'list'>\n"
     ]
    }
   ],
   "source": [
    "#List Item Data types\n",
    "list1=[\"Shri\",\"Sam\",\"Ak\"]\n",
    "list2=[1,2,3]\n",
    "list3=[True,False,False]\n",
    "print(\" List 1 :\",list1,\"\\n List 2 :\",list2,\"\\n List 3 :\",list3)\n",
    "#List item string,integer,float,boolean data types\n",
    "list4=[\"Shridatta\",3,3.4,True,5j]\n",
    "print(list4)\n",
    "#list data type\n",
    "print(\"List data type is \",type(list4))"
   ]
  },
  {
   "cell_type": "code",
   "execution_count": 16,
   "id": "15601a9f",
   "metadata": {},
   "outputs": [
    {
     "name": "stdout",
     "output_type": "stream",
     "text": [
      "['Shri', 'Nikhil', 'Gururaj']\n"
     ]
    }
   ],
   "source": [
    "# Constructor of list to creating of list\n",
    "list1=list((\"Shri\",\"Nikhil\",\"Gururaj\"))\n",
    "print(list1)"
   ]
  },
  {
   "cell_type": "code",
   "execution_count": null,
   "id": "8d8c29ec",
   "metadata": {},
   "outputs": [],
   "source": []
  }
 ],
 "metadata": {
  "kernelspec": {
   "display_name": "Python 3 (ipykernel)",
   "language": "python",
   "name": "python3"
  },
  "language_info": {
   "codemirror_mode": {
    "name": "ipython",
    "version": 3
   },
   "file_extension": ".py",
   "mimetype": "text/x-python",
   "name": "python",
   "nbconvert_exporter": "python",
   "pygments_lexer": "ipython3",
   "version": "3.9.7"
  }
 },
 "nbformat": 4,
 "nbformat_minor": 5
}
