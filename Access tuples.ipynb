{
 "cells": [
  {
   "cell_type": "code",
   "execution_count": 1,
   "id": "090f606f",
   "metadata": {},
   "outputs": [
    {
     "name": "stdout",
     "output_type": "stream",
     "text": [
      "sham\n",
      "akash\n"
     ]
    }
   ],
   "source": [
    "tuple1=(\"shridatta\",\"sham\",\"akash\")\n",
    "print(tuple1[1])\n",
    "print(tuple1[-1])\n"
   ]
  },
  {
   "cell_type": "code",
   "execution_count": 4,
   "id": "1b2f9d48",
   "metadata": {},
   "outputs": [
    {
     "name": "stdout",
     "output_type": "stream",
     "text": [
      "('apple', 'banana', 'cherry')\n",
      "('banana', 'cherry', 'kewi', 'mango')\n",
      "('kewi', 'mango', 'orange')\n",
      "----------------****************-------------------\n",
      "('cherry', 'kewi')\n"
     ]
    }
   ],
   "source": [
    "tuple1=(\"apple\",\"banana\",\"cherry\",\"kewi\",\"mango\",\"orange\")\n",
    "print(tuple1[:3])\n",
    "print(tuple1[1:5])\n",
    "print(tuple1[3:])\n",
    "print(\"----------------****************-------------------\")\n",
    "print(tuple1[-4:-2])"
   ]
  },
  {
   "cell_type": "code",
   "execution_count": 8,
   "id": "2e633329",
   "metadata": {},
   "outputs": [
    {
     "name": "stdout",
     "output_type": "stream",
     "text": [
      "yes,Mango in tupple of fruits\n"
     ]
    }
   ],
   "source": [
    "tuple1=(\"apple\",\"banana\",\"cherry\",\"mango\",\"orange\")\n",
    "if \"mango\" in tuple1:\n",
    "    print(\"yes,Mango in tupple of fruits\")"
   ]
  },
  {
   "cell_type": "code",
   "execution_count": null,
   "id": "ac65fdfd",
   "metadata": {},
   "outputs": [],
   "source": []
  }
 ],
 "metadata": {
  "kernelspec": {
   "display_name": "Python 3 (ipykernel)",
   "language": "python",
   "name": "python3"
  },
  "language_info": {
   "codemirror_mode": {
    "name": "ipython",
    "version": 3
   },
   "file_extension": ".py",
   "mimetype": "text/x-python",
   "name": "python",
   "nbconvert_exporter": "python",
   "pygments_lexer": "ipython3",
   "version": "3.9.7"
  }
 },
 "nbformat": 4,
 "nbformat_minor": 5
}
