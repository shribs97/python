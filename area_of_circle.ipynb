{
 "cells": [
  {
   "cell_type": "code",
   "execution_count": 3,
   "id": "0bce834c",
   "metadata": {},
   "outputs": [
    {
     "name": "stdout",
     "output_type": "stream",
     "text": [
      "X= 5\n",
      "X= 10\n",
      "X= 5\n"
     ]
    }
   ],
   "source": [
    "X=10\n",
    "def display():\n",
    "    X=5\n",
    "    print(\"X=\",X)\n",
    "display()\n",
    "print(\"X=\",X)\n",
    "display()"
   ]
  },
  {
   "cell_type": "code",
   "execution_count": 5,
   "id": "bf717bd3",
   "metadata": {},
   "outputs": [
    {
     "name": "stdout",
     "output_type": "stream",
     "text": [
      "area= 125\n",
      "Enter radius15\n",
      "area of circle= 706.8583470577034\n"
     ]
    }
   ],
   "source": [
    "def cal_area(n):\n",
    "    return n*n*n\n",
    "x=cal_area(5)\n",
    "print(\"area=\",x)\n",
    "import math\n",
    "\n",
    "def area_circle(r):\n",
    "    area=math.pi*r*r\n",
    "    return area\n",
    "r=int(input(\"Enter radius\"))\n",
    "x=area_circle(r)\n",
    "print(\"area of circle=\",x)\n",
    "\n",
    "    "
   ]
  },
  {
   "cell_type": "code",
   "execution_count": 10,
   "id": "24323fab",
   "metadata": {},
   "outputs": [
    {
     "name": "stdout",
     "output_type": "stream",
     "text": [
      "Enter n number5\n",
      "0 \n",
      "1\n",
      "1\n",
      "2\n",
      "3\n"
     ]
    }
   ],
   "source": [
    "n=int(input(\"Enter n number\"))\n",
    "n=n-2\n",
    "print(\"0\",\"\\n1\")\n",
    "a=0\n",
    "b=1\n",
    "while(n>0):\n",
    "    c=a+b\n",
    "    print(c)\n",
    "    a,b=b,c\n",
    "    n-=1"
   ]
  },
  {
   "cell_type": "code",
   "execution_count": 21,
   "id": "34528329",
   "metadata": {},
   "outputs": [
    {
     "name": "stdout",
     "output_type": "stream",
     "text": [
      "Enter a tuple10,20,30\n",
      "<class 'tuple'>\n",
      "Enter a tuple40,50,60\n",
      "<class 'tuple'>\n",
      "1714486242048\n",
      "1714486263680\n",
      "1714486263680\n",
      "1714486242048\n"
     ]
    }
   ],
   "source": [
    "a=eval(input(\"Enter a tuple\"))\n",
    "print(type(a))\n",
    "b=eval(input(\"Enter a tuple\"))\n",
    "print(type(b))\n",
    "print(id(a))\n",
    "print(id(b))\n",
    "c=a\n",
    "a=b\n",
    "b=c\n",
    "print(id(a))\n",
    "print(id(b))\n"
   ]
  }
 ],
 "metadata": {
  "kernelspec": {
   "display_name": "Python 3 (ipykernel)",
   "language": "python",
   "name": "python3"
  },
  "language_info": {
   "codemirror_mode": {
    "name": "ipython",
    "version": 3
   },
   "file_extension": ".py",
   "mimetype": "text/x-python",
   "name": "python",
   "nbconvert_exporter": "python",
   "pygments_lexer": "ipython3",
   "version": "3.9.7"
  }
 },
 "nbformat": 4,
 "nbformat_minor": 5
}
