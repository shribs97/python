{
 "cells": [
  {
   "cell_type": "code",
   "execution_count": 2,
   "id": "6aa45dca",
   "metadata": {},
   "outputs": [
    {
     "name": "stdout",
     "output_type": "stream",
     "text": [
      "Enter the text message: shri\n",
      "Hexadecimal representation: 73687269\n"
     ]
    }
   ],
   "source": [
    "import binascii\n",
    "\n",
    "def text_to_hex(message):\n",
    "    # Convert the text message to bytes\n",
    "    message_bytes = message.encode('utf-8')\n",
    "\n",
    "    # Convert bytes to hexadecimal representation\n",
    "    hex_representation = binascii.hexlify(message_bytes).decode('utf-8')\n",
    "\n",
    "    return hex_representation\n",
    "\n",
    "if __name__ == \"__main__\":\n",
    "    # Get input from the user\n",
    "    text_message = input(\"Enter the text message: \")\n",
    "\n",
    "    # Convert text to hex\n",
    "    hex_message = text_to_hex(text_message)\n",
    "\n",
    "    print(f\"Hexadecimal representation: {hex_message}\")\n"
   ]
  },
  {
   "cell_type": "code",
   "execution_count": null,
   "id": "f2298a13",
   "metadata": {},
   "outputs": [],
   "source": []
  }
 ],
 "metadata": {
  "kernelspec": {
   "display_name": "Python 3 (ipykernel)",
   "language": "python",
   "name": "python3"
  },
  "language_info": {
   "codemirror_mode": {
    "name": "ipython",
    "version": 3
   },
   "file_extension": ".py",
   "mimetype": "text/x-python",
   "name": "python",
   "nbconvert_exporter": "python",
   "pygments_lexer": "ipython3",
   "version": "3.9.7"
  }
 },
 "nbformat": 4,
 "nbformat_minor": 5
}
