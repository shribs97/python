{
 "cells": [
  {
   "cell_type": "code",
   "execution_count": 1,
   "id": "9822d93b",
   "metadata": {},
   "outputs": [
    {
     "name": "stdout",
     "output_type": "stream",
     "text": [
      "DNS Lookup Program\n",
      "1. IP to Hostname\n",
      "2. Hostname to IP\n",
      "Enter your choice (1 or 2): 1\n",
      "Enter IP address: 192.168.143.122\n",
      "Hostname for 192.168.143.122: Unknown Hostname\n"
     ]
    }
   ],
   "source": [
    "import socket\n",
    "\n",
    "def ip_to_hostname(ip_address):\n",
    "    try:\n",
    "        hostname, _, _ = socket.gethostbyaddr(ip_address)\n",
    "        return hostname\n",
    "    except socket.herror:\n",
    "        return \"Unknown Hostname\"\n",
    "\n",
    "def hostname_to_ip(hostname):\n",
    "    try:\n",
    "        ip_address = socket.gethostbyname(hostname)\n",
    "        return ip_address\n",
    "    except socket.gaierror:\n",
    "        return \"Unknown IP Address\"\n",
    "\n",
    "def main():\n",
    "    print(\"DNS Lookup Program\")\n",
    "    print(\"1. IP to Hostname\")\n",
    "    print(\"2. Hostname to IP\")\n",
    "    \n",
    "    choice = input(\"Enter your choice (1 or 2): \")\n",
    "\n",
    "    if choice == \"1\":\n",
    "        ip_address = input(\"Enter IP address: \")\n",
    "        hostname = ip_to_hostname(ip_address)\n",
    "        print(f\"Hostname for {ip_address}: {hostname}\")\n",
    "    elif choice == \"2\":\n",
    "        hostname = input(\"Enter hostname: \")\n",
    "        ip_address = hostname_to_ip(hostname)\n",
    "        print(f\"IP Address for {hostname}: {ip_address}\")\n",
    "    else:\n",
    "        print(\"Invalid choice. Please enter either 1 or 2.\")\n",
    "\n",
    "if __name__ == \"__main__\":\n",
    "    main()\n"
   ]
  },
  {
   "cell_type": "code",
   "execution_count": null,
   "id": "3d9ba181",
   "metadata": {},
   "outputs": [],
   "source": []
  }
 ],
 "metadata": {
  "kernelspec": {
   "display_name": "Python 3 (ipykernel)",
   "language": "python",
   "name": "python3"
  },
  "language_info": {
   "codemirror_mode": {
    "name": "ipython",
    "version": 3
   },
   "file_extension": ".py",
   "mimetype": "text/x-python",
   "name": "python",
   "nbconvert_exporter": "python",
   "pygments_lexer": "ipython3",
   "version": "3.9.7"
  }
 },
 "nbformat": 4,
 "nbformat_minor": 5
}
