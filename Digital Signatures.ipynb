{
 "cells": [
  {
   "cell_type": "code",
   "execution_count": 15,
   "id": "380e96b1",
   "metadata": {},
   "outputs": [],
   "source": [
    "import random\n",
    "P=4\n",
    "G=12\n",
    "def gcd(p,q):\n",
    "    \n",
    "    while q !=0:\n",
    "        p,q=q,p%q\n",
    "    return p\n",
    "\n",
    "def iscoprime(x,y):\n",
    "    return gcd==1\n",
    "i=0\n",
    "u,v=0,0\n",
    "while i!=1:\n",
    "    a=random.randint(2,P*G)\n",
    "    b=random.randint(2,P*G)\n",
    "   \n",
    "    if(a!=b):\n",
    "        iscoprime(a,b)\n",
    "        i=1\n",
    "#a,b private secrete key || co prime numbers\n"
   ]
  },
  {
   "cell_type": "code",
   "execution_count": 19,
   "id": "d911d85c",
   "metadata": {},
   "outputs": [
    {
     "name": "stdout",
     "output_type": "stream",
     "text": [
      "2 2\n",
      "Key exschanges Successfully\n"
     ]
    }
   ],
   "source": [
    "X=(G^a)%P\n",
    "Y=(G^b)%P\n",
    "\n",
    "alice=(Y^a)%P\n",
    "bob=(X^b)%P\n",
    "\n",
    "if(alice==bob):\n",
    "    print(\"Key exschanges Successfully\")\n",
    "else:\n",
    "    print(\"key not exschanged succesfully\")"
   ]
  },
  {
   "cell_type": "code",
   "execution_count": null,
   "id": "5741a654",
   "metadata": {},
   "outputs": [],
   "source": []
  },
  {
   "cell_type": "code",
   "execution_count": 33,
   "id": "cf83e6d0",
   "metadata": {},
   "outputs": [
    {
     "ename": "ValueError",
     "evalue": "Could not deserialize key data. The data may be in an incorrect format or it may be encrypted with an unsupported algorithm.",
     "output_type": "error",
     "traceback": [
      "\u001b[1;31m---------------------------------------------------------------------------\u001b[0m",
      "\u001b[1;31mValueError\u001b[0m                                Traceback (most recent call last)",
      "\u001b[1;32m~\\AppData\\Local\\Temp/ipykernel_1248/1656371238.py\u001b[0m in \u001b[0;36m<module>\u001b[1;34m\u001b[0m\n\u001b[0;32m      8\u001b[0m     \u001b[0mprivate_key_pem\u001b[0m \u001b[1;33m=\u001b[0m \u001b[0mf\u001b[0m\u001b[1;33m.\u001b[0m\u001b[0mread\u001b[0m\u001b[1;33m(\u001b[0m\u001b[1;33m)\u001b[0m\u001b[1;33m\u001b[0m\u001b[1;33m\u001b[0m\u001b[0m\n\u001b[0;32m      9\u001b[0m \u001b[1;33m\u001b[0m\u001b[0m\n\u001b[1;32m---> 10\u001b[1;33m private_key = serialization.load_pem_private_key(\n\u001b[0m\u001b[0;32m     11\u001b[0m     \u001b[0mprivate_key_pem\u001b[0m\u001b[1;33m,\u001b[0m\u001b[1;33m\u001b[0m\u001b[1;33m\u001b[0m\u001b[0m\n\u001b[0;32m     12\u001b[0m     \u001b[0mpassword\u001b[0m\u001b[1;33m=\u001b[0m\u001b[1;32mNone\u001b[0m\u001b[1;33m,\u001b[0m\u001b[1;33m\u001b[0m\u001b[1;33m\u001b[0m\u001b[0m\n",
      "\u001b[1;32m~\\anaconda3\\lib\\site-packages\\cryptography\\hazmat\\primitives\\serialization\\base.py\u001b[0m in \u001b[0;36mload_pem_private_key\u001b[1;34m(data, password, backend)\u001b[0m\n\u001b[0;32m     18\u001b[0m ) -> _PRIVATE_KEY_TYPES:\n\u001b[0;32m     19\u001b[0m     \u001b[0mbackend\u001b[0m \u001b[1;33m=\u001b[0m \u001b[0m_get_backend\u001b[0m\u001b[1;33m(\u001b[0m\u001b[0mbackend\u001b[0m\u001b[1;33m)\u001b[0m\u001b[1;33m\u001b[0m\u001b[1;33m\u001b[0m\u001b[0m\n\u001b[1;32m---> 20\u001b[1;33m     \u001b[1;32mreturn\u001b[0m \u001b[0mbackend\u001b[0m\u001b[1;33m.\u001b[0m\u001b[0mload_pem_private_key\u001b[0m\u001b[1;33m(\u001b[0m\u001b[0mdata\u001b[0m\u001b[1;33m,\u001b[0m \u001b[0mpassword\u001b[0m\u001b[1;33m)\u001b[0m\u001b[1;33m\u001b[0m\u001b[1;33m\u001b[0m\u001b[0m\n\u001b[0m\u001b[0;32m     21\u001b[0m \u001b[1;33m\u001b[0m\u001b[0m\n\u001b[0;32m     22\u001b[0m \u001b[1;33m\u001b[0m\u001b[0m\n",
      "\u001b[1;32m~\\anaconda3\\lib\\site-packages\\cryptography\\hazmat\\backends\\openssl\\backend.py\u001b[0m in \u001b[0;36mload_pem_private_key\u001b[1;34m(self, data, password)\u001b[0m\n\u001b[0;32m   1215\u001b[0m \u001b[1;33m\u001b[0m\u001b[0m\n\u001b[0;32m   1216\u001b[0m     \u001b[1;32mdef\u001b[0m \u001b[0mload_pem_private_key\u001b[0m\u001b[1;33m(\u001b[0m\u001b[0mself\u001b[0m\u001b[1;33m,\u001b[0m \u001b[0mdata\u001b[0m\u001b[1;33m,\u001b[0m \u001b[0mpassword\u001b[0m\u001b[1;33m)\u001b[0m\u001b[1;33m:\u001b[0m\u001b[1;33m\u001b[0m\u001b[1;33m\u001b[0m\u001b[0m\n\u001b[1;32m-> 1217\u001b[1;33m         return self._load_key(\n\u001b[0m\u001b[0;32m   1218\u001b[0m             \u001b[0mself\u001b[0m\u001b[1;33m.\u001b[0m\u001b[0m_lib\u001b[0m\u001b[1;33m.\u001b[0m\u001b[0mPEM_read_bio_PrivateKey\u001b[0m\u001b[1;33m,\u001b[0m\u001b[1;33m\u001b[0m\u001b[1;33m\u001b[0m\u001b[0m\n\u001b[0;32m   1219\u001b[0m             \u001b[0mself\u001b[0m\u001b[1;33m.\u001b[0m\u001b[0m_evp_pkey_to_private_key\u001b[0m\u001b[1;33m,\u001b[0m\u001b[1;33m\u001b[0m\u001b[1;33m\u001b[0m\u001b[0m\n",
      "\u001b[1;32m~\\anaconda3\\lib\\site-packages\\cryptography\\hazmat\\backends\\openssl\\backend.py\u001b[0m in \u001b[0;36m_load_key\u001b[1;34m(self, openssl_read_func, convert_func, data, password)\u001b[0m\n\u001b[0;32m   1446\u001b[0m                     )\n\u001b[0;32m   1447\u001b[0m             \u001b[1;32melse\u001b[0m\u001b[1;33m:\u001b[0m\u001b[1;33m\u001b[0m\u001b[1;33m\u001b[0m\u001b[0m\n\u001b[1;32m-> 1448\u001b[1;33m                 \u001b[0mself\u001b[0m\u001b[1;33m.\u001b[0m\u001b[0m_handle_key_loading_error\u001b[0m\u001b[1;33m(\u001b[0m\u001b[1;33m)\u001b[0m\u001b[1;33m\u001b[0m\u001b[1;33m\u001b[0m\u001b[0m\n\u001b[0m\u001b[0;32m   1449\u001b[0m \u001b[1;33m\u001b[0m\u001b[0m\n\u001b[0;32m   1450\u001b[0m         \u001b[0mevp_pkey\u001b[0m \u001b[1;33m=\u001b[0m \u001b[0mself\u001b[0m\u001b[1;33m.\u001b[0m\u001b[0m_ffi\u001b[0m\u001b[1;33m.\u001b[0m\u001b[0mgc\u001b[0m\u001b[1;33m(\u001b[0m\u001b[0mevp_pkey\u001b[0m\u001b[1;33m,\u001b[0m \u001b[0mself\u001b[0m\u001b[1;33m.\u001b[0m\u001b[0m_lib\u001b[0m\u001b[1;33m.\u001b[0m\u001b[0mEVP_PKEY_free\u001b[0m\u001b[1;33m)\u001b[0m\u001b[1;33m\u001b[0m\u001b[1;33m\u001b[0m\u001b[0m\n",
      "\u001b[1;32m~\\anaconda3\\lib\\site-packages\\cryptography\\hazmat\\backends\\openssl\\backend.py\u001b[0m in \u001b[0;36m_handle_key_loading_error\u001b[1;34m(self)\u001b[0m\n\u001b[0;32m   1488\u001b[0m \u001b[1;33m\u001b[0m\u001b[0m\n\u001b[0;32m   1489\u001b[0m         \u001b[1;32melse\u001b[0m\u001b[1;33m:\u001b[0m\u001b[1;33m\u001b[0m\u001b[1;33m\u001b[0m\u001b[0m\n\u001b[1;32m-> 1490\u001b[1;33m             raise ValueError(\n\u001b[0m\u001b[0;32m   1491\u001b[0m                 \u001b[1;34m\"Could not deserialize key data. The data may be in an \"\u001b[0m\u001b[1;33m\u001b[0m\u001b[1;33m\u001b[0m\u001b[0m\n\u001b[0;32m   1492\u001b[0m                 \u001b[1;34m\"incorrect format or it may be encrypted with an unsupported \"\u001b[0m\u001b[1;33m\u001b[0m\u001b[1;33m\u001b[0m\u001b[0m\n",
      "\u001b[1;31mValueError\u001b[0m: Could not deserialize key data. The data may be in an incorrect format or it may be encrypted with an unsupported algorithm."
     ]
    }
   ],
   "source": [
    "from cryptography.hazmat.backends import default_backend\n",
    "from cryptography.hazmat.primitives import serialization\n",
    "from cryptography.hazmat.primitives import hashes\n",
    "from cryptography.hazmat.primitives.asymmetric import padding\n",
    "\n",
    "# Read private key from file\n",
    "with open('private_key.pem', 'rb') as f:\n",
    "    private_key_pem = f.read()\n",
    "\n",
    "private_key = serialization.load_pem_private_key(\n",
    "    private_key_pem,\n",
    "    password=None,\n",
    "    backend=default_backend()\n",
    ")\n",
    "\n",
    "with open('hashed_message.txt', 'rb') as f:\n",
    "    hashed_message = f.read()\n",
    "\n",
    "\n",
    "signature = private_key.sign(\n",
    "    hashed_message,\n",
    "    padding.PSS(\n",
    "        mgf=padding.MGF1(hashes.SHA256()),\n",
    "        salt_length=padding.PSS.MAX_LENGTH\n",
    "    ),\n",
    "    hashes.SHA256()\n",
    ")\n",
    "\n",
    "print(\"Well done!\\n\\nYou created a signature you always wanted\\nCheck you folder\")\n",
    "\n",
    "with open('signature.bin', 'wb') as f:\n",
    "    f.write(signature)"
   ]
  },
  {
   "cell_type": "code",
   "execution_count": null,
   "id": "06234ed0",
   "metadata": {},
   "outputs": [],
   "source": []
  }
 ],
 "metadata": {
  "kernelspec": {
   "display_name": "Python 3 (ipykernel)",
   "language": "python",
   "name": "python3"
  },
  "language_info": {
   "codemirror_mode": {
    "name": "ipython",
    "version": 3
   },
   "file_extension": ".py",
   "mimetype": "text/x-python",
   "name": "python",
   "nbconvert_exporter": "python",
   "pygments_lexer": "ipython3",
   "version": "3.9.7"
  }
 },
 "nbformat": 4,
 "nbformat_minor": 5
}
