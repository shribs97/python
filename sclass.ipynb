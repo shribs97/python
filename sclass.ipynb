{
 "cells": [
  {
   "cell_type": "code",
   "execution_count": null,
   "id": "408329e6",
   "metadata": {},
   "outputs": [],
   "source": [
    "class student:\n",
    "    roll=0\n",
    "    nm=\" \"\n",
    "    def getdata(self):\n",
    "        roll=int(input(\"Enter roll=\"))\n",
    "        nm=input(\"enter name=\")\n",
    "        self.roll=roll\n",
    "        self.nm=nm\n",
    "    def putdata(self):\n",
    "        print(\"roll=\",self.roll)\n",
    "        print(\"nm=\",self.nm)\n",
    "s1=student()\n",
    "s1.getdata()\n",
    "s1.putdata()"
   ]
  },
  {
   "cell_type": "code",
   "execution_count": null,
   "id": "06ffa39c",
   "metadata": {},
   "outputs": [],
   "source": []
  },
  {
   "cell_type": "code",
   "execution_count": null,
   "id": "c504ad9e",
   "metadata": {},
   "outputs": [],
   "source": []
  },
  {
   "cell_type": "code",
   "execution_count": null,
   "id": "2a423e4a",
   "metadata": {},
   "outputs": [],
   "source": []
  },
  {
   "cell_type": "code",
   "execution_count": null,
   "id": "bea7f5d4",
   "metadata": {},
   "outputs": [],
   "source": []
  },
  {
   "cell_type": "code",
   "execution_count": null,
   "id": "6657293b",
   "metadata": {},
   "outputs": [],
   "source": []
  },
  {
   "cell_type": "code",
   "execution_count": null,
   "id": "c6e6733c",
   "metadata": {},
   "outputs": [],
   "source": []
  },
  {
   "cell_type": "code",
   "execution_count": null,
   "id": "3a7a56e3",
   "metadata": {},
   "outputs": [],
   "source": []
  },
  {
   "cell_type": "code",
   "execution_count": null,
   "id": "6710c8bb",
   "metadata": {},
   "outputs": [],
   "source": []
  }
 ],
 "metadata": {
  "kernelspec": {
   "display_name": "Python 3 (ipykernel)",
   "language": "python",
   "name": "python3"
  },
  "language_info": {
   "codemirror_mode": {
    "name": "ipython",
    "version": 3
   },
   "file_extension": ".py",
   "mimetype": "text/x-python",
   "name": "python",
   "nbconvert_exporter": "python",
   "pygments_lexer": "ipython3",
   "version": "3.9.7"
  }
 },
 "nbformat": 4,
 "nbformat_minor": 5
}
