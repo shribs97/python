{
 "cells": [
  {
   "cell_type": "code",
   "execution_count": 1,
   "id": "298a8ae0",
   "metadata": {},
   "outputs": [
    {
     "name": "stdout",
     "output_type": "stream",
     "text": [
      "['gray', 'green', 'pink', 'red']\n"
     ]
    }
   ],
   "source": [
    "# list in sorted\n",
    "list1=[\"red\",\"green\",\"pink\",\"gray\"]\n",
    "list1.sort()\n",
    "print(list1)"
   ]
  },
  {
   "cell_type": "code",
   "execution_count": 2,
   "id": "47bfe8c7",
   "metadata": {},
   "outputs": [
    {
     "name": "stdout",
     "output_type": "stream",
     "text": [
      "[0.04, 0.05, 40, 65, 95, 97]\n"
     ]
    }
   ],
   "source": [
    "list1=[40,65,97,0.05,0.04,95]\n",
    "list1.sort()\n",
    "print(list1)"
   ]
  },
  {
   "cell_type": "code",
   "execution_count": 3,
   "id": "e955c011",
   "metadata": {},
   "outputs": [
    {
     "name": "stdout",
     "output_type": "stream",
     "text": [
      "['yellow', 'red', 'pista', 'green', 'blue']\n"
     ]
    }
   ],
   "source": [
    "#sort list in deceanding order\n",
    "list1=[\"red\",\"green\",\"yellow\",\"blue\",\"pista\"]\n",
    "list1.sort(reverse=True)\n",
    "print(list1)"
   ]
  },
  {
   "cell_type": "code",
   "execution_count": 5,
   "id": "d9b7368e",
   "metadata": {},
   "outputs": [
    {
     "name": "stdout",
     "output_type": "stream",
     "text": [
      "[97, 95, 65, 40, 0.05, 0.04]\n"
     ]
    }
   ],
   "source": [
    "list1=[40,65,97,0.05,0.04,95]\n",
    "list1.sort(reverse=True)\n",
    "print(list1)"
   ]
  },
  {
   "cell_type": "code",
   "execution_count": 15,
   "id": "32975dab",
   "metadata": {},
   "outputs": [
    {
     "name": "stdout",
     "output_type": "stream",
     "text": [
      "[110, 98, 75, 42, 32, 20, 12]\n"
     ]
    }
   ],
   "source": [
    "#customise sort function\n",
    "def myfun(n):\n",
    "    return abs(n-1000)\n",
    "shri=list((98,75,32,42,12,20,110))\n",
    "shri.sort(key=myfun)\n",
    "print(shri)"
   ]
  },
  {
   "cell_type": "code",
   "execution_count": 24,
   "id": "38f87f2c",
   "metadata": {},
   "outputs": [
    {
     "name": "stdout",
     "output_type": "stream",
     "text": [
      "['aatul', 'Akash', 'Nikhil', 'Sam', 'shri']\n"
     ]
    }
   ],
   "source": [
    "#case insentitive sort\n",
    "list1=[\"shri\",\"Sam\",\"Nikhil\",\"aatul\",\"Akash\"]\n",
    "list1.sort(key = str.lower)\n",
    "print(list1)"
   ]
  },
  {
   "cell_type": "code",
   "execution_count": 25,
   "id": "bce7bd8e",
   "metadata": {},
   "outputs": [
    {
     "name": "stdout",
     "output_type": "stream",
     "text": [
      "['pista', 'blue', 'yellow', 'green', 'red']\n"
     ]
    }
   ],
   "source": [
    "#reverse order reverse()\n",
    "list1=[\"red\",\"green\",\"yellow\",\"blue\",\"pista\"]\n",
    "list1.reverse()\n",
    "print(list1)"
   ]
  },
  {
   "cell_type": "code",
   "execution_count": null,
   "id": "bcfe397f",
   "metadata": {},
   "outputs": [],
   "source": []
  }
 ],
 "metadata": {
  "kernelspec": {
   "display_name": "Python 3 (ipykernel)",
   "language": "python",
   "name": "python3"
  },
  "language_info": {
   "codemirror_mode": {
    "name": "ipython",
    "version": 3
   },
   "file_extension": ".py",
   "mimetype": "text/x-python",
   "name": "python",
   "nbconvert_exporter": "python",
   "pygments_lexer": "ipython3",
   "version": "3.9.7"
  }
 },
 "nbformat": 4,
 "nbformat_minor": 5
}
