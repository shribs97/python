{
 "cells": [
  {
   "cell_type": "code",
   "execution_count": 3,
   "id": "16381005",
   "metadata": {},
   "outputs": [
    {
     "name": "stdout",
     "output_type": "stream",
     "text": [
      "WELCOME\n"
     ]
    }
   ],
   "source": [
    "def fun():\n",
    "    print(\"WELCOME\")\n"
   ]
  },
  {
   "cell_type": "code",
   "execution_count": 8,
   "id": "85f3fdc9",
   "metadata": {},
   "outputs": [
    {
     "name": "stdout",
     "output_type": "stream",
     "text": [
      "WELCOME\n",
      " 410\n",
      " Shridatta\n",
      " 0\n"
     ]
    }
   ],
   "source": [
    "fun()\n",
    "def call(x,y):\n",
    "    print(\"\",x+y)\n",
    "call(10,20**2)\n",
    "call(\"Shri\",\"datta\")\n",
    "call(False,False)\n"
   ]
  },
  {
   "cell_type": "code",
   "execution_count": 8,
   "id": "c66e0f72",
   "metadata": {},
   "outputs": [
    {
     "name": "stdout",
     "output_type": "stream",
     "text": [
      "100\n"
     ]
    }
   ],
   "source": [
    "def call(s):\n",
    "    x=s**2\n",
    "    return x\n",
    "y=call\n",
    "a=y(10)\n",
    "print(a)"
   ]
  },
  {
   "cell_type": "code",
   "execution_count": 11,
   "id": "96f81491",
   "metadata": {},
   "outputs": [
    {
     "name": "stdout",
     "output_type": "stream",
     "text": [
      "30\n"
     ]
    }
   ],
   "source": [
    "def x(a,b):\n",
    "    print(a+b);\n",
    "x(10,b=20)"
   ]
  },
  {
   "cell_type": "code",
   "execution_count": 13,
   "id": "8e05a13d",
   "metadata": {},
   "outputs": [
    {
     "name": "stdout",
     "output_type": "stream",
     "text": [
      "100\n"
     ]
    }
   ],
   "source": [
    "x(10,90)"
   ]
  },
  {
   "cell_type": "code",
   "execution_count": 24,
   "id": "a17b3db2",
   "metadata": {},
   "outputs": [
    {
     "name": "stdout",
     "output_type": "stream",
     "text": [
      "shri b\n"
     ]
    }
   ],
   "source": [
    "def call(a,b):\n",
    "    print(a+b)\n",
    "call(\"shri \",\"b\")"
   ]
  },
  {
   "cell_type": "code",
   "execution_count": 25,
   "id": "11ec5b29",
   "metadata": {},
   "outputs": [
    {
     "name": "stdout",
     "output_type": "stream",
     "text": [
      "30\n"
     ]
    }
   ],
   "source": [
    "call(10,20)"
   ]
  },
  {
   "cell_type": "code",
   "execution_count": 26,
   "id": "24eb3752",
   "metadata": {},
   "outputs": [
    {
     "name": "stdout",
     "output_type": "stream",
     "text": [
      "70\n"
     ]
    }
   ],
   "source": [
    "call(a=50,b=20)"
   ]
  },
  {
   "cell_type": "code",
   "execution_count": 30,
   "id": "e5e3f18b",
   "metadata": {},
   "outputs": [
    {
     "name": "stdout",
     "output_type": "stream",
     "text": [
      "Shri   35\n"
     ]
    }
   ],
   "source": [
    "def y(a,b=35):\n",
    "    print(str(a),\" \",b)\n",
    "y(a=\"Shri\")"
   ]
  },
  {
   "cell_type": "code",
   "execution_count": 34,
   "id": "682d3a66",
   "metadata": {},
   "outputs": [
    {
     "name": "stdout",
     "output_type": "stream",
     "text": [
      "5   35\n"
     ]
    }
   ],
   "source": [
    "y(5)"
   ]
  },
  {
   "cell_type": "code",
   "execution_count": 3,
   "id": "1b3686c1",
   "metadata": {},
   "outputs": [
    {
     "name": "stdout",
     "output_type": "stream",
     "text": [
      "this is b [10, 20, 30]\n",
      "()\n"
     ]
    }
   ],
   "source": [
    "def x(b,*c,):\n",
    "    print(\"this is b\",b)\n",
    "    print(c)\n",
    "a=[10,20,30]\n",
    "x(a)"
   ]
  },
  {
   "cell_type": "code",
   "execution_count": 4,
   "id": "28f6e018",
   "metadata": {},
   "outputs": [
    {
     "name": "stdout",
     "output_type": "stream",
     "text": [
      "Constructor Calling...!\n"
     ]
    }
   ],
   "source": [
    "class A: \n",
    "    def __init__(self): \n",
    "        print(\"Constructor Calling...!\")\n",
    "    def __del__(self):\n",
    "        print(\"Destrucotor CAlling!\")\n",
    "        \n",
    "\n",
    "a=A() \n"
   ]
  },
  {
   "cell_type": "code",
   "execution_count": 7,
   "id": "7f4c3093",
   "metadata": {},
   "outputs": [
    {
     "name": "stdout",
     "output_type": "stream",
     "text": [
      "Constructor Calling...!\n",
      "Destrucotor CAlling!\n",
      "Constructor Calling...!\n"
     ]
    }
   ],
   "source": [
    "def fun(): \n",
    "    a=A() \n",
    "fun()  \n",
    "\n",
    "a.__init__()\n"
   ]
  },
  {
   "cell_type": "code",
   "execution_count": 9,
   "id": "f338562e",
   "metadata": {},
   "outputs": [
    {
     "name": "stdout",
     "output_type": "stream",
     "text": [
      "Destrucotor CAlling!\n"
     ]
    }
   ],
   "source": [
    "a.__del__()\n"
   ]
  },
  {
   "cell_type": "code",
   "execution_count": 11,
   "id": "42d01de4",
   "metadata": {},
   "outputs": [
    {
     "name": "stdout",
     "output_type": "stream",
     "text": [
      "Destrucotor CAlling!\n"
     ]
    },
    {
     "data": {
      "text/plain": [
       "10"
      ]
     },
     "execution_count": 11,
     "metadata": {},
     "output_type": "execute_result"
    }
   ],
   "source": [
    "class A: \n",
    "    a=10\n",
    "a=A()\n",
    "a.a"
   ]
  },
  {
   "cell_type": "code",
   "execution_count": 13,
   "id": "8b7d7062",
   "metadata": {},
   "outputs": [
    {
     "data": {
      "text/plain": [
       "20"
      ]
     },
     "execution_count": 13,
     "metadata": {},
     "output_type": "execute_result"
    }
   ],
   "source": [
    "a.a=20\n",
    "a.a"
   ]
  },
  {
   "cell_type": "code",
   "execution_count": 15,
   "id": "1a31a309",
   "metadata": {},
   "outputs": [
    {
     "ename": "AttributeError",
     "evalue": "a",
     "output_type": "error",
     "traceback": [
      "\u001b[1;31m---------------------------------------------------------------------------\u001b[0m",
      "\u001b[1;31mAttributeError\u001b[0m                            Traceback (most recent call last)",
      "\u001b[1;32m~\\AppData\\Local\\Temp/ipykernel_3288/2770623946.py\u001b[0m in \u001b[0;36m<module>\u001b[1;34m\u001b[0m\n\u001b[1;32m----> 1\u001b[1;33m \u001b[1;32mdel\u001b[0m \u001b[0ma\u001b[0m\u001b[1;33m.\u001b[0m\u001b[0ma\u001b[0m\u001b[1;33m\u001b[0m\u001b[1;33m\u001b[0m\u001b[0m\n\u001b[0m\u001b[0;32m      2\u001b[0m \u001b[0ma\u001b[0m\u001b[1;33m.\u001b[0m\u001b[0ma\u001b[0m\u001b[1;33m\u001b[0m\u001b[1;33m\u001b[0m\u001b[0m\n",
      "\u001b[1;31mAttributeError\u001b[0m: a"
     ]
    }
   ],
   "source": [
    "del a.a\n",
    "a.a"
   ]
  },
  {
   "cell_type": "code",
   "execution_count": 17,
   "id": "14f58675",
   "metadata": {},
   "outputs": [
    {
     "ename": "NameError",
     "evalue": "name 'a' is not defined",
     "output_type": "error",
     "traceback": [
      "\u001b[1;31m---------------------------------------------------------------------------\u001b[0m",
      "\u001b[1;31mNameError\u001b[0m                                 Traceback (most recent call last)",
      "\u001b[1;32m~\\AppData\\Local\\Temp/ipykernel_3288/2359252141.py\u001b[0m in \u001b[0;36m<module>\u001b[1;34m\u001b[0m\n\u001b[1;32m----> 1\u001b[1;33m \u001b[1;32mdel\u001b[0m \u001b[0ma\u001b[0m\u001b[1;33m\u001b[0m\u001b[1;33m\u001b[0m\u001b[0m\n\u001b[0m\u001b[0;32m      2\u001b[0m \u001b[0ma\u001b[0m\u001b[1;33m.\u001b[0m\u001b[0ma\u001b[0m\u001b[1;33m\u001b[0m\u001b[1;33m\u001b[0m\u001b[0m\n",
      "\u001b[1;31mNameError\u001b[0m: name 'a' is not defined"
     ]
    }
   ],
   "source": [
    "del a\n",
    "a.a\n"
   ]
  },
  {
   "cell_type": "code",
   "execution_count": 19,
   "id": "efda9264",
   "metadata": {},
   "outputs": [
    {
     "name": "stdout",
     "output_type": "stream",
     "text": [
      "B class\n",
      "Calling class A\n",
      "A class\n",
      "10\n"
     ]
    }
   ],
   "source": [
    "class A:\n",
    "    a=10 \n",
    "    def f1(self):\n",
    "        print(\"A class\")\n",
    "class B(A): \n",
    "    def f2(self): \n",
    "        print(\"B class\")\n",
    "        print(\"Calling class A\")\n",
    "        super().f1() \n",
    "        print(super().a)\n",
    "        \n",
    "b=B()\n",
    "b.f2()"
   ]
  },
  {
   "cell_type": "code",
   "execution_count": 24,
   "id": "ce8ff375",
   "metadata": {},
   "outputs": [
    {
     "name": "stdout",
     "output_type": "stream",
     "text": [
      "satvik\n"
     ]
    }
   ],
   "source": [
    "class A: \n",
    "    pass \n",
    "    def __repr__(self): \n",
    "        return \"shree\"\n",
    "    def __str__(self): \n",
    "        return \"satvik\"\n",
    "a=A()\n",
    "print(a)"
   ]
  },
  {
   "cell_type": "code",
   "execution_count": 28,
   "id": "a1f907ab",
   "metadata": {},
   "outputs": [
    {
     "name": "stdout",
     "output_type": "stream",
     "text": [
      "My name is:satvik and my age is:18\n"
     ]
    }
   ],
   "source": [
    "print(\"My name is:{x} and my age is:{y}\".format(x=\"satvik\",y=18))"
   ]
  },
  {
   "cell_type": "code",
   "execution_count": 26,
   "id": "b32bd10d",
   "metadata": {},
   "outputs": [
    {
     "name": "stdout",
     "output_type": "stream",
     "text": [
      "Names is:satvik and age is: 18\n"
     ]
    }
   ],
   "source": [
    "print(\"Names is:%s and age is: %d\" %(\"satvik\",18))"
   ]
  },
  {
   "cell_type": "code",
   "execution_count": 37,
   "id": "90ac5484",
   "metadata": {},
   "outputs": [
    {
     "name": "stdout",
     "output_type": "stream",
     "text": [
      "Your answer is satvik\n"
     ]
    }
   ],
   "source": [
    "name=\"satvik\"\n",
    "print(f\"Your answer is {name}\")"
   ]
  },
  {
   "cell_type": "code",
   "execution_count": 35,
   "id": "3d1a004b",
   "metadata": {},
   "outputs": [
    {
     "name": "stdout",
     "output_type": "stream",
     "text": [
      "Hello, EricYou are 74\n"
     ]
    }
   ],
   "source": [
    "name = \"Eric\"\n",
    "age = 74\n",
    "print(f\"Hello, {name}You are {age}\")"
   ]
  },
  {
   "cell_type": "code",
   "execution_count": 38,
   "id": "85b51137",
   "metadata": {},
   "outputs": [
    {
     "name": "stdout",
     "output_type": "stream",
     "text": [
      "my name is:satvik\n"
     ]
    }
   ],
   "source": [
    "name=\"satvik\"\n",
    "print(f\"my name is:{name}\")"
   ]
  }
 ],
 "metadata": {
  "kernelspec": {
   "display_name": "Python 3 (ipykernel)",
   "language": "python",
   "name": "python3"
  },
  "language_info": {
   "codemirror_mode": {
    "name": "ipython",
    "version": 3
   },
   "file_extension": ".py",
   "mimetype": "text/x-python",
   "name": "python",
   "nbconvert_exporter": "python",
   "pygments_lexer": "ipython3",
   "version": "3.9.7"
  }
 },
 "nbformat": 4,
 "nbformat_minor": 5
}
