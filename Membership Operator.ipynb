{
 "cells": [
  {
   "cell_type": "code",
   "execution_count": 8,
   "id": "269199ec",
   "metadata": {},
   "outputs": [
    {
     "name": "stdout",
     "output_type": "stream",
     "text": [
      "True\n",
      "False\n",
      "False\n",
      "True\n"
     ]
    }
   ],
   "source": [
    "x=[\"Shri\",\"tejas\",\"Prathamesh\",\"nikhil\",\"Gururaj\"]\n",
    "print(\"Gururaj\" in x)\n",
    "print(\"gururaj\" in x)\n",
    "print(\"Shri\" not in x)\n",
    "print(\"gururaj\" not in x)"
   ]
  },
  {
   "cell_type": "code",
   "execution_count": null,
   "id": "c783f4fe",
   "metadata": {},
   "outputs": [],
   "source": []
  }
 ],
 "metadata": {
  "kernelspec": {
   "display_name": "Python 3 (ipykernel)",
   "language": "python",
   "name": "python3"
  },
  "language_info": {
   "codemirror_mode": {
    "name": "ipython",
    "version": 3
   },
   "file_extension": ".py",
   "mimetype": "text/x-python",
   "name": "python",
   "nbconvert_exporter": "python",
   "pygments_lexer": "ipython3",
   "version": "3.9.7"
  }
 },
 "nbformat": 4,
 "nbformat_minor": 5
}
