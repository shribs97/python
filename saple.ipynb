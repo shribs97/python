{
 "cells": [
  {
   "cell_type": "code",
   "execution_count": 6,
   "id": "d4f316d4",
   "metadata": {},
   "outputs": [],
   "source": [
    "a=[10,20]\n",
    "b=a.copy()"
   ]
  },
  {
   "cell_type": "code",
   "execution_count": null,
   "id": "45c05c32",
   "metadata": {},
   "outputs": [],
   "source": []
  },
  {
   "cell_type": "code",
   "execution_count": 8,
   "id": "245c6e39",
   "metadata": {},
   "outputs": [
    {
     "name": "stdout",
     "output_type": "stream",
     "text": [
      "[10, 20, [10, 20]]\n"
     ]
    }
   ],
   "source": [
    "print(b)\n",
    "b.append(10)"
   ]
  },
  {
   "cell_type": "code",
   "execution_count": 7,
   "id": "e495f249",
   "metadata": {},
   "outputs": [],
   "source": [
    "b.append(a)"
   ]
  },
  {
   "cell_type": "code",
   "execution_count": 14,
   "id": "14ce551a",
   "metadata": {},
   "outputs": [],
   "source": [
    "b.insert(0,40)"
   ]
  },
  {
   "cell_type": "code",
   "execution_count": 25,
   "id": "82eb0572",
   "metadata": {},
   "outputs": [
    {
     "ename": "NameError",
     "evalue": "name 'b' is not defined",
     "output_type": "error",
     "traceback": [
      "\u001b[1;31m---------------------------------------------------------------------------\u001b[0m",
      "\u001b[1;31mNameError\u001b[0m                                 Traceback (most recent call last)",
      "\u001b[1;32m~\\AppData\\Local\\Temp/ipykernel_8292/1685013873.py\u001b[0m in \u001b[0;36m<module>\u001b[1;34m\u001b[0m\n\u001b[1;32m----> 1\u001b[1;33m \u001b[0mb\u001b[0m\u001b[1;33m\u001b[0m\u001b[1;33m\u001b[0m\u001b[0m\n\u001b[0m",
      "\u001b[1;31mNameError\u001b[0m: name 'b' is not defined"
     ]
    }
   ],
   "source": [
    "b"
   ]
  },
  {
   "cell_type": "code",
   "execution_count": 24,
   "id": "2ce125bd",
   "metadata": {},
   "outputs": [],
   "source": [
    "del b"
   ]
  },
  {
   "cell_type": "code",
   "execution_count": 22,
   "id": "8663a080",
   "metadata": {},
   "outputs": [],
   "source": [
    "b.clear()"
   ]
  },
  {
   "cell_type": "code",
   "execution_count": 11,
   "id": "1d551e75",
   "metadata": {},
   "outputs": [],
   "source": [
    "b.extend(a)"
   ]
  },
  {
   "cell_type": "code",
   "execution_count": 15,
   "id": "2f0e2c53",
   "metadata": {},
   "outputs": [
    {
     "data": {
      "text/plain": [
       "10"
      ]
     },
     "execution_count": 15,
     "metadata": {},
     "output_type": "execute_result"
    }
   ],
   "source": [
    "b.pop(-1)"
   ]
  },
  {
   "cell_type": "code",
   "execution_count": 17,
   "id": "fee7e926",
   "metadata": {},
   "outputs": [],
   "source": [
    "b.remove(10)"
   ]
  },
  {
   "cell_type": "code",
   "execution_count": 30,
   "id": "8be012ba",
   "metadata": {},
   "outputs": [],
   "source": [
    "t=[10,20,30]"
   ]
  },
  {
   "cell_type": "code",
   "execution_count": 31,
   "id": "120b50ce",
   "metadata": {},
   "outputs": [
    {
     "data": {
      "text/plain": [
       "[10, 20]"
      ]
     },
     "execution_count": 31,
     "metadata": {},
     "output_type": "execute_result"
    }
   ],
   "source": [
    "t[0:2]"
   ]
  },
  {
   "cell_type": "code",
   "execution_count": 33,
   "id": "0b5616c2",
   "metadata": {},
   "outputs": [],
   "source": [
    "b,*a=t"
   ]
  },
  {
   "cell_type": "code",
   "execution_count": 35,
   "id": "52611001",
   "metadata": {},
   "outputs": [
    {
     "data": {
      "text/plain": [
       "10"
      ]
     },
     "execution_count": 35,
     "metadata": {},
     "output_type": "execute_result"
    }
   ],
   "source": [
    "b"
   ]
  },
  {
   "cell_type": "code",
   "execution_count": 36,
   "id": "d42af706",
   "metadata": {},
   "outputs": [
    {
     "data": {
      "text/plain": [
       "1"
      ]
     },
     "execution_count": 36,
     "metadata": {},
     "output_type": "execute_result"
    }
   ],
   "source": [
    "t.count(10)"
   ]
  },
  {
   "cell_type": "code",
   "execution_count": 37,
   "id": "e25f3521",
   "metadata": {},
   "outputs": [
    {
     "data": {
      "text/plain": [
       "30"
      ]
     },
     "execution_count": 37,
     "metadata": {},
     "output_type": "execute_result"
    }
   ],
   "source": [
    "max(t)"
   ]
  },
  {
   "cell_type": "code",
   "execution_count": 38,
   "id": "d5b17853",
   "metadata": {},
   "outputs": [],
   "source": [
    "a=t.copy()"
   ]
  },
  {
   "cell_type": "code",
   "execution_count": 39,
   "id": "03fcb868",
   "metadata": {},
   "outputs": [
    {
     "data": {
      "text/plain": [
       "[10, 20, 30]"
      ]
     },
     "execution_count": 39,
     "metadata": {},
     "output_type": "execute_result"
    }
   ],
   "source": [
    "a"
   ]
  },
  {
   "cell_type": "code",
   "execution_count": 42,
   "id": "553533ce",
   "metadata": {},
   "outputs": [
    {
     "data": {
      "text/plain": [
       "3"
      ]
     },
     "execution_count": 42,
     "metadata": {},
     "output_type": "execute_result"
    }
   ],
   "source": [
    "a.__len__()"
   ]
  },
  {
   "cell_type": "code",
   "execution_count": 44,
   "id": "8db27f2f",
   "metadata": {},
   "outputs": [
    {
     "data": {
      "text/plain": [
       "1"
      ]
     },
     "execution_count": 44,
     "metadata": {},
     "output_type": "execute_result"
    }
   ],
   "source": [
    "a.index(20)"
   ]
  },
  {
   "cell_type": "code",
   "execution_count": 45,
   "id": "d19416bf",
   "metadata": {},
   "outputs": [
    {
     "data": {
      "text/plain": [
       "0"
      ]
     },
     "execution_count": 45,
     "metadata": {},
     "output_type": "execute_result"
    }
   ],
   "source": [
    "l=[10,20,30]\n",
    "l.index(10)"
   ]
  },
  {
   "cell_type": "code",
   "execution_count": 48,
   "id": "a61a3b1c",
   "metadata": {},
   "outputs": [],
   "source": [
    "x=t.__add__(t)"
   ]
  },
  {
   "cell_type": "code",
   "execution_count": 50,
   "id": "5b848a62",
   "metadata": {},
   "outputs": [
    {
     "name": "stdout",
     "output_type": "stream",
     "text": [
      "[10, 20, 30, 10, 20, 30]\n"
     ]
    }
   ],
   "source": [
    "print(x)"
   ]
  },
  {
   "cell_type": "code",
   "execution_count": 78,
   "id": "be2b767c",
   "metadata": {},
   "outputs": [],
   "source": [
    "d={\"key\":\"pair\"}"
   ]
  },
  {
   "cell_type": "code",
   "execution_count": 56,
   "id": "2b031123",
   "metadata": {},
   "outputs": [
    {
     "data": {
      "text/plain": [
       "{'key': 'pair'}"
      ]
     },
     "execution_count": 56,
     "metadata": {},
     "output_type": "execute_result"
    }
   ],
   "source": [
    "d"
   ]
  },
  {
   "cell_type": "code",
   "execution_count": 79,
   "id": "9aa1f4e6",
   "metadata": {},
   "outputs": [],
   "source": [
    "d.update({1:100})"
   ]
  },
  {
   "cell_type": "code",
   "execution_count": 80,
   "id": "3dc818e2",
   "metadata": {},
   "outputs": [
    {
     "data": {
      "text/plain": [
       "{'key': 'pair', 1: 100}"
      ]
     },
     "execution_count": 80,
     "metadata": {},
     "output_type": "execute_result"
    }
   ],
   "source": [
    "d"
   ]
  },
  {
   "cell_type": "code",
   "execution_count": 59,
   "id": "d6d043ea",
   "metadata": {},
   "outputs": [],
   "source": [
    "d.update({4:94})"
   ]
  },
  {
   "cell_type": "code",
   "execution_count": 61,
   "id": "6a65b2f6",
   "metadata": {},
   "outputs": [
    {
     "data": {
      "text/plain": [
       "3"
      ]
     },
     "execution_count": 61,
     "metadata": {},
     "output_type": "execute_result"
    }
   ],
   "source": [
    "d.__len__()"
   ]
  },
  {
   "cell_type": "code",
   "execution_count": 62,
   "id": "7c1f2a2d",
   "metadata": {},
   "outputs": [],
   "source": [
    "d[4]=99"
   ]
  },
  {
   "cell_type": "code",
   "execution_count": 71,
   "id": "24731270",
   "metadata": {},
   "outputs": [],
   "source": [
    "d[95]=99"
   ]
  },
  {
   "cell_type": "code",
   "execution_count": 76,
   "id": "b0ef96a0",
   "metadata": {},
   "outputs": [
    {
     "ename": "NameError",
     "evalue": "name 'd' is not defined",
     "output_type": "error",
     "traceback": [
      "\u001b[1;31m---------------------------------------------------------------------------\u001b[0m",
      "\u001b[1;31mNameError\u001b[0m                                 Traceback (most recent call last)",
      "\u001b[1;32m~\\AppData\\Local\\Temp/ipykernel_8292/3161387801.py\u001b[0m in \u001b[0;36m<module>\u001b[1;34m\u001b[0m\n\u001b[1;32m----> 1\u001b[1;33m \u001b[0md\u001b[0m\u001b[1;33m\u001b[0m\u001b[1;33m\u001b[0m\u001b[0m\n\u001b[0m",
      "\u001b[1;31mNameError\u001b[0m: name 'd' is not defined"
     ]
    }
   ],
   "source": [
    "d"
   ]
  },
  {
   "cell_type": "code",
   "execution_count": 75,
   "id": "5cfbee7c",
   "metadata": {},
   "outputs": [],
   "source": [
    "del d"
   ]
  },
  {
   "cell_type": "code",
   "execution_count": 67,
   "id": "fe643fca",
   "metadata": {},
   "outputs": [
    {
     "data": {
      "text/plain": [
       "99"
      ]
     },
     "execution_count": 67,
     "metadata": {},
     "output_type": "execute_result"
    }
   ],
   "source": [
    "d.pop(95)"
   ]
  },
  {
   "cell_type": "code",
   "execution_count": 68,
   "id": "00f29206",
   "metadata": {},
   "outputs": [
    {
     "data": {
      "text/plain": [
       "(4, 99)"
      ]
     },
     "execution_count": 68,
     "metadata": {},
     "output_type": "execute_result"
    }
   ],
   "source": [
    "d.popitem()"
   ]
  },
  {
   "cell_type": "code",
   "execution_count": 69,
   "id": "2add4a47",
   "metadata": {},
   "outputs": [],
   "source": [
    "d.clear()"
   ]
  },
  {
   "cell_type": "code",
   "execution_count": 81,
   "id": "58cb9510",
   "metadata": {},
   "outputs": [
    {
     "data": {
      "text/plain": [
       "dict_keys(['key', 1])"
      ]
     },
     "execution_count": 81,
     "metadata": {},
     "output_type": "execute_result"
    }
   ],
   "source": [
    "d.keys()"
   ]
  },
  {
   "cell_type": "code",
   "execution_count": 82,
   "id": "b9f8c431",
   "metadata": {},
   "outputs": [
    {
     "data": {
      "text/plain": [
       "dict_values(['pair', 100])"
      ]
     },
     "execution_count": 82,
     "metadata": {},
     "output_type": "execute_result"
    }
   ],
   "source": [
    "d.values()"
   ]
  },
  {
   "cell_type": "code",
   "execution_count": 84,
   "id": "98c8d3af",
   "metadata": {},
   "outputs": [
    {
     "data": {
      "text/plain": [
       "1231.5043202071988"
      ]
     },
     "execution_count": 84,
     "metadata": {},
     "output_type": "execute_result"
    }
   ],
   "source": [
    "from math import pi\n",
    "pi*7*7*8"
   ]
  },
  {
   "cell_type": "code",
   "execution_count": 86,
   "id": "8e409876",
   "metadata": {},
   "outputs": [],
   "source": [
    "from math import *"
   ]
  },
  {
   "cell_type": "code",
   "execution_count": 87,
   "id": "264e27af",
   "metadata": {},
   "outputs": [
    {
     "data": {
      "text/plain": [
       "5.0"
      ]
     },
     "execution_count": 87,
     "metadata": {},
     "output_type": "execute_result"
    }
   ],
   "source": [
    "sqrt(25)"
   ]
  },
  {
   "cell_type": "code",
   "execution_count": 88,
   "id": "b08b095f",
   "metadata": {},
   "outputs": [
    {
     "data": {
      "text/plain": [
       "3.141592653589793"
      ]
     },
     "execution_count": 88,
     "metadata": {},
     "output_type": "execute_result"
    }
   ],
   "source": [
    "import math as m\n",
    "m.pi"
   ]
  },
  {
   "cell_type": "code",
   "execution_count": 89,
   "id": "8cadeec1",
   "metadata": {},
   "outputs": [
    {
     "name": "stdout",
     "output_type": "stream",
     "text": [
      "(10, 20, 30)\n"
     ]
    }
   ],
   "source": [
    "#a=10\n",
    "def x(*a):\n",
    "    print(a)\n",
    "x(10,20,30)\n",
    "    "
   ]
  },
  {
   "cell_type": "code",
   "execution_count": 92,
   "id": "69715406",
   "metadata": {},
   "outputs": [
    {
     "name": "stdout",
     "output_type": "stream",
     "text": [
      "60\n",
      "90\n"
     ]
    }
   ],
   "source": [
    "class x:\n",
    "    def __init__(self,*a):\n",
    "        print(sum(a))\n",
    "m=x(10,20,30)\n",
    "m.__init__(40,50)"
   ]
  },
  {
   "cell_type": "code",
   "execution_count": null,
   "id": "6d1a031d",
   "metadata": {},
   "outputs": [],
   "source": []
  }
 ],
 "metadata": {
  "kernelspec": {
   "display_name": "Python 3 (ipykernel)",
   "language": "python",
   "name": "python3"
  },
  "language_info": {
   "codemirror_mode": {
    "name": "ipython",
    "version": 3
   },
   "file_extension": ".py",
   "mimetype": "text/x-python",
   "name": "python",
   "nbconvert_exporter": "python",
   "pygments_lexer": "ipython3",
   "version": "3.9.7"
  }
 },
 "nbformat": 4,
 "nbformat_minor": 5
}
