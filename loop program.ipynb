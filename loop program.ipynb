{
 "cells": [
  {
   "cell_type": "code",
   "execution_count": 6,
   "id": "ab313c7a",
   "metadata": {},
   "outputs": [
    {
     "name": "stdout",
     "output_type": "stream",
     "text": [
      "0\n",
      "1\n",
      "1\n",
      "2\n",
      "3\n"
     ]
    }
   ],
   "source": [
    "n=5\n",
    "n-=2\n",
    "print(\"0\\n1\")\n",
    "a=0\n",
    "b=1\n",
    "while(n>0):\n",
    "    c=a+b\n",
    "    a,b=b,c\n",
    "    print(c)\n",
    "    n-=1\n",
    "    "
   ]
  },
  {
   "cell_type": "code",
   "execution_count": 12,
   "id": "2e5c6332",
   "metadata": {},
   "outputs": [
    {
     "name": "stdout",
     "output_type": "stream",
     "text": [
      "190\n"
     ]
    }
   ],
   "source": [
    "a=153\n",
    "num=a\n",
    "sum=0\n",
    "while(a>0):\n",
    "    x=a%10\n",
    "    cube=x**3\n",
    "    sum+=cube\n",
    "    a//=10\n",
    "print(sum)\n",
    "if(num==sum):\n",
    "    print(\"you entered Armstrong number\")"
   ]
  },
  {
   "cell_type": "code",
   "execution_count": 17,
   "id": "0003c53d",
   "metadata": {},
   "outputs": [
    {
     "name": "stdout",
     "output_type": "stream",
     "text": [
      "enter a number to calculate factorial6\n",
      "factorial of given number is  720\n"
     ]
    }
   ],
   "source": [
    "def fact(n):\n",
    "    if (n==1):\n",
    "        return 1\n",
    "    else:\n",
    "        return n*fact(n-1)\n",
    "a=int(input(\"enter a number to calculate factorial\"))\n",
    "if(a<0):\n",
    "    print(\"Negative number does not have factorial\")\n",
    "elif(a==0):\n",
    "    print(\"factorial of 0 is 1\")\n",
    "else:\n",
    "    print(\"factorial of given number is \",fact(a))"
   ]
  },
  {
   "cell_type": "code",
   "execution_count": 25,
   "id": "770e98ba",
   "metadata": {},
   "outputs": [
    {
     "name": "stdout",
     "output_type": "stream",
     "text": [
      "151\n",
      "palindrome\n"
     ]
    }
   ],
   "source": [
    "num=151\n",
    "temp=num\n",
    "rev=0\n",
    "while(num>0):\n",
    "    mod=num%10\n",
    "    rev=mod+rev*10\n",
    "    num//=10\n",
    "print(rev)\n",
    "if(temp==rev):\n",
    "    print(\"palindrome\")\n",
    "else:\n",
    "    print(\"Not palindrome\")"
   ]
  },
  {
   "cell_type": "code",
   "execution_count": null,
   "id": "5c37d4fe",
   "metadata": {},
   "outputs": [],
   "source": []
  }
 ],
 "metadata": {
  "kernelspec": {
   "display_name": "Python 3 (ipykernel)",
   "language": "python",
   "name": "python3"
  },
  "language_info": {
   "codemirror_mode": {
    "name": "ipython",
    "version": 3
   },
   "file_extension": ".py",
   "mimetype": "text/x-python",
   "name": "python",
   "nbconvert_exporter": "python",
   "pygments_lexer": "ipython3",
   "version": "3.9.7"
  }
 },
 "nbformat": 4,
 "nbformat_minor": 5
}
