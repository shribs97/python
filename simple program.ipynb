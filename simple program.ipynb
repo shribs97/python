{
 "cells": [
  {
   "cell_type": "code",
   "execution_count": 10,
   "id": "78ee671b",
   "metadata": {},
   "outputs": [
    {
     "name": "stdout",
     "output_type": "stream",
     "text": [
      "Enter year=2019\n",
      "year is not leap\n"
     ]
    }
   ],
   "source": [
    "def leap_year(year):\n",
    "    if(year%4==0):\n",
    "        print(\"year is leap\")\n",
    "    else:\n",
    "        print(\"year is not leap\")\n",
    "year=int(input(\"Enter year=\"))\n",
    "leap_year(year)"
   ]
  },
  {
   "cell_type": "code",
   "execution_count": 16,
   "id": "a73dd375",
   "metadata": {},
   "outputs": [
    {
     "name": "stdout",
     "output_type": "stream",
     "text": [
      "Enter x=2\n",
      "Enter y=3\n",
      "add 5\n",
      "sub -1\n",
      "mul 6\n",
      "div 0.6666666666666666\n"
     ]
    }
   ],
   "source": [
    "def add(x,y):\n",
    "    c=x+y\n",
    "    print(\"add\",c)\n",
    "\n",
    "def sub(x,y):\n",
    "    c=x-y\n",
    "    print(\"sub\",c)\n",
    "    \n",
    "def mul(x,y):\n",
    "    c=x*y\n",
    "    print(\"mul\",c)\n",
    "    \n",
    "def div(x,y):\n",
    "    c=x/y\n",
    "    print(\"div\",c)\n",
    "    \n",
    "x=int(input(\"Enter x=\"))\n",
    "y=int(input(\"Enter y=\"))\n",
    "\n",
    "add(x,y)\n",
    "sub(x,y)\n",
    "mul(x,y)\n",
    "div(x,y)"
   ]
  },
  {
   "cell_type": "code",
   "execution_count": null,
   "id": "f0d30d75",
   "metadata": {},
   "outputs": [],
   "source": []
  },
  {
   "cell_type": "code",
   "execution_count": null,
   "id": "07aa6412",
   "metadata": {},
   "outputs": [],
   "source": []
  },
  {
   "cell_type": "code",
   "execution_count": null,
   "id": "a3dce994",
   "metadata": {},
   "outputs": [],
   "source": []
  }
 ],
 "metadata": {
  "kernelspec": {
   "display_name": "Python 3 (ipykernel)",
   "language": "python",
   "name": "python3"
  },
  "language_info": {
   "codemirror_mode": {
    "name": "ipython",
    "version": 3
   },
   "file_extension": ".py",
   "mimetype": "text/x-python",
   "name": "python",
   "nbconvert_exporter": "python",
   "pygments_lexer": "ipython3",
   "version": "3.9.7"
  }
 },
 "nbformat": 4,
 "nbformat_minor": 5
}
