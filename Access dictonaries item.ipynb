{
 "cells": [
  {
   "cell_type": "code",
   "execution_count": 5,
   "id": "d5ed8a4b",
   "metadata": {},
   "outputs": [
    {
     "name": "stdout",
     "output_type": "stream",
     "text": [
      "96.5\n",
      "Shridatta\n",
      "<class 'float'>\n",
      "dict_keys(['Name', 'rollno', 'marks', 'Branch'])\n"
     ]
    }
   ],
   "source": [
    "d={\n",
    "    \"Name\":\"Shridatta\",\n",
    "    \"rollno\":19305,\n",
    "    \"marks\":96.5,\n",
    "    \"Branch\":\"CO\"\n",
    "}\n",
    "x=d[\"marks\"]\n",
    "print(x)\n",
    "#useing get() method\n",
    "y=d.get(\"Name\")\n",
    "print(y)\n",
    "print(type(x))\n",
    "#keys method to show keys in dictionaries\n",
    "z=d.keys()\n",
    "print(z)"
   ]
  },
  {
   "cell_type": "code",
   "execution_count": 9,
   "id": "c2945e5e",
   "metadata": {},
   "outputs": [
    {
     "name": "stdout",
     "output_type": "stream",
     "text": [
      "keys before change dict_keys(['name', 'rollno', 'marks'])\n",
      "keys after chnage dict_keys(['name', 'rollno', 'marks', 'Branch'])\n",
      "<class 'dict_keys'>\n"
     ]
    }
   ],
   "source": [
    "d={\n",
    "    \"name\":\"Shri\",\n",
    "    \"rollno\":19305,\n",
    "    \"marks\":96.5\n",
    "}\n",
    "x=d.keys()\n",
    "print(\"keys before change\",str(x))\n",
    "d[\"Branch\"]=\"CO\"\n",
    "print(\"keys after chnage\",x)\n",
    "print(type(x))"
   ]
  },
  {
   "cell_type": "code",
   "execution_count": 14,
   "id": "5a94e7b2",
   "metadata": {},
   "outputs": [
    {
     "name": "stdout",
     "output_type": "stream",
     "text": [
      "dict_values(['Shridatta', 19305, 96.5, 'CO'])\n",
      "dict_values(['Shridatta', 19305, 98.0, 'CO'])\n",
      "dict_values(['Shridatta', 19305, 98.0, 'CO', 'satara'])\n"
     ]
    }
   ],
   "source": [
    "d={\n",
    "    \"Name\":\"Shridatta\",\n",
    "    \"rollno\":19305,\n",
    "    \"marks\":96.5,\n",
    "    \"Branch\":\"CO\"\n",
    "}\n",
    "x=d.values()\n",
    "print(x)\n",
    "d[\"marks\"]=98.0\n",
    "print(x)\n",
    "d[\"city\"]=\"satara\"\n",
    "print(x)"
   ]
  },
  {
   "cell_type": "code",
   "execution_count": 16,
   "id": "584a22c7",
   "metadata": {},
   "outputs": [
    {
     "name": "stdout",
     "output_type": "stream",
     "text": [
      "dict_items([('Name', 'Shridatta'), ('rollno', 19305), ('marks', 96.5), ('Branch', 'CO')])\n",
      "dict_items([('Name', 'Shridatta'), ('rollno', 19305), ('marks', 96.5), ('Branch', 'CO'), ('City', 'Satara')])\n"
     ]
    }
   ],
   "source": [
    "#get items\n",
    "d={\n",
    "    \"Name\":\"Shridatta\",\n",
    "    \"rollno\":19305,\n",
    "    \"marks\":96.5,\n",
    "    \"Branch\":\"CO\"\n",
    "}\n",
    "x=d.items()\n",
    "print(x)\n",
    "d[\"City\"]=\"Satara\"\n",
    "print(x)"
   ]
  },
  {
   "cell_type": "code",
   "execution_count": 20,
   "id": "d1161eed",
   "metadata": {},
   "outputs": [
    {
     "name": "stdout",
     "output_type": "stream",
     "text": [
      "yes,'rollno' key exist in d dictonary\n"
     ]
    }
   ],
   "source": [
    "#check if key exist\n",
    "d={\n",
    "    \"Name\":\"Shridatta\",\n",
    "    \"rollno\":19305,\n",
    "    \"marks\":96.5,\n",
    "    \"Branch\":\"CO\"\n",
    "}\n",
    "if \"rollno\" in d:\n",
    "    print(\"yes,'rollno' key exist in d dictonary\")"
   ]
  },
  {
   "cell_type": "code",
   "execution_count": 21,
   "id": "8d14151e",
   "metadata": {},
   "outputs": [
    {
     "name": "stdout",
     "output_type": "stream",
     "text": [
      "77\n"
     ]
    }
   ],
   "source": [
    "l=[10,19,77,54,68,2]\n",
    "maxx=l[0]\n",
    "for i in l:\n",
    "    if(i>maxx):\n",
    "        maxx=i\n",
    "print(maxx)"
   ]
  },
  {
   "cell_type": "code",
   "execution_count": null,
   "id": "00ee0e60",
   "metadata": {},
   "outputs": [],
   "source": []
  }
 ],
 "metadata": {
  "kernelspec": {
   "display_name": "Python 3 (ipykernel)",
   "language": "python",
   "name": "python3"
  },
  "language_info": {
   "codemirror_mode": {
    "name": "ipython",
    "version": 3
   },
   "file_extension": ".py",
   "mimetype": "text/x-python",
   "name": "python",
   "nbconvert_exporter": "python",
   "pygments_lexer": "ipython3",
   "version": "3.9.7"
  }
 },
 "nbformat": 4,
 "nbformat_minor": 5
}
