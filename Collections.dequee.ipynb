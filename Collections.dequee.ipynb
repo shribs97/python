{
 "cells": [
  {
   "cell_type": "code",
   "execution_count": 1,
   "id": "2a082812",
   "metadata": {},
   "outputs": [],
   "source": [
    "from collections import deque\n",
    "d=deque()"
   ]
  },
  {
   "cell_type": "code",
   "execution_count": null,
   "id": "a0f24e22",
   "metadata": {},
   "outputs": [],
   "source": []
  },
  {
   "cell_type": "code",
   "execution_count": 2,
   "id": "c234ad44",
   "metadata": {},
   "outputs": [
    {
     "data": {
      "text/plain": [
       "deque([10])"
      ]
     },
     "execution_count": 2,
     "metadata": {},
     "output_type": "execute_result"
    }
   ],
   "source": [
    "d.append(10)\n",
    "d"
   ]
  },
  {
   "cell_type": "code",
   "execution_count": 5,
   "id": "8672e09c",
   "metadata": {},
   "outputs": [
    {
     "data": {
      "text/plain": [
       "deque([7, 7, 7, 10])"
      ]
     },
     "execution_count": 5,
     "metadata": {},
     "output_type": "execute_result"
    }
   ],
   "source": [
    "d.appendleft(7)\n",
    "d"
   ]
  },
  {
   "cell_type": "code",
   "execution_count": 6,
   "id": "729ac3c3",
   "metadata": {},
   "outputs": [
    {
     "data": {
      "text/plain": [
       "deque([])"
      ]
     },
     "execution_count": 6,
     "metadata": {},
     "output_type": "execute_result"
    }
   ],
   "source": [
    "d.clear()\n",
    "d"
   ]
  },
  {
   "cell_type": "code",
   "execution_count": 8,
   "id": "02897493",
   "metadata": {},
   "outputs": [],
   "source": [
    "d.extend(\"7\")"
   ]
  },
  {
   "cell_type": "code",
   "execution_count": 9,
   "id": "a907b88c",
   "metadata": {},
   "outputs": [
    {
     "data": {
      "text/plain": [
       "deque(['7'])"
      ]
     },
     "execution_count": 9,
     "metadata": {},
     "output_type": "execute_result"
    }
   ],
   "source": [
    "d"
   ]
  },
  {
   "cell_type": "code",
   "execution_count": 10,
   "id": "e58a9b15",
   "metadata": {},
   "outputs": [
    {
     "data": {
      "text/plain": [
       "deque(['4', '8', '5', '7'])"
      ]
     },
     "execution_count": 10,
     "metadata": {},
     "output_type": "execute_result"
    }
   ],
   "source": [
    "d.extendleft(\"584\")\n",
    "d"
   ]
  },
  {
   "cell_type": "code",
   "execution_count": 11,
   "id": "2dbab020",
   "metadata": {},
   "outputs": [
    {
     "data": {
      "text/plain": [
       "1"
      ]
     },
     "execution_count": 11,
     "metadata": {},
     "output_type": "execute_result"
    }
   ],
   "source": [
    "d.count(\"5\")"
   ]
  },
  {
   "cell_type": "code",
   "execution_count": 12,
   "id": "e26c1c38",
   "metadata": {},
   "outputs": [
    {
     "name": "stdout",
     "output_type": "stream",
     "text": [
      "7\n"
     ]
    }
   ],
   "source": [
    "print(d.pop())"
   ]
  },
  {
   "cell_type": "code",
   "execution_count": 13,
   "id": "c1482a77",
   "metadata": {},
   "outputs": [
    {
     "data": {
      "text/plain": [
       "'4'"
      ]
     },
     "execution_count": 13,
     "metadata": {},
     "output_type": "execute_result"
    }
   ],
   "source": [
    "d.popleft()"
   ]
  },
  {
   "cell_type": "code",
   "execution_count": 14,
   "id": "59a83638",
   "metadata": {},
   "outputs": [
    {
     "name": "stdout",
     "output_type": "stream",
     "text": [
      "deque(['8', '5'])\n"
     ]
    }
   ],
   "source": [
    "print(d)"
   ]
  },
  {
   "cell_type": "code",
   "execution_count": 15,
   "id": "d6f54d2a",
   "metadata": {},
   "outputs": [],
   "source": [
    "d.extend(\"8597\")"
   ]
  },
  {
   "cell_type": "code",
   "execution_count": 16,
   "id": "4ebd1594",
   "metadata": {},
   "outputs": [
    {
     "data": {
      "text/plain": [
       "deque(['8', '5', '8', '5', '9', '7'])"
      ]
     },
     "execution_count": 16,
     "metadata": {},
     "output_type": "execute_result"
    }
   ],
   "source": [
    "d"
   ]
  },
  {
   "cell_type": "code",
   "execution_count": 19,
   "id": "5e1c2fb6",
   "metadata": {},
   "outputs": [
    {
     "data": {
      "text/plain": [
       "deque(['8', '5', '8', '5', '9'])"
      ]
     },
     "execution_count": 19,
     "metadata": {},
     "output_type": "execute_result"
    }
   ],
   "source": [
    "d.remove(\"7\")\n",
    "d"
   ]
  },
  {
   "cell_type": "code",
   "execution_count": 20,
   "id": "e7887a46",
   "metadata": {},
   "outputs": [
    {
     "data": {
      "text/plain": [
       "deque(['9', '5', '8', '5', '8'])"
      ]
     },
     "execution_count": 20,
     "metadata": {},
     "output_type": "execute_result"
    }
   ],
   "source": [
    "d.reverse()\n",
    "d"
   ]
  },
  {
   "cell_type": "code",
   "execution_count": 22,
   "id": "f711d0e1",
   "metadata": {},
   "outputs": [
    {
     "data": {
      "text/plain": [
       "deque(['5', '8', '5', '8', '9'])"
      ]
     },
     "execution_count": 22,
     "metadata": {},
     "output_type": "execute_result"
    }
   ],
   "source": [
    "d.rotate(9)\n",
    "d"
   ]
  },
  {
   "cell_type": "code",
   "execution_count": null,
   "id": "fa7837f7",
   "metadata": {},
   "outputs": [],
   "source": [
    "from collections import deque\n",
    "\n",
    "if __name__==\"__main__\":\n",
    "    n=int(input())\n",
    "    d=deque()\n",
    "    \n",
    "    for _ in range(n):\n",
    "        operations, *args=input().split()\n",
    "        getattr(d,operations)(*args)\n",
    "    print(*d)\n"
   ]
  },
  {
   "cell_type": "code",
   "execution_count": 2,
   "id": "2fff0952",
   "metadata": {},
   "outputs": [
    {
     "name": "stdout",
     "output_type": "stream",
     "text": [
      "2 3\n",
      "x**3\n",
      "3\n"
     ]
    }
   ],
   "source": [
    "x,k=input().split()\n",
    "x,k=int(x),int(k)\n",
    "p=input()\n",
    "a=0\n",
    "\n",
    "print(p[3])"
   ]
  },
  {
   "cell_type": "code",
   "execution_count": null,
   "id": "0b6a2ccb",
   "metadata": {},
   "outputs": [],
   "source": [
    "x,k=input().split()\n",
    "x,k=int(x),int(k)\n",
    "p=input()\n",
    "print(eval(p)==k)\n",
    "it take bydefault value of x"
   ]
  },
  {
   "cell_type": "code",
   "execution_count": 1,
   "id": "24aa0c56",
   "metadata": {},
   "outputs": [
    {
     "ename": "TypeError",
     "evalue": "int() argument must be a string, a bytes-like object or a number, not 'method'",
     "output_type": "error",
     "traceback": [
      "\u001b[1;31m---------------------------------------------------------------------------\u001b[0m",
      "\u001b[1;31mTypeError\u001b[0m                                 Traceback (most recent call last)",
      "\u001b[1;32m~\\AppData\\Local\\Temp/ipykernel_16860/4283285448.py\u001b[0m in \u001b[0;36m<module>\u001b[1;34m\u001b[0m\n\u001b[0;32m     21\u001b[0m \u001b[1;33m\u001b[0m\u001b[0m\n\u001b[0;32m     22\u001b[0m \u001b[1;32mif\u001b[0m \u001b[0m__name__\u001b[0m \u001b[1;33m==\u001b[0m \u001b[1;34m\"__main__\"\u001b[0m\u001b[1;33m:\u001b[0m\u001b[1;33m\u001b[0m\u001b[1;33m\u001b[0m\u001b[0m\n\u001b[1;32m---> 23\u001b[1;33m     \u001b[0mmain\u001b[0m\u001b[1;33m(\u001b[0m\u001b[1;33m)\u001b[0m\u001b[1;33m\u001b[0m\u001b[1;33m\u001b[0m\u001b[0m\n\u001b[0m",
      "\u001b[1;32m~\\AppData\\Local\\Temp/ipykernel_16860/4283285448.py\u001b[0m in \u001b[0;36mmain\u001b[1;34m()\u001b[0m\n\u001b[0;32m     10\u001b[0m \u001b[1;32mdef\u001b[0m \u001b[0mmain\u001b[0m\u001b[1;33m(\u001b[0m\u001b[1;33m)\u001b[0m\u001b[1;33m:\u001b[0m\u001b[1;33m\u001b[0m\u001b[1;33m\u001b[0m\u001b[0m\n\u001b[0;32m     11\u001b[0m     \u001b[0ml\u001b[0m\u001b[1;33m=\u001b[0m\u001b[1;33m[\u001b[0m\u001b[1;33m]\u001b[0m\u001b[1;33m\u001b[0m\u001b[1;33m\u001b[0m\u001b[0m\n\u001b[1;32m---> 12\u001b[1;33m     \u001b[0ma\u001b[0m\u001b[1;33m=\u001b[0m\u001b[0mint\u001b[0m\u001b[1;33m(\u001b[0m\u001b[0minput\u001b[0m\u001b[1;33m)\u001b[0m\u001b[1;33m\u001b[0m\u001b[1;33m\u001b[0m\u001b[0m\n\u001b[0m\u001b[0;32m     13\u001b[0m     \u001b[1;32mfor\u001b[0m \u001b[0m_\u001b[0m \u001b[1;32min\u001b[0m \u001b[0mrange\u001b[0m\u001b[1;33m(\u001b[0m\u001b[1;36m0\u001b[0m\u001b[1;33m,\u001b[0m\u001b[0ma\u001b[0m\u001b[1;33m)\u001b[0m\u001b[1;33m:\u001b[0m\u001b[1;33m\u001b[0m\u001b[1;33m\u001b[0m\u001b[0m\n\u001b[0;32m     14\u001b[0m         \u001b[0mt\u001b[0m\u001b[1;33m=\u001b[0m\u001b[0minput\u001b[0m\u001b[1;33m(\u001b[0m\u001b[1;33m)\u001b[0m\u001b[1;33m\u001b[0m\u001b[1;33m\u001b[0m\u001b[0m\n",
      "\u001b[1;31mTypeError\u001b[0m: int() argument must be a string, a bytes-like object or a number, not 'method'"
     ]
    }
   ],
   "source": [
    "import re\n",
    "\n",
    "def isregex(regex):\n",
    "    try:\n",
    "        re.compile(regex)\n",
    "        return True\n",
    "    except re.error:\n",
    "        return False\n",
    "\n",
    "def main():\n",
    "    l=[]\n",
    "    a=int(input)\n",
    "    for _ in range(0,a):\n",
    "        t=input()\n",
    "        x=isregx(t)\n",
    "        \n",
    "        l.append(x)\n",
    "    for i in l:\n",
    "        print(i)\n",
    "        \n",
    "\n",
    "if __name__ == \"__main__\":\n",
    "    main()\n"
   ]
  },
  {
   "cell_type": "code",
   "execution_count": 2,
   "id": "d6f58656",
   "metadata": {},
   "outputs": [
    {
     "name": "stdout",
     "output_type": "stream",
     "text": [
      "2\n",
      ".*\\+\n",
      ".*+\n",
      "True\n",
      "False\n"
     ]
    }
   ],
   "source": [
    "import re\n",
    "\n",
    "def isregex(regex):\n",
    "    try:\n",
    "        re.compile(regex)\n",
    "        return \"True\"\n",
    "    except re.error:\n",
    "        return \"False\"\n",
    "\n",
    "def main():\n",
    "    l=[]\n",
    "    a=int(input())\n",
    "    for _ in range(0,a):\n",
    "        t=input()\n",
    "        x=isregex(t)  # Corrected the function name here\n",
    "        \n",
    "        l.append(x)\n",
    "    for i in l:\n",
    "        print(i)\n",
    "\n",
    "if __name__ == \"__main__\":\n",
    "    main()\n"
   ]
  },
  {
   "cell_type": "code",
   "execution_count": 1,
   "id": "0ee1624d",
   "metadata": {},
   "outputs": [
    {
     "name": "stdout",
     "output_type": "stream",
     "text": [
      "2\n",
      ".*\\+\n",
      "True\n",
      ".*+\n",
      "False\n"
     ]
    }
   ],
   "source": [
    "import re\n",
    "for i in range(int(input())):\n",
    "    try:\n",
    "        re.compile(input())\n",
    "        print(True)\n",
    "    except:\n",
    "        print(False)"
   ]
  },
  {
   "cell_type": "code",
   "execution_count": null,
   "id": "59396d8e",
   "metadata": {},
   "outputs": [],
   "source": [
    "if __name__ == '__main__':\n",
    "    s = input()\n",
    "    print(any(c.isalnum() for c in s))\n",
    "    print(any(c.isalpha() for c in s))\n",
    "    print(any(c.isdigit() for c in s))\n",
    "    print(any(c.islower() for c in s))\n",
    "    print(any(c.isupper() for c in s))"
   ]
  },
  {
   "cell_type": "code",
   "execution_count": 1,
   "id": "72962bdf",
   "metadata": {},
   "outputs": [
    {
     "name": "stdout",
     "output_type": "stream",
     "text": [
      "5\n",
      "1 2 3 4 5 6 7 8\n"
     ]
    },
    {
     "data": {
      "text/plain": [
       "[1, 2, 3, 4, 5]"
      ]
     },
     "execution_count": 1,
     "metadata": {},
     "output_type": "execute_result"
    }
   ],
   "source": [
    "n=int(input())\n",
    "l=list(map(int,input().split()[:n]))\n",
    "l"
   ]
  },
  {
   "cell_type": "code",
   "execution_count": 8,
   "id": "03068380",
   "metadata": {},
   "outputs": [
    {
     "name": "stdout",
     "output_type": "stream",
     "text": [
      "5\n",
      "7 2 1 4 9\n",
      "1 9 2 7 4\n"
     ]
    }
   ],
   "source": [
    "def re(l):\n",
    "    z=[]\n",
    "    m=sorted(l)\n",
    "    x=sorted(l,reverse=True)\n",
    "    z.append(m[0])\n",
    "    for i in range(0,len(l)):\n",
    "        if(m[i] not in z):\n",
    "            z.append(m[i])\n",
    "        if(x[i]not in z):\n",
    "            z.append(x[i])\n",
    "    return z\n",
    "a=int(input())\n",
    "l=list(map(int,input().split()[:a]))\n",
    "print(*re(l))\n"
   ]
  },
  {
   "cell_type": "code",
   "execution_count": 14,
   "id": "40acdf7e",
   "metadata": {},
   "outputs": [
    {
     "name": "stdout",
     "output_type": "stream",
     "text": [
      "50\n",
      "55\n",
      "45\n"
     ]
    }
   ],
   "source": [
    "a,b=int(input()),int(input())\n",
    "sum=0\n",
    "for i in range(a,b+1):\n",
    "    while(i>0):\n",
    "        x=i%10\n",
    "        sum+=x\n",
    "        i//=10\n",
    "print(sum)"
   ]
  },
  {
   "cell_type": "code",
   "execution_count": 4,
   "id": "c01e92e2",
   "metadata": {},
   "outputs": [
    {
     "name": "stdout",
     "output_type": "stream",
     "text": [
      "5\n",
      "2 3 2 6 5\n",
      "3\n"
     ]
    }
   ],
   "source": [
    "n=int(input())\n",
    "l=list(map(int,input().split()[:n]))\n",
    "l.sort()\n",
    "x=l[0]\n",
    "for i in l:\n",
    "    if(i>x):\n",
    "        print(i)\n",
    "        break"
   ]
  },
  {
   "cell_type": "code",
   "execution_count": 38,
   "id": "611c0ae0",
   "metadata": {},
   "outputs": [],
   "source": [
    "a=zip([10,20],[0,1])"
   ]
  },
  {
   "cell_type": "code",
   "execution_count": 39,
   "id": "4cbd8d84",
   "metadata": {},
   "outputs": [
    {
     "name": "stdout",
     "output_type": "stream",
     "text": [
      "10\n",
      "21\n"
     ]
    }
   ],
   "source": [
    "for i in a:\n",
    "    print(sum(i))"
   ]
  },
  {
   "cell_type": "code",
   "execution_count": 42,
   "id": "1495d430",
   "metadata": {},
   "outputs": [
    {
     "name": "stdout",
     "output_type": "stream",
     "text": [
      "2 2\n",
      "10 20\n",
      "30 40\n",
      "40.0\n",
      "60.0\n"
     ]
    }
   ],
   "source": [
    "a,b=input().split()\n",
    "l=[]\n",
    "\n",
    "for i in range(0,int(b)):\n",
    "    x=list(map(float,input().split()[:int(a)]))\n",
    "    l.append(x)\n",
    "\n",
    "\n",
    "    \n",
    "u=zip(*l)\n",
    "for i in u:\n",
    "    print(sum(i))"
   ]
  },
  {
   "cell_type": "code",
   "execution_count": 22,
   "id": "6df0052f",
   "metadata": {},
   "outputs": [
    {
     "name": "stdout",
     "output_type": "stream",
     "text": [
      "{(1, 2, 3)}\n"
     ]
    }
   ],
   "source": [
    "my_set = set()\n",
    "my_list = [1, 2, 3]\n",
    "\n",
    "my_set.add(tuple(my_list))\n",
    "print(my_set)\n"
   ]
  },
  {
   "cell_type": "code",
   "execution_count": 13,
   "id": "345b5e8c",
   "metadata": {},
   "outputs": [
    {
     "name": "stdout",
     "output_type": "stream",
     "text": [
      "5\n",
      "1\n",
      "121\n",
      "12321\n",
      "1234321\n",
      "123454321\n"
     ]
    }
   ],
   "source": [
    "a=int(input())\n",
    "l=[]\n",
    "l.append(1)\n",
    "print(*l)\n",
    "for i in range(2,a+1):\n",
    "    l.append(i)\n",
    "    x=len(l)\n",
    "    for j in range(0,x):\n",
    "        print(l[j],end=\"\")\n",
    "    for k in range(-2,-x-1,-1):\n",
    "        print(l[k],end=\"\")\n",
    "    print() "
   ]
  },
  {
   "cell_type": "code",
   "execution_count": 15,
   "id": "867eadd3",
   "metadata": {},
   "outputs": [
    {
     "name": "stdout",
     "output_type": "stream",
     "text": [
      "5\n",
      "1\n",
      "121\n",
      "12321\n",
      "1234321\n",
      "123454321\n"
     ]
    }
   ],
   "source": [
    "for i in range(1,int(input())+1):\n",
    "    print((pow(10,i)//9)**2)"
   ]
  },
  {
   "cell_type": "code",
   "execution_count": null,
   "id": "fb70ebe1",
   "metadata": {},
   "outputs": [],
   "source": []
  },
  {
   "cell_type": "code",
   "execution_count": 5,
   "id": "004d160c",
   "metadata": {},
   "outputs": [
    {
     "ename": "ImportError",
     "evalue": "cannot import name 'Filters' from 'telegram.ext' (C:\\Users\\shridatta\\anaconda3\\lib\\site-packages\\telegram\\ext\\__init__.py)",
     "output_type": "error",
     "traceback": [
      "\u001b[1;31m---------------------------------------------------------------------------\u001b[0m",
      "\u001b[1;31mImportError\u001b[0m                               Traceback (most recent call last)",
      "\u001b[1;32m~\\AppData\\Local\\Temp/ipykernel_2736/3970691927.py\u001b[0m in \u001b[0;36m<module>\u001b[1;34m\u001b[0m\n\u001b[1;32m----> 1\u001b[1;33m \u001b[1;32mfrom\u001b[0m \u001b[0mtelegram\u001b[0m\u001b[1;33m.\u001b[0m\u001b[0mext\u001b[0m \u001b[1;32mimport\u001b[0m \u001b[0mUpdater\u001b[0m\u001b[1;33m,\u001b[0m \u001b[0mCommandHandler\u001b[0m\u001b[1;33m,\u001b[0m \u001b[0mMessageHandler\u001b[0m\u001b[1;33m,\u001b[0m \u001b[0mFilters\u001b[0m\u001b[1;33m\u001b[0m\u001b[1;33m\u001b[0m\u001b[0m\n\u001b[0m\u001b[0;32m      2\u001b[0m \u001b[1;33m\u001b[0m\u001b[0m\n\u001b[0;32m      3\u001b[0m \u001b[1;33m\u001b[0m\u001b[0m\n\u001b[0;32m      4\u001b[0m \u001b[1;31m# Define a function to handle the /start command\u001b[0m\u001b[1;33m\u001b[0m\u001b[1;33m\u001b[0m\u001b[0m\n\u001b[0;32m      5\u001b[0m \u001b[1;32mdef\u001b[0m \u001b[0mstart\u001b[0m\u001b[1;33m(\u001b[0m\u001b[0mupdate\u001b[0m\u001b[1;33m,\u001b[0m \u001b[0mcontext\u001b[0m\u001b[1;33m)\u001b[0m\u001b[1;33m:\u001b[0m\u001b[1;33m\u001b[0m\u001b[1;33m\u001b[0m\u001b[0m\n",
      "\u001b[1;31mImportError\u001b[0m: cannot import name 'Filters' from 'telegram.ext' (C:\\Users\\shridatta\\anaconda3\\lib\\site-packages\\telegram\\ext\\__init__.py)"
     ]
    }
   ],
   "source": [
    "from telegram.ext import Updater, CommandHandler, MessageHandler, Filters\n",
    "\n",
    "\n",
    "# Define a function to handle the /start command\n",
    "def start(update, context):\n",
    "    update.message.reply_text(\"Hello! I'm your bot.\")\n",
    "\n",
    "# Define a function to handle incoming messages\n",
    "def echo(update, context):\n",
    "    update.message.reply_text(update.message.text)\n",
    "\n",
    "def main():\n",
    "    updater = Updater(\"7019691433:AAFVYncDr6EakykZD_8vHxUP9mqNcHa4d5g\", use_context=True)\n",
    "\n",
    "    dp = updater.dispatcher\n",
    "    dp.add_handler(CommandHandler(\"start\", start))\n",
    "    dp.add_handler(MessageHandler(Filters.text & ~Filters.command, echo))\n",
    "\n",
    "    updater.start_polling()\n",
    "    updater.idle()\n",
    "\n",
    "if __name__ == '__main__':\n",
    "    main()\n"
   ]
  },
  {
   "cell_type": "code",
   "execution_count": 2,
   "id": "5c1d3b41",
   "metadata": {},
   "outputs": [
    {
     "name": "stdout",
     "output_type": "stream",
     "text": [
      "Files created successfully.\n",
      "Signature is invalid. The message may have been altered or the signature is incorrect.\n"
     ]
    }
   ],
   "source": [
    "from cryptography.hazmat.backends import default_backend\n",
    "from cryptography.hazmat.primitives import serialization\n",
    "from cryptography.hazmat.primitives.asymmetric import rsa, padding\n",
    "from cryptography.hazmat.primitives import hashes\n",
    "from cryptography.exceptions import InvalidSignature\n",
    "import os\n",
    "\n",
    "def generate_key_pair():\n",
    "    private_key = rsa.generate_private_key(\n",
    "        public_exponent=65537,\n",
    "        key_size=2048,\n",
    "        backend=default_backend()\n",
    "    )\n",
    "    public_key = private_key.public_key()\n",
    "\n",
    "    # Serialize private key to PEM format\n",
    "    private_key_pem = private_key.private_bytes(\n",
    "        encoding=serialization.Encoding.PEM,\n",
    "        format=serialization.PrivateFormat.PKCS8,\n",
    "        encryption_algorithm=serialization.NoEncryption()\n",
    "    )\n",
    "\n",
    "    # Serialize public key to PEM format\n",
    "    public_key_pem = public_key.public_bytes(\n",
    "        encoding=serialization.Encoding.PEM,\n",
    "        format=serialization.PublicFormat.SubjectPublicKeyInfo\n",
    "    )\n",
    "\n",
    "    return private_key_pem, public_key_pem\n",
    "\n",
    "def write_to_file(data, filename):\n",
    "    with open(filename, 'wb') as f:\n",
    "        f.write(data)\n",
    "\n",
    "def create_files():\n",
    "    private_key_pem, public_key_pem = generate_key_pair()\n",
    "    write_to_file(public_key_pem, 'public_key.pem')\n",
    "\n",
    "    # Assume you have a hashed message\n",
    "    hashed_message = b\"This is a hashed message\"\n",
    "    write_to_file(hashed_message, 'hashed_message.txt')\n",
    "\n",
    "    # Placeholder signature\n",
    "    placeholder_signature = b\"ThisIsAPlaceholderSignature\"\n",
    "    write_to_file(placeholder_signature, 'signature.bin')\n",
    "\n",
    "    print(\"Files created successfully.\")\n",
    "\n",
    "def verify_signature(public_key_file, signature_file, hashed_message_file):\n",
    "    # Read public key from file\n",
    "    with open(public_key_file, 'rb') as f:\n",
    "        public_key_pem = f.read()\n",
    "\n",
    "    public_key = serialization.load_pem_public_key(\n",
    "        public_key_pem,\n",
    "        backend=default_backend()\n",
    "    )\n",
    "\n",
    "    # Read hashed message from file\n",
    "    with open(hashed_message_file, 'rb') as f:\n",
    "        hashed_message = f.read()\n",
    "\n",
    "    # Read signature from file\n",
    "    with open(signature_file, 'rb') as f:\n",
    "        signature = f.read()\n",
    "\n",
    "    try:\n",
    "        public_key.verify(\n",
    "            signature,\n",
    "            hashed_message,\n",
    "            padding.PSS(\n",
    "                mgf=padding.MGF1(hashes.SHA256()),\n",
    "                salt_length=padding.PSS.MAX_LENGTH\n",
    "            ),\n",
    "            hashes.SHA256()\n",
    "        )\n",
    "        print(\"Signature is valid. The message has not been altered.\")\n",
    "    except InvalidSignature:\n",
    "        print(\"Signature is invalid. The message may have been altered or the signature is incorrect.\")\n",
    "\n",
    "# Create necessary files\n",
    "create_files()\n",
    "\n",
    "# Verify signature\n",
    "public_key_file = 'public_key.pem'\n",
    "signature_file = 'signature.bin'\n",
    "hashed_message_file = 'hashed_message.txt'\n",
    "\n",
    "verify_signature(public_key_file, signature_file, hashed_message_file)\n"
   ]
  },
  {
   "cell_type": "code",
   "execution_count": 1,
   "id": "503f1617",
   "metadata": {},
   "outputs": [
    {
     "name": "stdout",
     "output_type": "stream",
     "text": [
      "Files created successfully.\n",
      "Signature is invalid. The message may have been altered or the signature is incorrect.\n"
     ]
    }
   ],
   "source": [
    "from cryptography.hazmat.backends import default_backend\n",
    "from cryptography.hazmat.primitives import serialization\n",
    "from cryptography.hazmat.primitives.asymmetric import rsa, padding\n",
    "from cryptography.hazmat.primitives import hashes\n",
    "from cryptography.exceptions import InvalidSignature\n",
    "import os\n",
    "\n",
    "def generate_key_pair():\n",
    "    private_key = rsa.generate_private_key(\n",
    "        public_exponent=65537,\n",
    "        key_size=2048,\n",
    "        backend=default_backend()\n",
    "    )\n",
    "    public_key = private_key.public_key()\n",
    "\n",
    "    # Serialize private key to PEM format\n",
    "    private_key_pem = private_key.private_bytes(\n",
    "        encoding=serialization.Encoding.PEM,\n",
    "        format=serialization.PrivateFormat.PKCS8,\n",
    "        encryption_algorithm=serialization.NoEncryption()\n",
    "    )\n",
    "\n",
    "    # Serialize public key to PEM format\n",
    "    public_key_pem = public_key.public_bytes(\n",
    "        encoding=serialization.Encoding.PEM,\n",
    "        format=serialization.PublicFormat.SubjectPublicKeyInfo\n",
    "    )\n",
    "\n",
    "    return private_key_pem, public_key_pem\n",
    "\n",
    "def write_to_file(data, filename):\n",
    "    with open(filename, 'wb') as f:\n",
    "        f.write(data)\n",
    "\n",
    "def create_files():\n",
    "    private_key_pem, public_key_pem = generate_key_pair()\n",
    "    public_key_file = 'public_key.pem'\n",
    "    hashed_message_file = 'hashed_message.txt'\n",
    "    signature_file = 'signature.bin'\n",
    "    write_to_file(public_key_pem, public_key_file)\n",
    "\n",
    "    # Assume you have a hashed message\n",
    "    hashed_message = b\"This is a hashed message\"\n",
    "    write_to_file(hashed_message, hashed_message_file)\n",
    "\n",
    "    # Placeholder signature\n",
    "    placeholder_signature = b\"ThisIsAPlaceholderSignature\"\n",
    "    write_to_file(placeholder_signature, signature_file)\n",
    "\n",
    "    print(\"Files created successfully.\")\n",
    "\n",
    "def verify_signature(public_key_file, signature_file, hashed_message_file):\n",
    "    # Read public key from file\n",
    "    with open(public_key_file, 'rb') as f:\n",
    "        public_key_pem = f.read()\n",
    "\n",
    "    public_key = serialization.load_pem_public_key(\n",
    "        public_key_pem,\n",
    "        backend=default_backend()\n",
    "    )\n",
    "\n",
    "    # Read hashed message from file\n",
    "    with open(hashed_message_file, 'rb') as f:\n",
    "        hashed_message = f.read()\n",
    "\n",
    "    # Read signature from file\n",
    "    with open(signature_file, 'rb') as f:\n",
    "        signature = f.read()\n",
    "\n",
    "    try:\n",
    "        public_key.verify(\n",
    "            signature,\n",
    "            hashed_message,\n",
    "            padding.PSS(\n",
    "                mgf=padding.MGF1(hashes.SHA256()),\n",
    "                salt_length=padding.PSS.MAX_LENGTH\n",
    "            ),\n",
    "            hashes.SHA256()\n",
    "        )\n",
    "        print(\"Signature is valid. The message has not been altered.\")\n",
    "    except InvalidSignature:\n",
    "        print(\"Signature is invalid. The message may have been altered or the signature is incorrect.\")\n",
    "\n",
    "# Create necessary files\n",
    "create_files()\n",
    "\n",
    "# Verify signature\n",
    "public_key_file = 'public_key.pem'\n",
    "signature_file = 'signature.bin'\n",
    "hashed_message_file = 'hashed_message.txt'\n",
    "\n",
    "verify_signature(public_key_file, signature_file, hashed_message_file)\n"
   ]
  },
  {
   "cell_type": "code",
   "execution_count": null,
   "id": "5726961e",
   "metadata": {},
   "outputs": [],
   "source": []
  }
 ],
 "metadata": {
  "kernelspec": {
   "display_name": "Python 3 (ipykernel)",
   "language": "python",
   "name": "python3"
  },
  "language_info": {
   "codemirror_mode": {
    "name": "ipython",
    "version": 3
   },
   "file_extension": ".py",
   "mimetype": "text/x-python",
   "name": "python",
   "nbconvert_exporter": "python",
   "pygments_lexer": "ipython3",
   "version": "3.9.7"
  }
 },
 "nbformat": 4,
 "nbformat_minor": 5
}
