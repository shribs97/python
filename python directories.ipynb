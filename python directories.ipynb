{
 "cells": [
  {
   "cell_type": "code",
   "execution_count": 8,
   "id": "7dd8d266",
   "metadata": {
    "scrolled": true
   },
   "outputs": [
    {
     "name": "stdout",
     "output_type": "stream",
     "text": [
      "Enter number=2\n",
      "Enter number=4\n",
      "b is gretor\n"
     ]
    }
   ],
   "source": [
    "a=int(input(\"Enter number=\"))\n",
    "b=int(input(\"Enter number=\"))\n",
    "if(a>=b):\n",
    "    print(\"a is gretor\")\n",
    "else:\n",
    "    print(\"b is gretor\")"
   ]
  },
  {
   "cell_type": "code",
   "execution_count": 12,
   "id": "62c9c29a",
   "metadata": {},
   "outputs": [
    {
     "name": "stdout",
     "output_type": "stream",
     "text": [
      "D:\\\n"
     ]
    }
   ],
   "source": [
    "'''Python directories'''\n",
    "import os\n",
    "from os import path\n",
    "print(os.getcwd())"
   ]
  },
  {
   "cell_type": "code",
   "execution_count": 47,
   "id": "57dae30a",
   "metadata": {},
   "outputs": [],
   "source": [
    "a=os.chdir(\"D:\\\\\")"
   ]
  },
  {
   "cell_type": "code",
   "execution_count": 48,
   "id": "9670eff2",
   "metadata": {},
   "outputs": [
    {
     "name": "stdout",
     "output_type": "stream",
     "text": [
      "['$RECYCLE.BIN', 'IMG_20220311_110834.jpg', 'System Volume Information']\n"
     ]
    }
   ],
   "source": [
    "print(os.listdir())"
   ]
  },
  {
   "cell_type": "code",
   "execution_count": 49,
   "id": "aad8eb42",
   "metadata": {},
   "outputs": [],
   "source": [
    "os.mkdir(\"Shri\")"
   ]
  },
  {
   "cell_type": "code",
   "execution_count": 50,
   "id": "421bd4ad",
   "metadata": {
    "scrolled": true
   },
   "outputs": [
    {
     "data": {
      "text/plain": [
       "True"
      ]
     },
     "execution_count": 50,
     "metadata": {},
     "output_type": "execute_result"
    }
   ],
   "source": [
    "os.path.exists(\"D:\\\\Shri\")"
   ]
  },
  {
   "cell_type": "code",
   "execution_count": 46,
   "id": "989214f3",
   "metadata": {},
   "outputs": [
    {
     "ename": "FileNotFoundError",
     "evalue": "[WinError 2] The system cannot find the file specified: 'Shri' -> 'shri'",
     "output_type": "error",
     "traceback": [
      "\u001b[1;31m---------------------------------------------------------------------------\u001b[0m",
      "\u001b[1;31mFileNotFoundError\u001b[0m                         Traceback (most recent call last)",
      "\u001b[1;32m~\\AppData\\Local\\Temp/ipykernel_6724/3085386802.py\u001b[0m in \u001b[0;36m<module>\u001b[1;34m\u001b[0m\n\u001b[1;32m----> 1\u001b[1;33m \u001b[0mos\u001b[0m\u001b[1;33m.\u001b[0m\u001b[0mrename\u001b[0m\u001b[1;33m(\u001b[0m\u001b[1;34m\"Shri\"\u001b[0m\u001b[1;33m,\u001b[0m\u001b[1;34m\"shri\"\u001b[0m\u001b[1;33m)\u001b[0m\u001b[1;33m\u001b[0m\u001b[1;33m\u001b[0m\u001b[0m\n\u001b[0m",
      "\u001b[1;31mFileNotFoundError\u001b[0m: [WinError 2] The system cannot find the file specified: 'Shri' -> 'shri'"
     ]
    }
   ],
   "source": [
    "os.rename(\"Shri\",\"shri\")"
   ]
  },
  {
   "cell_type": "code",
   "execution_count": 51,
   "id": "5a4e77ea",
   "metadata": {},
   "outputs": [
    {
     "data": {
      "text/plain": [
       "True"
      ]
     },
     "execution_count": 51,
     "metadata": {},
     "output_type": "execute_result"
    }
   ],
   "source": [
    "os.path.isdir(\"shri\")"
   ]
  },
  {
   "cell_type": "code",
   "execution_count": 42,
   "id": "7942006f",
   "metadata": {},
   "outputs": [],
   "source": [
    "os.rmdir(\"shri\")"
   ]
  },
  {
   "cell_type": "code",
   "execution_count": 58,
   "id": "5df444e8",
   "metadata": {},
   "outputs": [],
   "source": [
    "f=open(\"x.cpp\",\"w\")\n",
    "f.close()"
   ]
  },
  {
   "cell_type": "code",
   "execution_count": 59,
   "id": "160ac68c",
   "metadata": {},
   "outputs": [],
   "source": [
    "os.remove(\"x.cpp\")"
   ]
  }
 ],
 "metadata": {
  "kernelspec": {
   "display_name": "Python 3 (ipykernel)",
   "language": "python",
   "name": "python3"
  },
  "language_info": {
   "codemirror_mode": {
    "name": "ipython",
    "version": 3
   },
   "file_extension": ".py",
   "mimetype": "text/x-python",
   "name": "python",
   "nbconvert_exporter": "python",
   "pygments_lexer": "ipython3",
   "version": "3.9.7"
  }
 },
 "nbformat": 4,
 "nbformat_minor": 5
}
