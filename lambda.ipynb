{
 "cells": [
  {
   "cell_type": "code",
   "execution_count": 1,
   "id": "03a7e61d",
   "metadata": {},
   "outputs": [
    {
     "name": "stdout",
     "output_type": "stream",
     "text": [
      "60\n"
     ]
    }
   ],
   "source": [
    "x= lambda a:a+10\n",
    "print(x(50))"
   ]
  },
  {
   "cell_type": "code",
   "execution_count": 7,
   "id": "cc65e297",
   "metadata": {},
   "outputs": [
    {
     "name": "stdout",
     "output_type": "stream",
     "text": [
      "2\n",
      "2\n",
      "2\n",
      "-3\n",
      "8\n",
      "0\n"
     ]
    }
   ],
   "source": [
    "print(2&2)\n",
    "print(2&2)\n",
    "print(2|2)\n",
    "print(~2)\n",
    "print(2<<2)\n",
    "print(2>>2)"
   ]
  },
  {
   "cell_type": "code",
   "execution_count": null,
   "id": "828d599a",
   "metadata": {},
   "outputs": [],
   "source": []
  },
  {
   "cell_type": "code",
   "execution_count": null,
   "id": "eb151934",
   "metadata": {},
   "outputs": [],
   "source": []
  },
  {
   "cell_type": "code",
   "execution_count": 4,
   "id": "65a2dfd7",
   "metadata": {},
   "outputs": [
    {
     "name": "stdout",
     "output_type": "stream",
     "text": [
      "10000000000\n"
     ]
    }
   ],
   "source": [
    "x=lambda a:a**a\n",
    "\n"
   ]
  },
  {
   "cell_type": "code",
   "execution_count": 9,
   "id": "e2ed4aac",
   "metadata": {},
   "outputs": [
    {
     "name": "stdout",
     "output_type": "stream",
     "text": [
      "SHridatta\n"
     ]
    }
   ],
   "source": [
    "x=lambda : print(\"SHridatta\")\n",
    "x()"
   ]
  },
  {
   "cell_type": "code",
   "execution_count": 12,
   "id": "feb2b429",
   "metadata": {},
   "outputs": [
    {
     "name": "stdout",
     "output_type": "stream",
     "text": [
      "100\n"
     ]
    }
   ],
   "source": [
    "def s(x):\n",
    "    return lambda x:x**2\n",
    "shridatta=s(10)\n",
    "print(shridatta(10))"
   ]
  },
  {
   "cell_type": "code",
   "execution_count": 1,
   "id": "7afa250c",
   "metadata": {},
   "outputs": [
    {
     "name": "stdout",
     "output_type": "stream",
     "text": [
      "30\n"
     ]
    }
   ],
   "source": [
    "x=lambda a,b:a+b\n",
    "print(x(10,20))"
   ]
  }
 ],
 "metadata": {
  "kernelspec": {
   "display_name": "Python 3 (ipykernel)",
   "language": "python",
   "name": "python3"
  },
  "language_info": {
   "codemirror_mode": {
    "name": "ipython",
    "version": 3
   },
   "file_extension": ".py",
   "mimetype": "text/x-python",
   "name": "python",
   "nbconvert_exporter": "python",
   "pygments_lexer": "ipython3",
   "version": "3.9.7"
  }
 },
 "nbformat": 4,
 "nbformat_minor": 5
}
