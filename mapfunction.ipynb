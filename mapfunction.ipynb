{
 "cells": [
  {
   "cell_type": "code",
   "execution_count": 3,
   "id": "b6663ead",
   "metadata": {},
   "outputs": [
    {
     "name": "stdout",
     "output_type": "stream",
     "text": [
      "[2, 4, 6, 8]\n"
     ]
    }
   ],
   "source": [
    "def add(n):\n",
    "    return n+n;\n",
    "numbers=(1,2,3,4)\n",
    "result=map(add,numbers)\n",
    "print(list(result))\n"
   ]
  },
  {
   "cell_type": "code",
   "execution_count": 4,
   "id": "53dac961",
   "metadata": {},
   "outputs": [
    {
     "name": "stdout",
     "output_type": "stream",
     "text": [
      "[2, 4, 10, 16, 32]\n"
     ]
    }
   ],
   "source": [
    "num=(1,2,5,8,16)\n",
    "result=map(lambda x:x+x,num)\n",
    "print(list(result))"
   ]
  },
  {
   "cell_type": "code",
   "execution_count": 5,
   "id": "714321c4",
   "metadata": {},
   "outputs": [
    {
     "name": "stdout",
     "output_type": "stream",
     "text": [
      "[['a', 'b', 'c'], ['j', 's', 'p', 'm'], ['r', 's', 'c', 'o', 'e'], ['c', 's', 'b', 's']]\n"
     ]
    }
   ],
   "source": [
    "l=[\"abc\",\"jspm\",\"rscoe\",\"csbs\"]\n",
    "test=list(map(list,l))\n",
    "print(test)"
   ]
  },
  {
   "cell_type": "code",
   "execution_count": 6,
   "id": "8a186676",
   "metadata": {},
   "outputs": [
    {
     "name": "stdout",
     "output_type": "stream",
     "text": [
      "[1, 4, 8, 5, 12, 7, 16, 24]\n"
     ]
    }
   ],
   "source": [
    "def double_even(n):\n",
    "    if n%2==0:\n",
    "        return n*2\n",
    "    else:\n",
    "        return n\n",
    "numbers=1,2,4,5,6,7,8,12\n",
    "res=list(map(double_even,numbers))\n",
    "print(res)"
   ]
  },
  {
   "cell_type": "code",
   "execution_count": 13,
   "id": "455ce0ed",
   "metadata": {},
   "outputs": [
    {
     "name": "stdout",
     "output_type": "stream",
     "text": [
      "4\n",
      "insert 0 10\n",
      "append 15\n",
      "insert 2 1\n",
      "sort\n"
     ]
    }
   ],
   "source": [
    "if __name__=='__main__':\n",
    "    N=int(input())\n",
    "    l=[]\n",
    "    \n",
    "    for _ in range(N):\n",
    "        command= input().split()\n",
    "        \n",
    "        if command[0]==\"insert\":\n",
    "            i,e=map(int,command[1:])\n",
    "            l.insert(i,e)\n",
    "        elif command[0]==\"print\":\n",
    "            print(l)\n",
    "        elif command[0]==\"remove\":\n",
    "            e=int(command[1])\n",
    "            l.remove(e)\n",
    "        elif command[0]==\"append\":\n",
    "            e=int(command[1])\n",
    "            l.append(e)\n",
    "        elif command[0]==\"sort\":\n",
    "            l.sort()\n",
    "        elif command[0]==\"pop\":\n",
    "            l.pop()\n",
    "        elif command[0]==\"reverse\":\n",
    "            l.reverse()\n",
    "        \n",
    "        "
   ]
  },
  {
   "cell_type": "code",
   "execution_count": 14,
   "id": "ca5a36be",
   "metadata": {},
   "outputs": [
    {
     "name": "stdout",
     "output_type": "stream",
     "text": [
      "[1, 10, 15]\n"
     ]
    }
   ],
   "source": [
    "print(l)"
   ]
  },
  {
   "cell_type": "code",
   "execution_count": null,
   "id": "63667856",
   "metadata": {},
   "outputs": [],
   "source": []
  }
 ],
 "metadata": {
  "kernelspec": {
   "display_name": "Python 3 (ipykernel)",
   "language": "python",
   "name": "python3"
  },
  "language_info": {
   "codemirror_mode": {
    "name": "ipython",
    "version": 3
   },
   "file_extension": ".py",
   "mimetype": "text/x-python",
   "name": "python",
   "nbconvert_exporter": "python",
   "pygments_lexer": "ipython3",
   "version": "3.9.7"
  }
 },
 "nbformat": 4,
 "nbformat_minor": 5
}
