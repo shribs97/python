{
 "cells": [
  {
   "cell_type": "code",
   "execution_count": 3,
   "id": "092c49dc",
   "metadata": {},
   "outputs": [
    {
     "name": "stdout",
     "output_type": "stream",
     "text": [
      "[(1, 3), (1, 4), (2, 3), (2, 4)]\n"
     ]
    }
   ],
   "source": [
    "from itertools import product\n",
    "def cf_product(arr1,arr2):\n",
    "    return list(product(arr1,arr2))\n",
    "\n",
    "if __name__==\"__main__\":\n",
    "    arr1=[1,2]\n",
    "    arr2=[3,4]\n",
    "    print(cf_product(arr1,arr2))"
   ]
  },
  {
   "cell_type": "code",
   "execution_count": 7,
   "id": "f8223ac7",
   "metadata": {},
   "outputs": [
    {
     "name": "stdout",
     "output_type": "stream",
     "text": [
      "0 1 1 0\n",
      "1 0 0 1\n",
      "[(0, 1), (0, 0), (0, 0), (0, 1), (1, 1), (1, 0), (1, 0), (1, 1), (1, 1), (1, 0), (1, 0), (1, 1), (0, 1), (0, 0), (0, 0), (0, 1)]\n"
     ]
    }
   ],
   "source": [
    "from itertools import product\n",
    "def cf_product(arr1,arr2):\n",
    "    return list(product(arr1,arr2))\n",
    "\n",
    "if __name__==\"__main__\":\n",
    "    arr1=list(map(int,input().split()))\n",
    "    arr2=list(map(int,input().split()))\n",
    "    print(cf_product(arr1,arr2))"
   ]
  },
  {
   "cell_type": "code",
   "execution_count": null,
   "id": "53a5534b",
   "metadata": {},
   "outputs": [],
   "source": []
  }
 ],
 "metadata": {
  "kernelspec": {
   "display_name": "Python 3 (ipykernel)",
   "language": "python",
   "name": "python3"
  },
  "language_info": {
   "codemirror_mode": {
    "name": "ipython",
    "version": 3
   },
   "file_extension": ".py",
   "mimetype": "text/x-python",
   "name": "python",
   "nbconvert_exporter": "python",
   "pygments_lexer": "ipython3",
   "version": "3.9.7"
  }
 },
 "nbformat": 4,
 "nbformat_minor": 5
}
