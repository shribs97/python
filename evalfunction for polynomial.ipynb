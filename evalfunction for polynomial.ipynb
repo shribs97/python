{
 "cells": [
  {
   "cell_type": "code",
   "execution_count": null,
   "id": "b9a42cd7",
   "metadata": {},
   "outputs": [],
   "source": [
    "x,k=input().split()\n",
    "x,k=int(x),int(k)\n",
    "p=input()\n",
    "print(eval(p)==k)\n",
    "it take bydefault value of x"
   ]
  }
 ],
 "metadata": {
  "kernelspec": {
   "display_name": "Python 3 (ipykernel)",
   "language": "python",
   "name": "python3"
  },
  "language_info": {
   "codemirror_mode": {
    "name": "ipython",
    "version": 3
   },
   "file_extension": ".py",
   "mimetype": "text/x-python",
   "name": "python",
   "nbconvert_exporter": "python",
   "pygments_lexer": "ipython3",
   "version": "3.9.7"
  }
 },
 "nbformat": 4,
 "nbformat_minor": 5
}
