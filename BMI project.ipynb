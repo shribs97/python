{
 "cells": [
  {
   "cell_type": "markdown",
   "id": "184d4c2e",
   "metadata": {},
   "source": [
    "# Height=float(input(\"Enter your height in centimeters: \"))\n",
    "Weight=float(input(\"Enter your Weight in Kg: \"))\n",
    "Height = Height/100\n",
    "BMI=Weight/(Height*Height)\n",
    "print(\"your Body Mass Index is: \",BMI)\n",
    "if(BMI>0):\n",
    "\tif(BMI<=16):\n",
    "\t\tprint(\"you are severely underweight\")\n",
    "\telif(BMI<=18.5):\n",
    "\t\tprint(\"you are underweight\")\n",
    "\telif(BMI<=25):\n",
    "\t\tprint(\"you are Healthy\")\n",
    "\telif(BMI<=30):\n",
    "\t\tprint(\"you are overweight\")\n",
    "\telse: print(\"you are severely overweight\")\n",
    "else:(\"enter valid details\")"
   ]
  },
  {
   "cell_type": "code",
   "execution_count": null,
   "id": "ba7ab51c",
   "metadata": {},
   "outputs": [],
   "source": [
    "from tkinter import *\n",
    "import requests as x\n",
    "top=Tk()\n",
    "top.geometry(\"700x500\")\n",
    "top.title(\"BMI calculator\")\n",
    "top.configure(bg=\"#C52233\")\n",
    "l1=Label(top,text=\"BMI calculator\",fg=\"white\",bg=\"#C52233\",font=30)\n",
    "l1.place(x=50,y=60)\n",
    "l1.config(font=('Helvetica bold',40))\n",
    "Label(top,text=\"Enter Height in cm\",fg=\"white\",bg=\"#C52233\",font=20).place(x=50,y=170)\n",
    "\n",
    "#Entry\n",
    "title=Entry(top,width=20,font=\"arial 15\")\n",
    "title.place(x=50,y=200)\n",
    "\n",
    "#label\n",
    "Label(top,text=\"Enter Weight in kg\",fg=\"white\",bg=\"#C52233\",font=20).place(x=50,y=240)\n",
    "\n",
    "#Entry\n",
    "content=Entry(top,width=\"10\",text=\"Content\",font=\"arial 15\")\n",
    "content.place(x=50,y=270)\n",
    "\n",
    "def call():\n",
    "    Height=int(title.get())\n",
    "    Weight=int(content.get())\n",
    "    Height = Height/100\n",
    "    BMI=Weight/(Height*Height)\n",
    "    a=\"your Body Mass Index is: \"+str(BMI)\n",
    "    \n",
    "    if(BMI>0):\n",
    "        if(BMI<=16):\n",
    "            b=\"you are severely underweight\"\n",
    "        elif(BMI<=18.5):\n",
    "            b=\"you are underweight\"\n",
    "        elif(BMI<=25):\n",
    "            b=\"you are Healthy\"\n",
    "        elif(BMI<=30):\n",
    "            b=\"you are overweight\"\n",
    "        else: b=\"you are severely overweight\"\n",
    "    else:\n",
    "        b=\"enter valid details\"\n",
    "        pass\n",
    "    Label(top,text=a,fg=\"white\",bg=\"#C52233\",font=20).place(x=50,y=400)\n",
    "    Label(top,text=b,fg=\"white\",bg=\"#C52233\",font=20).place(x=50,y=450)\n",
    "#Button\n",
    "Button(top, text = \" Enter \" ,width=20,height=2,fg=\"white\",bg=\"black\" ,command=call).place(x=50,y=340)\n",
    "\n",
    "\n",
    "    \n",
    "\n",
    "top.mainloop()\n"
   ]
  },
  {
   "cell_type": "markdown",
   "id": "391f0410",
   "metadata": {},
   "source": [
    "# "
   ]
  },
  {
   "cell_type": "code",
   "execution_count": null,
   "id": "bbf12c37",
   "metadata": {},
   "outputs": [],
   "source": []
  },
  {
   "cell_type": "code",
   "execution_count": null,
   "id": "8c4c9141",
   "metadata": {},
   "outputs": [],
   "source": []
  },
  {
   "cell_type": "code",
   "execution_count": null,
   "id": "dc01b0b8",
   "metadata": {},
   "outputs": [],
   "source": []
  }
 ],
 "metadata": {
  "kernelspec": {
   "display_name": "Python 3 (ipykernel)",
   "language": "python",
   "name": "python3"
  },
  "language_info": {
   "codemirror_mode": {
    "name": "ipython",
    "version": 3
   },
   "file_extension": ".py",
   "mimetype": "text/x-python",
   "name": "python",
   "nbconvert_exporter": "python",
   "pygments_lexer": "ipython3",
   "version": "3.9.7"
  }
 },
 "nbformat": 4,
 "nbformat_minor": 5
}
