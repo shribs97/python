{
 "cells": [
  {
   "cell_type": "code",
   "execution_count": 4,
   "id": "64a3014f",
   "metadata": {},
   "outputs": [
    {
     "name": "stdout",
     "output_type": "stream",
     "text": [
      "['apple', 'banana', 'cherry', 'Queen']\n",
      "['SHridatta', 'apple', 'banana', 'cherry', 'Queen']\n"
     ]
    }
   ],
   "source": [
    "#append()\n",
    "list1=[\"apple\",\"banana\",\"cherry\"]\n",
    "list1.append(\"Queen\")\n",
    "print(list1)\n",
    "#insert element at specific index\n",
    "list1.insert(0,\"SHridatta\")\n",
    "print(list1)"
   ]
  },
  {
   "cell_type": "code",
   "execution_count": 6,
   "id": "ba5ca3ab",
   "metadata": {},
   "outputs": [
    {
     "name": "stdout",
     "output_type": "stream",
     "text": [
      "['Apple', 'Banana', 'cherry', 'mango', 'pineapple', 'papaya']\n"
     ]
    }
   ],
   "source": [
    "#extend\n",
    "list1=[\"Apple\",\"Banana\",\"cherry\"]\n",
    "list2=[\"mango\",\"pineapple\",\"papaya\"]\n",
    "list1.extend(list2)\n",
    "print(list1)"
   ]
  },
  {
   "cell_type": "code",
   "execution_count": 9,
   "id": "66a23d93",
   "metadata": {},
   "outputs": [
    {
     "name": "stdout",
     "output_type": "stream",
     "text": [
      "<class 'list'>\n",
      "<class 'tuple'>\n",
      "['Apple', 'Banana', 'cherry', 'mango', 'Orange']\n"
     ]
    }
   ],
   "source": [
    "#add any itrable\n",
    "list1=[\"Apple\",\"Banana\",\"cherry\"]\n",
    "tuple1=(\"mango\",\"Orange\")\n",
    "print(type(list1))\n",
    "print(type(tuple1))\n",
    "list1.extend(tuple1)\n",
    "print(list1)"
   ]
  },
  {
   "cell_type": "code",
   "execution_count": null,
   "id": "8fa9d9db",
   "metadata": {},
   "outputs": [],
   "source": []
  }
 ],
 "metadata": {
  "kernelspec": {
   "display_name": "Python 3 (ipykernel)",
   "language": "python",
   "name": "python3"
  },
  "language_info": {
   "codemirror_mode": {
    "name": "ipython",
    "version": 3
   },
   "file_extension": ".py",
   "mimetype": "text/x-python",
   "name": "python",
   "nbconvert_exporter": "python",
   "pygments_lexer": "ipython3",
   "version": "3.9.7"
  }
 },
 "nbformat": 4,
 "nbformat_minor": 5
}
