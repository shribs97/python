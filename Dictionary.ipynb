{
 "cells": [
  {
   "cell_type": "code",
   "execution_count": 4,
   "id": "959bf5e9",
   "metadata": {},
   "outputs": [
    {
     "name": "stdout",
     "output_type": "stream",
     "text": [
      "{'Name': 'Shridatta', 'City': 'satara', 'class': 'CO6'}\n",
      "3\n"
     ]
    }
   ],
   "source": [
    "disc1={\n",
    "        \"Name\":\"Shridatta\",\n",
    "        \"City\":\"satara\",\n",
    "        \"class\":\"CO6\"\n",
    "    }\n",
    "print(disc1)\n",
    "print(len(disc1))"
   ]
  },
  {
   "cell_type": "code",
   "execution_count": 10,
   "id": "a3c8d9b6",
   "metadata": {},
   "outputs": [
    {
     "name": "stdout",
     "output_type": "stream",
     "text": [
      "{'Name': 'Shridatta', 'City': 'Satara', 'Class': 'co6'}\n",
      "<class 'dict'>\n"
     ]
    }
   ],
   "source": [
    "disc1={\n",
    "        \"Name\":\"Shridatta\",\n",
    "        \"City\":\"Satara\",\n",
    "        \"City\":\"Satara\",\n",
    "        \"Class\":\"co6\"\n",
    "    \n",
    "      }\n",
    "print(disc1)\n",
    "print(type(disc1))"
   ]
  },
  {
   "cell_type": "code",
   "execution_count": 11,
   "id": "7d13e2cf",
   "metadata": {},
   "outputs": [
    {
     "name": "stdout",
     "output_type": "stream",
     "text": [
      "{'Name': 'Shridatta', 'Roll no': 19305, 'Boolean': True, 'List1': ['red', 'green', 'blue']}\n"
     ]
    }
   ],
   "source": [
    "d={\n",
    "    \"Name\":\"Shridatta\",\n",
    "    \"Roll no\":19305,\n",
    "    \"Boolean\":True,\n",
    "    \"List1\":[\"red\",\"green\",\"blue\"]\n",
    "  }\n",
    "print(d)"
   ]
  },
  {
   "cell_type": "code",
   "execution_count": null,
   "id": "4fe2eb41",
   "metadata": {},
   "outputs": [],
   "source": []
  }
 ],
 "metadata": {
  "kernelspec": {
   "display_name": "Python 3 (ipykernel)",
   "language": "python",
   "name": "python3"
  },
  "language_info": {
   "codemirror_mode": {
    "name": "ipython",
    "version": 3
   },
   "file_extension": ".py",
   "mimetype": "text/x-python",
   "name": "python",
   "nbconvert_exporter": "python",
   "pygments_lexer": "ipython3",
   "version": "3.9.7"
  }
 },
 "nbformat": 4,
 "nbformat_minor": 5
}
