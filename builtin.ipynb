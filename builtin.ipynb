{
 "cells": [
  {
   "cell_type": "code",
   "execution_count": 10,
   "id": "1614c20d",
   "metadata": {},
   "outputs": [
    {
     "name": "stdout",
     "output_type": "stream",
     "text": [
      "\n",
      " Python Path \n",
      "  ['C:\\\\Users\\\\shridatta\\\\Python', 'C:\\\\Users\\\\shridatta\\\\anaconda3\\\\python39.zip', 'C:\\\\Users\\\\shridatta\\\\anaconda3\\\\DLLs', 'C:\\\\Users\\\\shridatta\\\\anaconda3\\\\lib', 'C:\\\\Users\\\\shridatta\\\\anaconda3', '', 'C:\\\\Users\\\\shridatta\\\\anaconda3\\\\lib\\\\site-packages', 'C:\\\\Users\\\\shridatta\\\\anaconda3\\\\lib\\\\site-packages\\\\locket-0.2.1-py3.9.egg', 'C:\\\\Users\\\\shridatta\\\\anaconda3\\\\lib\\\\site-packages\\\\win32', 'C:\\\\Users\\\\shridatta\\\\anaconda3\\\\lib\\\\site-packages\\\\win32\\\\lib', 'C:\\\\Users\\\\shridatta\\\\anaconda3\\\\lib\\\\site-packages\\\\Pythonwin', 'C:\\\\Users\\\\shridatta\\\\anaconda3\\\\lib\\\\site-packages\\\\IPython\\\\extensions', 'C:\\\\Users\\\\shridatta\\\\.ipython']\n"
     ]
    }
   ],
   "source": [
    "import sys\n",
    "print(\"\\n Python Path \\n \",sys.path)"
   ]
  },
  {
   "cell_type": "code",
   "execution_count": 14,
   "id": "0d064466",
   "metadata": {},
   "outputs": [
    {
     "name": "stdout",
     "output_type": "stream",
     "text": [
      "PY 3.141592653589793\n"
     ]
    }
   ],
   "source": [
    "import math as a\n",
    "print(\"PY\",a.pi)"
   ]
  },
  {
   "cell_type": "code",
   "execution_count": 15,
   "id": "660515d0",
   "metadata": {},
   "outputs": [
    {
     "name": "stdout",
     "output_type": "stream",
     "text": [
      "3.142857142857143\n"
     ]
    }
   ],
   "source": [
    "a=22/7\n",
    "print(a)\n"
   ]
  },
  {
   "cell_type": "code",
   "execution_count": null,
   "id": "d099a996",
   "metadata": {},
   "outputs": [],
   "source": []
  }
 ],
 "metadata": {
  "kernelspec": {
   "display_name": "Python 3 (ipykernel)",
   "language": "python",
   "name": "python3"
  },
  "language_info": {
   "codemirror_mode": {
    "name": "ipython",
    "version": 3
   },
   "file_extension": ".py",
   "mimetype": "text/x-python",
   "name": "python",
   "nbconvert_exporter": "python",
   "pygments_lexer": "ipython3",
   "version": "3.9.7"
  }
 },
 "nbformat": 4,
 "nbformat_minor": 5
}
