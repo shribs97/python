{
 "cells": [
  {
   "cell_type": "code",
   "execution_count": 7,
   "id": "8504ad47",
   "metadata": {},
   "outputs": [
    {
     "name": "stdout",
     "output_type": "stream",
     "text": [
      "shri\n",
      "sb\n",
      "Shridatta\n",
      "hello f\n"
     ]
    }
   ],
   "source": [
    "print(\"shri\")\n",
    "print('sb')#shri\n",
    "print(\"Shridatta\")\n",
    "\"\"\"print any thing\n",
    "like  you\"\"\"\n",
    "print(\"hello f\")"
   ]
  },
  {
   "cell_type": "code",
   "execution_count": 13,
   "id": "beafeac3",
   "metadata": {},
   "outputs": [
    {
     "name": "stdout",
     "output_type": "stream",
     "text": [
      "<class 'int'> 5\n",
      "<class 'str'> shri\n",
      "<class 'float'> 0.0001\n"
     ]
    }
   ],
   "source": [
    "x=5\n",
    "y='shri'\n",
    "z=0.0001\n",
    "\n",
    "print(type(x),x)\n",
    "print(type(y),y)\n",
    "print(type(z),z)"
   ]
  },
  {
   "cell_type": "code",
   "execution_count": 19,
   "id": "7877fce5",
   "metadata": {},
   "outputs": [
    {
     "name": "stdout",
     "output_type": "stream",
     "text": [
      "5\n",
      "shri\n",
      "2.0\n",
      "<class 'int'> 5\n",
      "<class 'str'> shri\n",
      "<class 'float'> 2.0\n"
     ]
    }
   ],
   "source": [
    "#Assigning multiple value\n",
    "x,y,z=5,\"shri\",2.0\n",
    "print(x)\n",
    "print(y)\n",
    "print(z)\n",
    "print(type(x),x)\n",
    "print(type(y),y)\n",
    "print(type(z),z)"
   ]
  },
  {
   "cell_type": "code",
   "execution_count": 20,
   "id": "6022125d",
   "metadata": {},
   "outputs": [
    {
     "name": "stdout",
     "output_type": "stream",
     "text": [
      "Shridatta\n",
      "Shridatta\n",
      "Shridatta\n"
     ]
    }
   ],
   "source": [
    "# one value to multiple variables\n",
    "x=y=z=\"Shridatta\"\n",
    "print(x)\n",
    "print(y)\n",
    "print(z)"
   ]
  },
  {
   "cell_type": "code",
   "execution_count": 21,
   "id": "3eb94148",
   "metadata": {},
   "outputs": [
    {
     "name": "stdout",
     "output_type": "stream",
     "text": [
      "red\n",
      "green\n",
      "blue\n"
     ]
    }
   ],
   "source": [
    "#unpack exception\n",
    "colour=[\"red\",\"green\",\"blue\"]\n",
    "x,y,z=colour\n",
    "print(x)\n",
    "print(y)\n",
    "print(z)"
   ]
  },
  {
   "cell_type": "code",
   "execution_count": 22,
   "id": "af1a2284",
   "metadata": {},
   "outputs": [
    {
     "name": "stdout",
     "output_type": "stream",
     "text": [
      "5\n",
      "green\n",
      "0.7\n",
      "<class 'int'> 5\n",
      "<class 'str'> green\n",
      "<class 'float'> 0.7\n"
     ]
    }
   ],
   "source": [
    "null=[5,\"green\",0.7]\n",
    "x,y,z=null\n",
    "print(x)\n",
    "print(y)\n",
    "print(z)\n",
    "print(type(x),x)\n",
    "print(type(y),y)\n",
    "print(type(z),z)"
   ]
  },
  {
   "cell_type": "code",
   "execution_count": 24,
   "id": "8afda117",
   "metadata": {},
   "outputs": [
    {
     "name": "stdout",
     "output_type": "stream",
     "text": [
      "Python is awsome\n"
     ]
    },
    {
     "ename": "TypeError",
     "evalue": "unsupported operand type(s) for +: 'int' and 'str'",
     "output_type": "error",
     "traceback": [
      "\u001b[1;31m---------------------------------------------------------------------------\u001b[0m",
      "\u001b[1;31mTypeError\u001b[0m                                 Traceback (most recent call last)",
      "\u001b[1;32m~\\AppData\\Local\\Temp/ipykernel_10184/343053697.py\u001b[0m in \u001b[0;36m<module>\u001b[1;34m\u001b[0m\n\u001b[0;32m      3\u001b[0m \u001b[0mprint\u001b[0m\u001b[1;33m(\u001b[0m\u001b[1;34m\"Python is \"\u001b[0m\u001b[1;33m+\u001b[0m\u001b[0mx\u001b[0m\u001b[1;33m)\u001b[0m\u001b[1;33m\u001b[0m\u001b[1;33m\u001b[0m\u001b[0m\n\u001b[0;32m      4\u001b[0m \u001b[0my\u001b[0m\u001b[1;33m=\u001b[0m\u001b[1;36m7\u001b[0m\u001b[1;33m\u001b[0m\u001b[1;33m\u001b[0m\u001b[0m\n\u001b[1;32m----> 5\u001b[1;33m \u001b[0mprint\u001b[0m\u001b[1;33m(\u001b[0m\u001b[0my\u001b[0m\u001b[1;33m+\u001b[0m\u001b[0mx\u001b[0m\u001b[1;33m)\u001b[0m\u001b[1;33m\u001b[0m\u001b[1;33m\u001b[0m\u001b[0m\n\u001b[0m",
      "\u001b[1;31mTypeError\u001b[0m: unsupported operand type(s) for +: 'int' and 'str'"
     ]
    }
   ],
   "source": [
    "#outpute of variable\n",
    "x=\"awsome\"\n",
    "print(\"Python is \"+x)\n",
    "y=7\n",
    "#print(y+x)"
   ]
  },
  {
   "cell_type": "code",
   "execution_count": 3,
   "id": "54b25de8",
   "metadata": {},
   "outputs": [
    {
     "name": "stdout",
     "output_type": "stream",
     "text": [
      "local x value  10\n",
      "Global x value  5\n"
     ]
    }
   ],
   "source": [
    "#global variable\n",
    "x=5\n",
    "def myfun():\n",
    "    x=10\n",
    "    print(\"local x value \",x)\n",
    "myfun()\n",
    "print(\"Global x value \",x)"
   ]
  },
  {
   "cell_type": "code",
   "execution_count": null,
   "id": "1ff11de9",
   "metadata": {},
   "outputs": [],
   "source": []
  }
 ],
 "metadata": {
  "kernelspec": {
   "display_name": "Python 3 (ipykernel)",
   "language": "python",
   "name": "python3"
  },
  "language_info": {
   "codemirror_mode": {
    "name": "ipython",
    "version": 3
   },
   "file_extension": ".py",
   "mimetype": "text/x-python",
   "name": "python",
   "nbconvert_exporter": "python",
   "pygments_lexer": "ipython3",
   "version": "3.9.7"
  }
 },
 "nbformat": 4,
 "nbformat_minor": 5
}
