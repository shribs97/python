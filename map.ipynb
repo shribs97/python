{
 "cells": [
  {
   "cell_type": "code",
   "execution_count": 5,
   "id": "c3835773",
   "metadata": {},
   "outputs": [
    {
     "name": "stdout",
     "output_type": "stream",
     "text": [
      "[16, 25, 36, 49]\n"
     ]
    },
    {
     "data": {
      "text/plain": [
       "map"
      ]
     },
     "execution_count": 5,
     "metadata": {},
     "output_type": "execute_result"
    }
   ],
   "source": [
    "l=[10,20,30,40]\n",
    "t=4,5,6,7\n",
    "def square(n):\n",
    "    return n*n\n",
    "res=map(square,t)\n",
    "print(list(res))\n",
    "type(res)"
   ]
  },
  {
   "cell_type": "code",
   "execution_count": 14,
   "id": "5f7c4cd6",
   "metadata": {},
   "outputs": [
    {
     "name": "stdout",
     "output_type": "stream",
     "text": [
      "[4, 10, 18, 28]\n"
     ]
    }
   ],
   "source": [
    "l=[1,2,3,4]\n",
    "l1=[4,5,6,7]\n",
    "def x(a,b):\n",
    "    return a*b\n",
    "res=map(x,l,l1)\n",
    "print(list(res))"
   ]
  },
  {
   "cell_type": "code",
   "execution_count": 90,
   "id": "904196f6",
   "metadata": {},
   "outputs": [
    {
     "name": "stdout",
     "output_type": "stream",
     "text": [
      "[10, 12]\n"
     ]
    }
   ],
   "source": [
    "l=[10,11,12,13]\n",
    "def even(a):\n",
    "    if(a%2==0):\n",
    "        return a\n",
    "    else:\n",
    "        return 0\n",
    "    \n",
    "res=filter(even,l)\n",
    "\n",
    "\n",
    "print(list(res))"
   ]
  },
  {
   "cell_type": "code",
   "execution_count": 27,
   "id": "10751fe6",
   "metadata": {},
   "outputs": [
    {
     "name": "stdout",
     "output_type": "stream",
     "text": [
      "28\n"
     ]
    }
   ],
   "source": [
    "r=[1,2,3,4,5,6,7]\n",
    "from functools import reduce\n",
    "res=reduce(lambda x,y:x+y,r)\n",
    "print(int(res))"
   ]
  }
 ],
 "metadata": {
  "kernelspec": {
   "display_name": "Python 3 (ipykernel)",
   "language": "python",
   "name": "python3"
  },
  "language_info": {
   "codemirror_mode": {
    "name": "ipython",
    "version": 3
   },
   "file_extension": ".py",
   "mimetype": "text/x-python",
   "name": "python",
   "nbconvert_exporter": "python",
   "pygments_lexer": "ipython3",
   "version": "3.9.7"
  }
 },
 "nbformat": 4,
 "nbformat_minor": 5
}
