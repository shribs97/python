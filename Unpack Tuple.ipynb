{
 "cells": [
  {
   "cell_type": "code",
   "execution_count": 1,
   "id": "39e0a009",
   "metadata": {},
   "outputs": [
    {
     "name": "stdout",
     "output_type": "stream",
     "text": [
      "apple\n",
      "banana\n",
      "cherry\n"
     ]
    }
   ],
   "source": [
    "fruits=(\"apple\",\"banana\",\"cherry\")\n",
    "a,b,c=fruits\n",
    "print(a)\n",
    "print(b)\n",
    "print(c)"
   ]
  },
  {
   "cell_type": "code",
   "execution_count": 9,
   "id": "a78cfd8a",
   "metadata": {},
   "outputs": [
    {
     "name": "stdout",
     "output_type": "stream",
     "text": [
      "['apple', 'banana', 'cherry', 'mango']\n",
      "orange\n",
      "kewi\n",
      "_______________________************************************__________________________\n",
      "apple\n",
      "['banana', 'cherry', 'mango', 'orange']\n",
      "kewi\n",
      "_______________________************************************__________________________\n",
      "apple\n",
      "banana\n",
      "['cherry', 'mango', 'orange', 'kewi']\n"
     ]
    }
   ],
   "source": [
    "#useing asterisk*\n",
    "fruits=(\"apple\",\"banana\",\"cherry\",\"mango\",\"orange\",\"kewi\")\n",
    "(*a,b,c)=fruits\n",
    "print(a)\n",
    "print(b)\n",
    "print(c)\n",
    "print(\"_______________________************************************__________________________\")\n",
    "(x,*y,z)=fruits\n",
    "print(x)\n",
    "print(y)\n",
    "print(z)\n",
    "print(\"_______________________************************************__________________________\")\n",
    "(p,q,*r)=fruits\n",
    "print(p)\n",
    "print(q)\n",
    "print(r)"
   ]
  },
  {
   "cell_type": "code",
   "execution_count": null,
   "id": "2dae4e0e",
   "metadata": {},
   "outputs": [],
   "source": []
  }
 ],
 "metadata": {
  "kernelspec": {
   "display_name": "Python 3 (ipykernel)",
   "language": "python",
   "name": "python3"
  },
  "language_info": {
   "codemirror_mode": {
    "name": "ipython",
    "version": 3
   },
   "file_extension": ".py",
   "mimetype": "text/x-python",
   "name": "python",
   "nbconvert_exporter": "python",
   "pygments_lexer": "ipython3",
   "version": "3.9.7"
  }
 },
 "nbformat": 4,
 "nbformat_minor": 5
}
