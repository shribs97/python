{
 "cells": [
  {
   "cell_type": "code",
   "execution_count": 1,
   "id": "e7e0099a",
   "metadata": {},
   "outputs": [
    {
     "name": "stdout",
     "output_type": "stream",
     "text": [
      "red\n",
      "green\n",
      "blue\n",
      "yellow\n",
      "Pink\n"
     ]
    }
   ],
   "source": [
    "colour=(\"red\",\"green\",\"blue\",\"yellow\",\"Pink\")\n",
    "for x in colour:\n",
    "    print(x)"
   ]
  },
  {
   "cell_type": "code",
   "execution_count": 5,
   "id": "fe30adfb",
   "metadata": {},
   "outputs": [
    {
     "name": "stdout",
     "output_type": "stream",
     "text": [
      "red\n",
      "green\n",
      "blue\n",
      "yellow\n",
      "Pink\n",
      "---------------***********************---------------\n",
      "red\n",
      "green\n",
      "blue\n",
      "yellow\n",
      "Pink\n"
     ]
    },
    {
     "data": {
      "text/plain": [
       "[None, None, None, None, None]"
      ]
     },
     "execution_count": 5,
     "metadata": {},
     "output_type": "execute_result"
    }
   ],
   "source": [
    "#loop through index\n",
    "colour=(\"red\",\"green\",\"blue\",\"yellow\",\"Pink\")\n",
    "for x in range(len(colour)):\n",
    "    print(colour[x])\n",
    "print(\"---------------***********************---------------\")\n",
    "[print(colour[x]) for x in range(len(colour))]"
   ]
  },
  {
   "cell_type": "code",
   "execution_count": 9,
   "id": "c221b0ef",
   "metadata": {},
   "outputs": [
    {
     "name": "stdout",
     "output_type": "stream",
     "text": [
      "red\n",
      "green\n",
      "blue\n",
      "yellow\n",
      "Pink\n"
     ]
    }
   ],
   "source": [
    "#while loop\n",
    "colour=(\"red\",\"green\",\"blue\",\"yellow\",\"Pink\")\n",
    "x=0\n",
    "while x < len(colour):\n",
    "    print(colour[x])\n",
    "    x+=1"
   ]
  },
  {
   "cell_type": "code",
   "execution_count": null,
   "id": "c2c41ca6",
   "metadata": {},
   "outputs": [],
   "source": []
  }
 ],
 "metadata": {
  "kernelspec": {
   "display_name": "Python 3 (ipykernel)",
   "language": "python",
   "name": "python3"
  },
  "language_info": {
   "codemirror_mode": {
    "name": "ipython",
    "version": 3
   },
   "file_extension": ".py",
   "mimetype": "text/x-python",
   "name": "python",
   "nbconvert_exporter": "python",
   "pygments_lexer": "ipython3",
   "version": "3.9.7"
  }
 },
 "nbformat": 4,
 "nbformat_minor": 5
}
