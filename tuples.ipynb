{
 "cells": [
  {
   "cell_type": "code",
   "execution_count": 4,
   "id": "812cd026",
   "metadata": {},
   "outputs": [
    {
     "name": "stdout",
     "output_type": "stream",
     "text": [
      "('shri', 'sh', 'queen')\n",
      "<class 'tuple'>\n",
      "('shri', 'sb', 'sh', 'king', 'sh')\n",
      "5\n"
     ]
    }
   ],
   "source": [
    "tuple1=(\"shri\",\"sh\",\"queen\")\n",
    "print(tuple1)\n",
    "print(type(tuple1))\n",
    "tuple2=(\"shri\",\"sb\",\"sh\",\"king\",\"sh\")\n",
    "print(tuple2)\n",
    "print(len(tuple2))"
   ]
  },
  {
   "cell_type": "code",
   "execution_count": 6,
   "id": "11868ac4",
   "metadata": {},
   "outputs": [
    {
     "name": "stdout",
     "output_type": "stream",
     "text": [
      "<class 'tuple'>\n",
      "<class 'str'>\n"
     ]
    }
   ],
   "source": [
    "tuple1=(\"shri\",)\n",
    "print(type(tuple1))\n",
    "tuple2=(\"shri\")\n",
    "print(type(tuple2))"
   ]
  },
  {
   "cell_type": "code",
   "execution_count": 7,
   "id": "5f4971e9",
   "metadata": {},
   "outputs": [
    {
     "name": "stdout",
     "output_type": "stream",
     "text": [
      "('shri', 7, 5.65, True, (5+7j)) <class 'tuple'>\n"
     ]
    }
   ],
   "source": [
    "tuple1=(\"shri\",7,5.65,True,5+7j)\n",
    "print(tuple1 ,type(tuple1))"
   ]
  },
  {
   "cell_type": "code",
   "execution_count": 8,
   "id": "8091c787",
   "metadata": {},
   "outputs": [
    {
     "name": "stdout",
     "output_type": "stream",
     "text": [
      "<class 'str'>\n"
     ]
    }
   ],
   "source": [
    "s='s'\n",
    "print(type(s))"
   ]
  },
  {
   "cell_type": "code",
   "execution_count": 9,
   "id": "68a67756",
   "metadata": {},
   "outputs": [
    {
     "name": "stdout",
     "output_type": "stream",
     "text": [
      "('shridatta', 's', 'bhasme') <class 'tuple'>\n"
     ]
    }
   ],
   "source": [
    "#create tuple useing constructor\n",
    "s=tuple((\"shridatta\",\"s\",\"bhasme\"))\n",
    "print(s,type(s))"
   ]
  },
  {
   "cell_type": "code",
   "execution_count": null,
   "id": "5e66502b",
   "metadata": {},
   "outputs": [],
   "source": []
  }
 ],
 "metadata": {
  "kernelspec": {
   "display_name": "Python 3 (ipykernel)",
   "language": "python",
   "name": "python3"
  },
  "language_info": {
   "codemirror_mode": {
    "name": "ipython",
    "version": 3
   },
   "file_extension": ".py",
   "mimetype": "text/x-python",
   "name": "python",
   "nbconvert_exporter": "python",
   "pygments_lexer": "ipython3",
   "version": "3.9.7"
  }
 },
 "nbformat": 4,
 "nbformat_minor": 5
}
